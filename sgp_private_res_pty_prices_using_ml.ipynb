{
 "cells": [
  {
   "cell_type": "markdown",
   "metadata": {},
   "source": [
    "## 1. Import Libraries"
   ]
  },
  {
   "cell_type": "code",
   "execution_count": 100,
   "metadata": {},
   "outputs": [],
   "source": [
    "import numpy as np\n",
    "import pandas as pd\n",
    "from pandas import Series, DataFrame\n",
    "\n",
    "import json\n",
    "import requests\n",
    "\n",
    "import matplotlib.pyplot as plt\n",
    "from matplotlib.ticker import ScalarFormatter, FormatStrFormatter\n",
    "\n",
    "import seaborn as sns\n",
    "sns.set()\n",
    "\n",
    "from tabulate import tabulate\n",
    "%matplotlib inline\n",
    "plt.style.use(\"Solarize_Light2\")"
   ]
  },
  {
   "cell_type": "markdown",
   "metadata": {},
   "source": [
    "## 2. Import the Dataset"
   ]
  },
  {
   "cell_type": "markdown",
   "metadata": {},
   "source": [
    "### Read json file from URA API for Machine Learning Project Dataset"
   ]
  },
  {
   "cell_type": "code",
   "execution_count": 101,
   "metadata": {},
   "outputs": [],
   "source": [
    "# Read json file \n",
    "df = pd.read_json('C:/Users/raufy/Downloads/2.2 Current Work - Project/Proj_5 - Machine Learning/ptd_pty_apr_22.json')\n",
    "#df"
   ]
  },
  {
   "cell_type": "code",
   "execution_count": 102,
   "metadata": {
    "scrolled": true
   },
   "outputs": [],
   "source": [
    "import json\n",
    " \n",
    "# Opening JSON file\n",
    "f = open('C:/Users/raufy/Downloads/2.2 Current Work - Project/Proj_5 - Machine Learning/ptd_pty_apr_22.json')\n",
    " \n",
    "# returns JSON object as a dictionary\n",
    "data = json.load(f)\n",
    "#data\n",
    "\n",
    "#df = pd.DataFrame(data[\"Result\"])\n",
    "#df\n",
    " \n",
    "# Closing file\n",
    "#f.close()"
   ]
  },
  {
   "cell_type": "code",
   "execution_count": 103,
   "metadata": {},
   "outputs": [
    {
     "data": {
      "text/html": [
       "<div>\n",
       "<style scoped>\n",
       "    .dataframe tbody tr th:only-of-type {\n",
       "        vertical-align: middle;\n",
       "    }\n",
       "\n",
       "    .dataframe tbody tr th {\n",
       "        vertical-align: top;\n",
       "    }\n",
       "\n",
       "    .dataframe thead th {\n",
       "        text-align: right;\n",
       "    }\n",
       "</style>\n",
       "<table border=\"1\" class=\"dataframe\">\n",
       "  <thead>\n",
       "    <tr style=\"text-align: right;\">\n",
       "      <th></th>\n",
       "      <th>street</th>\n",
       "      <th>project</th>\n",
       "      <th>transaction</th>\n",
       "      <th>marketSegment</th>\n",
       "      <th>x</th>\n",
       "      <th>y</th>\n",
       "    </tr>\n",
       "  </thead>\n",
       "  <tbody>\n",
       "    <tr>\n",
       "      <th>0</th>\n",
       "      <td>ZEHNDER ROAD</td>\n",
       "      <td>LANDED HOUSING DEVELOPMENT</td>\n",
       "      <td>[{'area': '524.3', 'floorRange': '-', 'noOfUni...</td>\n",
       "      <td>RCR</td>\n",
       "      <td>NaN</td>\n",
       "      <td>NaN</td>\n",
       "    </tr>\n",
       "    <tr>\n",
       "      <th>1</th>\n",
       "      <td>NEO PEE TECK LANE</td>\n",
       "      <td>LANDED HOUSING DEVELOPMENT</td>\n",
       "      <td>[{'area': '159.3', 'floorRange': '-', 'noOfUni...</td>\n",
       "      <td>RCR</td>\n",
       "      <td>NaN</td>\n",
       "      <td>NaN</td>\n",
       "    </tr>\n",
       "    <tr>\n",
       "      <th>2</th>\n",
       "      <td>COVE DRIVE</td>\n",
       "      <td>TURQUOISE</td>\n",
       "      <td>[{'area': '224', 'floorRange': '01-05', 'noOfU...</td>\n",
       "      <td>CCR</td>\n",
       "      <td>28382.47067</td>\n",
       "      <td>25008.33592</td>\n",
       "    </tr>\n",
       "    <tr>\n",
       "      <th>3</th>\n",
       "      <td>BUKIT TERESA ROAD</td>\n",
       "      <td>LANDED HOUSING DEVELOPMENT</td>\n",
       "      <td>[{'area': '178.3', 'floorRange': '-', 'noOfUni...</td>\n",
       "      <td>RCR</td>\n",
       "      <td>NaN</td>\n",
       "      <td>NaN</td>\n",
       "    </tr>\n",
       "    <tr>\n",
       "      <th>4</th>\n",
       "      <td>ALEXANDRA VIEW</td>\n",
       "      <td>ARTRA</td>\n",
       "      <td>[{'area': '77', 'floorRange': '21-25', 'noOfUn...</td>\n",
       "      <td>RCR</td>\n",
       "      <td>26204.50079</td>\n",
       "      <td>30270.56219</td>\n",
       "    </tr>\n",
       "    <tr>\n",
       "      <th>...</th>\n",
       "      <td>...</td>\n",
       "      <td>...</td>\n",
       "      <td>...</td>\n",
       "      <td>...</td>\n",
       "      <td>...</td>\n",
       "      <td>...</td>\n",
       "    </tr>\n",
       "    <tr>\n",
       "      <th>292</th>\n",
       "      <td>COVE GROVE</td>\n",
       "      <td>LANDED HOUSING DEVELOPMENT</td>\n",
       "      <td>[{'area': '903.5', 'floorRange': '-', 'noOfUni...</td>\n",
       "      <td>CCR</td>\n",
       "      <td>NaN</td>\n",
       "      <td>NaN</td>\n",
       "    </tr>\n",
       "    <tr>\n",
       "      <th>293</th>\n",
       "      <td>ALEXANDRA VIEW</td>\n",
       "      <td>THE METROPOLITAN CONDOMINIUM</td>\n",
       "      <td>[{'area': '132', 'floorRange': '16-20', 'noOfU...</td>\n",
       "      <td>RCR</td>\n",
       "      <td>26074.4211</td>\n",
       "      <td>30319.95369</td>\n",
       "    </tr>\n",
       "    <tr>\n",
       "      <th>294</th>\n",
       "      <td>WESTRIDGE WALK</td>\n",
       "      <td>LANDED HOUSING DEVELOPMENT</td>\n",
       "      <td>[{'area': '214.1', 'floorRange': '-', 'noOfUni...</td>\n",
       "      <td>RCR</td>\n",
       "      <td>NaN</td>\n",
       "      <td>NaN</td>\n",
       "    </tr>\n",
       "    <tr>\n",
       "      <th>295</th>\n",
       "      <td>KIM TIAN ROAD</td>\n",
       "      <td>HIGHLINE RESIDENCES</td>\n",
       "      <td>[{'area': '84', 'floorRange': '16-20', 'noOfUn...</td>\n",
       "      <td>RCR</td>\n",
       "      <td>27603.58591</td>\n",
       "      <td>29605.2519</td>\n",
       "    </tr>\n",
       "    <tr>\n",
       "      <th>296</th>\n",
       "      <td>FABER HEIGHTS</td>\n",
       "      <td>FABER CREST</td>\n",
       "      <td>[{'area': '118', 'floorRange': '01-05', 'noOfU...</td>\n",
       "      <td>OCR</td>\n",
       "      <td>19547.85969</td>\n",
       "      <td>33943.45546</td>\n",
       "    </tr>\n",
       "  </tbody>\n",
       "</table>\n",
       "<p>297 rows × 6 columns</p>\n",
       "</div>"
      ],
      "text/plain": [
       "                street                       project  \\\n",
       "0         ZEHNDER ROAD    LANDED HOUSING DEVELOPMENT   \n",
       "1    NEO PEE TECK LANE    LANDED HOUSING DEVELOPMENT   \n",
       "2           COVE DRIVE                     TURQUOISE   \n",
       "3    BUKIT TERESA ROAD    LANDED HOUSING DEVELOPMENT   \n",
       "4       ALEXANDRA VIEW                         ARTRA   \n",
       "..                 ...                           ...   \n",
       "292         COVE GROVE    LANDED HOUSING DEVELOPMENT   \n",
       "293     ALEXANDRA VIEW  THE METROPOLITAN CONDOMINIUM   \n",
       "294     WESTRIDGE WALK    LANDED HOUSING DEVELOPMENT   \n",
       "295      KIM TIAN ROAD           HIGHLINE RESIDENCES   \n",
       "296      FABER HEIGHTS                   FABER CREST   \n",
       "\n",
       "                                           transaction marketSegment  \\\n",
       "0    [{'area': '524.3', 'floorRange': '-', 'noOfUni...           RCR   \n",
       "1    [{'area': '159.3', 'floorRange': '-', 'noOfUni...           RCR   \n",
       "2    [{'area': '224', 'floorRange': '01-05', 'noOfU...           CCR   \n",
       "3    [{'area': '178.3', 'floorRange': '-', 'noOfUni...           RCR   \n",
       "4    [{'area': '77', 'floorRange': '21-25', 'noOfUn...           RCR   \n",
       "..                                                 ...           ...   \n",
       "292  [{'area': '903.5', 'floorRange': '-', 'noOfUni...           CCR   \n",
       "293  [{'area': '132', 'floorRange': '16-20', 'noOfU...           RCR   \n",
       "294  [{'area': '214.1', 'floorRange': '-', 'noOfUni...           RCR   \n",
       "295  [{'area': '84', 'floorRange': '16-20', 'noOfUn...           RCR   \n",
       "296  [{'area': '118', 'floorRange': '01-05', 'noOfU...           OCR   \n",
       "\n",
       "               x            y  \n",
       "0            NaN          NaN  \n",
       "1            NaN          NaN  \n",
       "2    28382.47067  25008.33592  \n",
       "3            NaN          NaN  \n",
       "4    26204.50079  30270.56219  \n",
       "..           ...          ...  \n",
       "292          NaN          NaN  \n",
       "293   26074.4211  30319.95369  \n",
       "294          NaN          NaN  \n",
       "295  27603.58591   29605.2519  \n",
       "296  19547.85969  33943.45546  \n",
       "\n",
       "[297 rows x 6 columns]"
      ]
     },
     "execution_count": 103,
     "metadata": {},
     "output_type": "execute_result"
    }
   ],
   "source": [
    "# Compile the data['Result'] list using json_normalize\n",
    "pd.json_normalize(data['Result'])"
   ]
  },
  {
   "cell_type": "code",
   "execution_count": 104,
   "metadata": {
    "scrolled": true
   },
   "outputs": [
    {
     "data": {
      "text/html": [
       "<div>\n",
       "<style scoped>\n",
       "    .dataframe tbody tr th:only-of-type {\n",
       "        vertical-align: middle;\n",
       "    }\n",
       "\n",
       "    .dataframe tbody tr th {\n",
       "        vertical-align: top;\n",
       "    }\n",
       "\n",
       "    .dataframe thead th {\n",
       "        text-align: right;\n",
       "    }\n",
       "</style>\n",
       "<table border=\"1\" class=\"dataframe\">\n",
       "  <thead>\n",
       "    <tr style=\"text-align: right;\">\n",
       "      <th></th>\n",
       "      <th>area</th>\n",
       "      <th>floorRange</th>\n",
       "      <th>noOfUnits</th>\n",
       "      <th>contractDate</th>\n",
       "      <th>typeOfSale</th>\n",
       "      <th>price</th>\n",
       "      <th>propertyType</th>\n",
       "      <th>district</th>\n",
       "      <th>typeOfArea</th>\n",
       "      <th>tenure</th>\n",
       "      <th>nettPrice</th>\n",
       "      <th>street</th>\n",
       "      <th>project</th>\n",
       "      <th>marketSegment</th>\n",
       "    </tr>\n",
       "  </thead>\n",
       "  <tbody>\n",
       "    <tr>\n",
       "      <th>0</th>\n",
       "      <td>524.3</td>\n",
       "      <td>-</td>\n",
       "      <td>1</td>\n",
       "      <td>0220</td>\n",
       "      <td>3</td>\n",
       "      <td>5500000</td>\n",
       "      <td>Semi-detached</td>\n",
       "      <td>05</td>\n",
       "      <td>Land</td>\n",
       "      <td>Freehold</td>\n",
       "      <td>NaN</td>\n",
       "      <td>ZEHNDER ROAD</td>\n",
       "      <td>LANDED HOUSING DEVELOPMENT</td>\n",
       "      <td>RCR</td>\n",
       "    </tr>\n",
       "    <tr>\n",
       "      <th>1</th>\n",
       "      <td>308</td>\n",
       "      <td>-</td>\n",
       "      <td>1</td>\n",
       "      <td>0918</td>\n",
       "      <td>3</td>\n",
       "      <td>5000000</td>\n",
       "      <td>Semi-detached</td>\n",
       "      <td>05</td>\n",
       "      <td>Land</td>\n",
       "      <td>Freehold</td>\n",
       "      <td>NaN</td>\n",
       "      <td>ZEHNDER ROAD</td>\n",
       "      <td>LANDED HOUSING DEVELOPMENT</td>\n",
       "      <td>RCR</td>\n",
       "    </tr>\n",
       "    <tr>\n",
       "      <th>2</th>\n",
       "      <td>314</td>\n",
       "      <td>-</td>\n",
       "      <td>1</td>\n",
       "      <td>0618</td>\n",
       "      <td>3</td>\n",
       "      <td>4750000</td>\n",
       "      <td>Semi-detached</td>\n",
       "      <td>05</td>\n",
       "      <td>Land</td>\n",
       "      <td>Freehold</td>\n",
       "      <td>NaN</td>\n",
       "      <td>ZEHNDER ROAD</td>\n",
       "      <td>LANDED HOUSING DEVELOPMENT</td>\n",
       "      <td>RCR</td>\n",
       "    </tr>\n",
       "    <tr>\n",
       "      <th>3</th>\n",
       "      <td>308</td>\n",
       "      <td>-</td>\n",
       "      <td>1</td>\n",
       "      <td>0921</td>\n",
       "      <td>3</td>\n",
       "      <td>5200000</td>\n",
       "      <td>Semi-detached</td>\n",
       "      <td>05</td>\n",
       "      <td>Land</td>\n",
       "      <td>Freehold</td>\n",
       "      <td>NaN</td>\n",
       "      <td>ZEHNDER ROAD</td>\n",
       "      <td>LANDED HOUSING DEVELOPMENT</td>\n",
       "      <td>RCR</td>\n",
       "    </tr>\n",
       "    <tr>\n",
       "      <th>4</th>\n",
       "      <td>159.3</td>\n",
       "      <td>-</td>\n",
       "      <td>1</td>\n",
       "      <td>0320</td>\n",
       "      <td>3</td>\n",
       "      <td>2630000</td>\n",
       "      <td>Terrace</td>\n",
       "      <td>05</td>\n",
       "      <td>Land</td>\n",
       "      <td>Freehold</td>\n",
       "      <td>NaN</td>\n",
       "      <td>NEO PEE TECK LANE</td>\n",
       "      <td>LANDED HOUSING DEVELOPMENT</td>\n",
       "      <td>RCR</td>\n",
       "    </tr>\n",
       "  </tbody>\n",
       "</table>\n",
       "</div>"
      ],
      "text/plain": [
       "    area floorRange noOfUnits contractDate typeOfSale    price   propertyType  \\\n",
       "0  524.3          -         1         0220          3  5500000  Semi-detached   \n",
       "1    308          -         1         0918          3  5000000  Semi-detached   \n",
       "2    314          -         1         0618          3  4750000  Semi-detached   \n",
       "3    308          -         1         0921          3  5200000  Semi-detached   \n",
       "4  159.3          -         1         0320          3  2630000        Terrace   \n",
       "\n",
       "  district typeOfArea    tenure nettPrice             street  \\\n",
       "0       05       Land  Freehold       NaN       ZEHNDER ROAD   \n",
       "1       05       Land  Freehold       NaN       ZEHNDER ROAD   \n",
       "2       05       Land  Freehold       NaN       ZEHNDER ROAD   \n",
       "3       05       Land  Freehold       NaN       ZEHNDER ROAD   \n",
       "4       05       Land  Freehold       NaN  NEO PEE TECK LANE   \n",
       "\n",
       "                      project marketSegment  \n",
       "0  LANDED HOUSING DEVELOPMENT           RCR  \n",
       "1  LANDED HOUSING DEVELOPMENT           RCR  \n",
       "2  LANDED HOUSING DEVELOPMENT           RCR  \n",
       "3  LANDED HOUSING DEVELOPMENT           RCR  \n",
       "4  LANDED HOUSING DEVELOPMENT           RCR  "
      ]
     },
     "execution_count": 104,
     "metadata": {},
     "output_type": "execute_result"
    }
   ],
   "source": [
    "# Compile the pty list using json_normalize\n",
    "df_compiled_pty = pd.json_normalize(data['Result'], record_path=['transaction'],\n",
    "                                    meta=['street', 'project', 'marketSegment'])\n",
    "df_compiled_pty.head()"
   ]
  },
  {
   "cell_type": "code",
   "execution_count": 105,
   "metadata": {
    "scrolled": true
   },
   "outputs": [
    {
     "name": "stdout",
     "output_type": "stream",
     "text": [
      "<class 'pandas.core.frame.DataFrame'>\n",
      "RangeIndex: 24744 entries, 0 to 24743\n",
      "Data columns (total 14 columns):\n",
      " #   Column         Non-Null Count  Dtype \n",
      "---  ------         --------------  ----- \n",
      " 0   area           24744 non-null  object\n",
      " 1   floorRange     24744 non-null  object\n",
      " 2   noOfUnits      24744 non-null  object\n",
      " 3   contractDate   24744 non-null  object\n",
      " 4   typeOfSale     24744 non-null  object\n",
      " 5   price          24744 non-null  object\n",
      " 6   propertyType   24744 non-null  object\n",
      " 7   district       24744 non-null  object\n",
      " 8   typeOfArea     24744 non-null  object\n",
      " 9   tenure         24744 non-null  object\n",
      " 10  nettPrice      188 non-null    object\n",
      " 11  street         24744 non-null  object\n",
      " 12  project        24744 non-null  object\n",
      " 13  marketSegment  24744 non-null  object\n",
      "dtypes: object(14)\n",
      "memory usage: 2.6+ MB\n"
     ]
    }
   ],
   "source": [
    "# Print a summary of the dataframe\n",
    "df_compiled_pty.info()"
   ]
  },
  {
   "cell_type": "markdown",
   "metadata": {},
   "source": [
    "### Converting object into float or integers within the dataset"
   ]
  },
  {
   "cell_type": "code",
   "execution_count": 106,
   "metadata": {},
   "outputs": [],
   "source": [
    "# Convert String to float64 - Area\n",
    "df_compiled_pty['area'] = df_compiled_pty['area'].str.replace('%','').astype(np.float64)"
   ]
  },
  {
   "cell_type": "code",
   "execution_count": 107,
   "metadata": {},
   "outputs": [],
   "source": [
    "# Convert String to int32 - Number of Units\n",
    "df_compiled_pty['noOfUnits'] = df_compiled_pty['noOfUnits'].str.replace(',','').astype(int)"
   ]
  },
  {
   "cell_type": "code",
   "execution_count": 108,
   "metadata": {},
   "outputs": [],
   "source": [
    "# Convert String to int32 - typeOfSale       \n",
    "df_compiled_pty['typeOfSale'] = df_compiled_pty['typeOfSale'].str.replace(',','').astype(int)"
   ]
  },
  {
   "cell_type": "code",
   "execution_count": 109,
   "metadata": {},
   "outputs": [],
   "source": [
    "# Convert String to int32 - price                   \n",
    "df_compiled_pty['price'] = df_compiled_pty['price'].str.replace(',','').astype(int)"
   ]
  },
  {
   "cell_type": "code",
   "execution_count": 110,
   "metadata": {},
   "outputs": [],
   "source": [
    "# Convert String to int32 - district                            \n",
    "df_compiled_pty['district'] = df_compiled_pty['district'].str.replace(',','').astype(int)"
   ]
  },
  {
   "cell_type": "code",
   "execution_count": 111,
   "metadata": {
    "scrolled": false
   },
   "outputs": [
    {
     "data": {
      "text/plain": [
       "area             float64\n",
       "floorRange        object\n",
       "noOfUnits          int32\n",
       "contractDate      object\n",
       "typeOfSale         int32\n",
       "price              int32\n",
       "propertyType      object\n",
       "district           int32\n",
       "typeOfArea        object\n",
       "tenure            object\n",
       "nettPrice         object\n",
       "street            object\n",
       "project           object\n",
       "marketSegment     object\n",
       "dtype: object"
      ]
     },
     "execution_count": 111,
     "metadata": {},
     "output_type": "execute_result"
    }
   ],
   "source": [
    "# Print a summary of the dataframe\n",
    "df_compiled_pty.dtypes"
   ]
  },
  {
   "cell_type": "markdown",
   "metadata": {},
   "source": [
    "### Format to month and year for the date"
   ]
  },
  {
   "cell_type": "code",
   "execution_count": 112,
   "metadata": {
    "scrolled": true
   },
   "outputs": [],
   "source": [
    "#format to month and year for the Date of Sale\n",
    "df_compiled_pty['contractDate'] = pd.to_datetime(df_compiled_pty['contractDate'], format='%m%y')"
   ]
  },
  {
   "cell_type": "code",
   "execution_count": 113,
   "metadata": {},
   "outputs": [],
   "source": [
    "# Perform inserting Year into dataframe\n",
    "df_compiled_pty['Year'] = df_compiled_pty['contractDate'].dt.year"
   ]
  },
  {
   "cell_type": "code",
   "execution_count": 114,
   "metadata": {},
   "outputs": [
    {
     "data": {
      "text/html": [
       "<div>\n",
       "<style scoped>\n",
       "    .dataframe tbody tr th:only-of-type {\n",
       "        vertical-align: middle;\n",
       "    }\n",
       "\n",
       "    .dataframe tbody tr th {\n",
       "        vertical-align: top;\n",
       "    }\n",
       "\n",
       "    .dataframe thead th {\n",
       "        text-align: right;\n",
       "    }\n",
       "</style>\n",
       "<table border=\"1\" class=\"dataframe\">\n",
       "  <thead>\n",
       "    <tr style=\"text-align: right;\">\n",
       "      <th></th>\n",
       "      <th>area</th>\n",
       "      <th>floorRange</th>\n",
       "      <th>noOfUnits</th>\n",
       "      <th>contractDate</th>\n",
       "      <th>typeOfSale</th>\n",
       "      <th>price</th>\n",
       "      <th>propertyType</th>\n",
       "      <th>district</th>\n",
       "      <th>typeOfArea</th>\n",
       "      <th>tenure</th>\n",
       "      <th>nettPrice</th>\n",
       "      <th>street</th>\n",
       "      <th>project</th>\n",
       "      <th>marketSegment</th>\n",
       "      <th>Year</th>\n",
       "      <th>Month</th>\n",
       "    </tr>\n",
       "  </thead>\n",
       "  <tbody>\n",
       "    <tr>\n",
       "      <th>0</th>\n",
       "      <td>524.3</td>\n",
       "      <td>-</td>\n",
       "      <td>1</td>\n",
       "      <td>2020-02-01</td>\n",
       "      <td>3</td>\n",
       "      <td>5500000</td>\n",
       "      <td>Semi-detached</td>\n",
       "      <td>5</td>\n",
       "      <td>Land</td>\n",
       "      <td>Freehold</td>\n",
       "      <td>NaN</td>\n",
       "      <td>ZEHNDER ROAD</td>\n",
       "      <td>LANDED HOUSING DEVELOPMENT</td>\n",
       "      <td>RCR</td>\n",
       "      <td>2020</td>\n",
       "      <td>2</td>\n",
       "    </tr>\n",
       "    <tr>\n",
       "      <th>1</th>\n",
       "      <td>308.0</td>\n",
       "      <td>-</td>\n",
       "      <td>1</td>\n",
       "      <td>2018-09-01</td>\n",
       "      <td>3</td>\n",
       "      <td>5000000</td>\n",
       "      <td>Semi-detached</td>\n",
       "      <td>5</td>\n",
       "      <td>Land</td>\n",
       "      <td>Freehold</td>\n",
       "      <td>NaN</td>\n",
       "      <td>ZEHNDER ROAD</td>\n",
       "      <td>LANDED HOUSING DEVELOPMENT</td>\n",
       "      <td>RCR</td>\n",
       "      <td>2018</td>\n",
       "      <td>9</td>\n",
       "    </tr>\n",
       "    <tr>\n",
       "      <th>2</th>\n",
       "      <td>314.0</td>\n",
       "      <td>-</td>\n",
       "      <td>1</td>\n",
       "      <td>2018-06-01</td>\n",
       "      <td>3</td>\n",
       "      <td>4750000</td>\n",
       "      <td>Semi-detached</td>\n",
       "      <td>5</td>\n",
       "      <td>Land</td>\n",
       "      <td>Freehold</td>\n",
       "      <td>NaN</td>\n",
       "      <td>ZEHNDER ROAD</td>\n",
       "      <td>LANDED HOUSING DEVELOPMENT</td>\n",
       "      <td>RCR</td>\n",
       "      <td>2018</td>\n",
       "      <td>6</td>\n",
       "    </tr>\n",
       "    <tr>\n",
       "      <th>3</th>\n",
       "      <td>308.0</td>\n",
       "      <td>-</td>\n",
       "      <td>1</td>\n",
       "      <td>2021-09-01</td>\n",
       "      <td>3</td>\n",
       "      <td>5200000</td>\n",
       "      <td>Semi-detached</td>\n",
       "      <td>5</td>\n",
       "      <td>Land</td>\n",
       "      <td>Freehold</td>\n",
       "      <td>NaN</td>\n",
       "      <td>ZEHNDER ROAD</td>\n",
       "      <td>LANDED HOUSING DEVELOPMENT</td>\n",
       "      <td>RCR</td>\n",
       "      <td>2021</td>\n",
       "      <td>9</td>\n",
       "    </tr>\n",
       "    <tr>\n",
       "      <th>4</th>\n",
       "      <td>159.3</td>\n",
       "      <td>-</td>\n",
       "      <td>1</td>\n",
       "      <td>2020-03-01</td>\n",
       "      <td>3</td>\n",
       "      <td>2630000</td>\n",
       "      <td>Terrace</td>\n",
       "      <td>5</td>\n",
       "      <td>Land</td>\n",
       "      <td>Freehold</td>\n",
       "      <td>NaN</td>\n",
       "      <td>NEO PEE TECK LANE</td>\n",
       "      <td>LANDED HOUSING DEVELOPMENT</td>\n",
       "      <td>RCR</td>\n",
       "      <td>2020</td>\n",
       "      <td>3</td>\n",
       "    </tr>\n",
       "  </tbody>\n",
       "</table>\n",
       "</div>"
      ],
      "text/plain": [
       "    area floorRange  noOfUnits contractDate  typeOfSale    price  \\\n",
       "0  524.3          -          1   2020-02-01           3  5500000   \n",
       "1  308.0          -          1   2018-09-01           3  5000000   \n",
       "2  314.0          -          1   2018-06-01           3  4750000   \n",
       "3  308.0          -          1   2021-09-01           3  5200000   \n",
       "4  159.3          -          1   2020-03-01           3  2630000   \n",
       "\n",
       "    propertyType  district typeOfArea    tenure nettPrice             street  \\\n",
       "0  Semi-detached         5       Land  Freehold       NaN       ZEHNDER ROAD   \n",
       "1  Semi-detached         5       Land  Freehold       NaN       ZEHNDER ROAD   \n",
       "2  Semi-detached         5       Land  Freehold       NaN       ZEHNDER ROAD   \n",
       "3  Semi-detached         5       Land  Freehold       NaN       ZEHNDER ROAD   \n",
       "4        Terrace         5       Land  Freehold       NaN  NEO PEE TECK LANE   \n",
       "\n",
       "                      project marketSegment  Year  Month  \n",
       "0  LANDED HOUSING DEVELOPMENT           RCR  2020      2  \n",
       "1  LANDED HOUSING DEVELOPMENT           RCR  2018      9  \n",
       "2  LANDED HOUSING DEVELOPMENT           RCR  2018      6  \n",
       "3  LANDED HOUSING DEVELOPMENT           RCR  2021      9  \n",
       "4  LANDED HOUSING DEVELOPMENT           RCR  2020      3  "
      ]
     },
     "execution_count": 114,
     "metadata": {},
     "output_type": "execute_result"
    }
   ],
   "source": [
    "# Performing inserting Month into dataframe\n",
    "df_compiled_pty['Month'] = df_compiled_pty['contractDate'].dt.month\n",
    "df_compiled_pty.head()"
   ]
  },
  {
   "cell_type": "markdown",
   "metadata": {},
   "source": [
    "### Sorting the dataset"
   ]
  },
  {
   "cell_type": "code",
   "execution_count": 115,
   "metadata": {
    "scrolled": true
   },
   "outputs": [
    {
     "data": {
      "text/html": [
       "<div>\n",
       "<style scoped>\n",
       "    .dataframe tbody tr th:only-of-type {\n",
       "        vertical-align: middle;\n",
       "    }\n",
       "\n",
       "    .dataframe tbody tr th {\n",
       "        vertical-align: top;\n",
       "    }\n",
       "\n",
       "    .dataframe thead th {\n",
       "        text-align: right;\n",
       "    }\n",
       "</style>\n",
       "<table border=\"1\" class=\"dataframe\">\n",
       "  <thead>\n",
       "    <tr style=\"text-align: right;\">\n",
       "      <th></th>\n",
       "      <th>area</th>\n",
       "      <th>noOfUnits</th>\n",
       "      <th>typeOfSale</th>\n",
       "      <th>price</th>\n",
       "      <th>district</th>\n",
       "      <th>Year</th>\n",
       "      <th>Month</th>\n",
       "    </tr>\n",
       "  </thead>\n",
       "  <tbody>\n",
       "    <tr>\n",
       "      <th>count</th>\n",
       "      <td>24744.000000</td>\n",
       "      <td>24744.000000</td>\n",
       "      <td>24744.000000</td>\n",
       "      <td>2.474400e+04</td>\n",
       "      <td>24744.000000</td>\n",
       "      <td>24744.000000</td>\n",
       "      <td>24744.000000</td>\n",
       "    </tr>\n",
       "    <tr>\n",
       "      <th>mean</th>\n",
       "      <td>104.698335</td>\n",
       "      <td>1.060338</td>\n",
       "      <td>1.683398</td>\n",
       "      <td>1.923132e+06</td>\n",
       "      <td>4.163029</td>\n",
       "      <td>2019.476156</td>\n",
       "      <td>6.547325</td>\n",
       "    </tr>\n",
       "    <tr>\n",
       "      <th>std</th>\n",
       "      <td>559.619772</td>\n",
       "      <td>3.810907</td>\n",
       "      <td>0.942551</td>\n",
       "      <td>8.399551e+06</td>\n",
       "      <td>1.430359</td>\n",
       "      <td>1.502452</td>\n",
       "      <td>3.427499</td>\n",
       "    </tr>\n",
       "    <tr>\n",
       "      <th>min</th>\n",
       "      <td>30.000000</td>\n",
       "      <td>1.000000</td>\n",
       "      <td>1.000000</td>\n",
       "      <td>4.200000e+05</td>\n",
       "      <td>1.000000</td>\n",
       "      <td>2017.000000</td>\n",
       "      <td>1.000000</td>\n",
       "    </tr>\n",
       "    <tr>\n",
       "      <th>25%</th>\n",
       "      <td>61.000000</td>\n",
       "      <td>1.000000</td>\n",
       "      <td>1.000000</td>\n",
       "      <td>1.180000e+06</td>\n",
       "      <td>3.000000</td>\n",
       "      <td>2018.000000</td>\n",
       "      <td>4.000000</td>\n",
       "    </tr>\n",
       "    <tr>\n",
       "      <th>50%</th>\n",
       "      <td>82.000000</td>\n",
       "      <td>1.000000</td>\n",
       "      <td>1.000000</td>\n",
       "      <td>1.490000e+06</td>\n",
       "      <td>5.000000</td>\n",
       "      <td>2020.000000</td>\n",
       "      <td>7.000000</td>\n",
       "    </tr>\n",
       "    <tr>\n",
       "      <th>75%</th>\n",
       "      <td>110.000000</td>\n",
       "      <td>1.000000</td>\n",
       "      <td>3.000000</td>\n",
       "      <td>1.960000e+06</td>\n",
       "      <td>5.000000</td>\n",
       "      <td>2021.000000</td>\n",
       "      <td>9.000000</td>\n",
       "    </tr>\n",
       "    <tr>\n",
       "      <th>max</th>\n",
       "      <td>58460.000000</td>\n",
       "      <td>436.000000</td>\n",
       "      <td>3.000000</td>\n",
       "      <td>8.408889e+08</td>\n",
       "      <td>7.000000</td>\n",
       "      <td>2022.000000</td>\n",
       "      <td>12.000000</td>\n",
       "    </tr>\n",
       "  </tbody>\n",
       "</table>\n",
       "</div>"
      ],
      "text/plain": [
       "               area     noOfUnits    typeOfSale         price      district  \\\n",
       "count  24744.000000  24744.000000  24744.000000  2.474400e+04  24744.000000   \n",
       "mean     104.698335      1.060338      1.683398  1.923132e+06      4.163029   \n",
       "std      559.619772      3.810907      0.942551  8.399551e+06      1.430359   \n",
       "min       30.000000      1.000000      1.000000  4.200000e+05      1.000000   \n",
       "25%       61.000000      1.000000      1.000000  1.180000e+06      3.000000   \n",
       "50%       82.000000      1.000000      1.000000  1.490000e+06      5.000000   \n",
       "75%      110.000000      1.000000      3.000000  1.960000e+06      5.000000   \n",
       "max    58460.000000    436.000000      3.000000  8.408889e+08      7.000000   \n",
       "\n",
       "               Year         Month  \n",
       "count  24744.000000  24744.000000  \n",
       "mean    2019.476156      6.547325  \n",
       "std        1.502452      3.427499  \n",
       "min     2017.000000      1.000000  \n",
       "25%     2018.000000      4.000000  \n",
       "50%     2020.000000      7.000000  \n",
       "75%     2021.000000      9.000000  \n",
       "max     2022.000000     12.000000  "
      ]
     },
     "execution_count": 115,
     "metadata": {},
     "output_type": "execute_result"
    }
   ],
   "source": [
    "# Sort the price of property in ascending order according to Year.\n",
    "df_compiled_pty.sort_values([\"Year\"],axis=0,ascending=[True],inplace=True)\n",
    "\n",
    "# Describe the dataset\n",
    "df_compiled_pty.describe()"
   ]
  },
  {
   "cell_type": "code",
   "execution_count": 116,
   "metadata": {},
   "outputs": [
    {
     "data": {
      "text/plain": [
       "(24744, 16)"
      ]
     },
     "execution_count": 116,
     "metadata": {},
     "output_type": "execute_result"
    }
   ],
   "source": [
    "# datasets has 24744 rows and 10 columns\n",
    "df_compiled_pty.shape "
   ]
  },
  {
   "cell_type": "code",
   "execution_count": 117,
   "metadata": {
    "scrolled": true
   },
   "outputs": [
    {
     "data": {
      "text/plain": [
       "area                 0\n",
       "floorRange           0\n",
       "noOfUnits            0\n",
       "contractDate         0\n",
       "typeOfSale           0\n",
       "price                0\n",
       "propertyType         0\n",
       "district             0\n",
       "typeOfArea           0\n",
       "tenure               0\n",
       "nettPrice        24556\n",
       "street               0\n",
       "project              0\n",
       "marketSegment        0\n",
       "Year                 0\n",
       "Month                0\n",
       "dtype: int64"
      ]
     },
     "execution_count": 117,
     "metadata": {},
     "output_type": "execute_result"
    }
   ],
   "source": [
    "# Check for missing entries\n",
    "df_compiled_pty.isna().sum()"
   ]
  },
  {
   "cell_type": "code",
   "execution_count": 118,
   "metadata": {
    "scrolled": true
   },
   "outputs": [],
   "source": [
    "# Removing nettPrice\n",
    "del df_compiled_pty[\"nettPrice\"]"
   ]
  },
  {
   "cell_type": "code",
   "execution_count": 119,
   "metadata": {
    "scrolled": true
   },
   "outputs": [],
   "source": [
    "# Removing tenure\n",
    "del df_compiled_pty[\"tenure\"]"
   ]
  },
  {
   "cell_type": "code",
   "execution_count": 120,
   "metadata": {
    "scrolled": false
   },
   "outputs": [],
   "source": [
    "# Removing street\n",
    "del df_compiled_pty[\"street\"]"
   ]
  },
  {
   "cell_type": "code",
   "execution_count": 121,
   "metadata": {},
   "outputs": [],
   "source": [
    "# Removing project\n",
    "del df_compiled_pty[\"project\"]"
   ]
  },
  {
   "cell_type": "code",
   "execution_count": 122,
   "metadata": {},
   "outputs": [],
   "source": [
    "# Removing contractDate\n",
    "del df_compiled_pty[\"contractDate\"]"
   ]
  },
  {
   "cell_type": "code",
   "execution_count": 123,
   "metadata": {},
   "outputs": [],
   "source": [
    "# Removing Month\n",
    "del df_compiled_pty[\"Month\"]"
   ]
  },
  {
   "cell_type": "code",
   "execution_count": 124,
   "metadata": {},
   "outputs": [
    {
     "data": {
      "text/html": [
       "<div>\n",
       "<style scoped>\n",
       "    .dataframe tbody tr th:only-of-type {\n",
       "        vertical-align: middle;\n",
       "    }\n",
       "\n",
       "    .dataframe tbody tr th {\n",
       "        vertical-align: top;\n",
       "    }\n",
       "\n",
       "    .dataframe thead th {\n",
       "        text-align: right;\n",
       "    }\n",
       "</style>\n",
       "<table border=\"1\" class=\"dataframe\">\n",
       "  <thead>\n",
       "    <tr style=\"text-align: right;\">\n",
       "      <th></th>\n",
       "      <th>area</th>\n",
       "      <th>floorRange</th>\n",
       "      <th>noOfUnits</th>\n",
       "      <th>typeOfSale</th>\n",
       "      <th>price</th>\n",
       "      <th>propertyType</th>\n",
       "      <th>district</th>\n",
       "      <th>typeOfArea</th>\n",
       "      <th>marketSegment</th>\n",
       "      <th>Year</th>\n",
       "    </tr>\n",
       "  </thead>\n",
       "  <tbody>\n",
       "    <tr>\n",
       "      <th>9185</th>\n",
       "      <td>46.0</td>\n",
       "      <td>16-20</td>\n",
       "      <td>1</td>\n",
       "      <td>1</td>\n",
       "      <td>916000</td>\n",
       "      <td>Condominium</td>\n",
       "      <td>3</td>\n",
       "      <td>Strata</td>\n",
       "      <td>RCR</td>\n",
       "      <td>2017</td>\n",
       "    </tr>\n",
       "    <tr>\n",
       "      <th>3405</th>\n",
       "      <td>46.0</td>\n",
       "      <td>21-25</td>\n",
       "      <td>1</td>\n",
       "      <td>1</td>\n",
       "      <td>906400</td>\n",
       "      <td>Condominium</td>\n",
       "      <td>3</td>\n",
       "      <td>Strata</td>\n",
       "      <td>RCR</td>\n",
       "      <td>2017</td>\n",
       "    </tr>\n",
       "    <tr>\n",
       "      <th>3407</th>\n",
       "      <td>79.0</td>\n",
       "      <td>31-35</td>\n",
       "      <td>1</td>\n",
       "      <td>1</td>\n",
       "      <td>1573000</td>\n",
       "      <td>Condominium</td>\n",
       "      <td>3</td>\n",
       "      <td>Strata</td>\n",
       "      <td>RCR</td>\n",
       "      <td>2017</td>\n",
       "    </tr>\n",
       "    <tr>\n",
       "      <th>3409</th>\n",
       "      <td>78.0</td>\n",
       "      <td>26-30</td>\n",
       "      <td>1</td>\n",
       "      <td>1</td>\n",
       "      <td>1460640</td>\n",
       "      <td>Condominium</td>\n",
       "      <td>3</td>\n",
       "      <td>Strata</td>\n",
       "      <td>RCR</td>\n",
       "      <td>2017</td>\n",
       "    </tr>\n",
       "    <tr>\n",
       "      <th>3411</th>\n",
       "      <td>80.0</td>\n",
       "      <td>26-30</td>\n",
       "      <td>1</td>\n",
       "      <td>1</td>\n",
       "      <td>1498380</td>\n",
       "      <td>Condominium</td>\n",
       "      <td>3</td>\n",
       "      <td>Strata</td>\n",
       "      <td>RCR</td>\n",
       "      <td>2017</td>\n",
       "    </tr>\n",
       "  </tbody>\n",
       "</table>\n",
       "</div>"
      ],
      "text/plain": [
       "      area floorRange  noOfUnits  typeOfSale    price propertyType  district  \\\n",
       "9185  46.0      16-20          1           1   916000  Condominium         3   \n",
       "3405  46.0      21-25          1           1   906400  Condominium         3   \n",
       "3407  79.0      31-35          1           1  1573000  Condominium         3   \n",
       "3409  78.0      26-30          1           1  1460640  Condominium         3   \n",
       "3411  80.0      26-30          1           1  1498380  Condominium         3   \n",
       "\n",
       "     typeOfArea marketSegment  Year  \n",
       "9185     Strata           RCR  2017  \n",
       "3405     Strata           RCR  2017  \n",
       "3407     Strata           RCR  2017  \n",
       "3409     Strata           RCR  2017  \n",
       "3411     Strata           RCR  2017  "
      ]
     },
     "execution_count": 124,
     "metadata": {},
     "output_type": "execute_result"
    }
   ],
   "source": [
    "df_compiled_pty.head()"
   ]
  },
  {
   "cell_type": "code",
   "execution_count": 125,
   "metadata": {
    "scrolled": true
   },
   "outputs": [],
   "source": [
    "# Export a Pandas Dataframe to CSV \n",
    "df_compiled_pty.to_csv(r'C:/Users/raufy/OneDrive/Documents/private_pty_compiled.csv', index = False)"
   ]
  },
  {
   "cell_type": "markdown",
   "metadata": {},
   "source": [
    "## 3. Visualization of Dataset"
   ]
  },
  {
   "cell_type": "code",
   "execution_count": 126,
   "metadata": {},
   "outputs": [],
   "source": [
    "import seaborn as sns"
   ]
  },
  {
   "cell_type": "code",
   "execution_count": 127,
   "metadata": {},
   "outputs": [
    {
     "data": {
      "text/html": [
       "<div>\n",
       "<style scoped>\n",
       "    .dataframe tbody tr th:only-of-type {\n",
       "        vertical-align: middle;\n",
       "    }\n",
       "\n",
       "    .dataframe tbody tr th {\n",
       "        vertical-align: top;\n",
       "    }\n",
       "\n",
       "    .dataframe thead th {\n",
       "        text-align: right;\n",
       "    }\n",
       "</style>\n",
       "<table border=\"1\" class=\"dataframe\">\n",
       "  <thead>\n",
       "    <tr style=\"text-align: right;\">\n",
       "      <th></th>\n",
       "      <th>area</th>\n",
       "      <th>noOfUnits</th>\n",
       "      <th>typeOfSale</th>\n",
       "      <th>price</th>\n",
       "      <th>district</th>\n",
       "      <th>Year</th>\n",
       "    </tr>\n",
       "  </thead>\n",
       "  <tbody>\n",
       "    <tr>\n",
       "      <th>area</th>\n",
       "      <td>1.000000</td>\n",
       "      <td>0.978310</td>\n",
       "      <td>0.064372</td>\n",
       "      <td>0.943285</td>\n",
       "      <td>0.002143</td>\n",
       "      <td>-0.012103</td>\n",
       "    </tr>\n",
       "    <tr>\n",
       "      <th>noOfUnits</th>\n",
       "      <td>0.978310</td>\n",
       "      <td>1.000000</td>\n",
       "      <td>0.022117</td>\n",
       "      <td>0.930880</td>\n",
       "      <td>0.001636</td>\n",
       "      <td>-0.012013</td>\n",
       "    </tr>\n",
       "    <tr>\n",
       "      <th>typeOfSale</th>\n",
       "      <td>0.064372</td>\n",
       "      <td>0.022117</td>\n",
       "      <td>1.000000</td>\n",
       "      <td>0.054280</td>\n",
       "      <td>-0.168619</td>\n",
       "      <td>-0.040805</td>\n",
       "    </tr>\n",
       "    <tr>\n",
       "      <th>price</th>\n",
       "      <td>0.943285</td>\n",
       "      <td>0.930880</td>\n",
       "      <td>0.054280</td>\n",
       "      <td>1.000000</td>\n",
       "      <td>-0.010760</td>\n",
       "      <td>0.002598</td>\n",
       "    </tr>\n",
       "    <tr>\n",
       "      <th>district</th>\n",
       "      <td>0.002143</td>\n",
       "      <td>0.001636</td>\n",
       "      <td>-0.168619</td>\n",
       "      <td>-0.010760</td>\n",
       "      <td>1.000000</td>\n",
       "      <td>0.208132</td>\n",
       "    </tr>\n",
       "    <tr>\n",
       "      <th>Year</th>\n",
       "      <td>-0.012103</td>\n",
       "      <td>-0.012013</td>\n",
       "      <td>-0.040805</td>\n",
       "      <td>0.002598</td>\n",
       "      <td>0.208132</td>\n",
       "      <td>1.000000</td>\n",
       "    </tr>\n",
       "  </tbody>\n",
       "</table>\n",
       "</div>"
      ],
      "text/plain": [
       "                area  noOfUnits  typeOfSale     price  district      Year\n",
       "area        1.000000   0.978310    0.064372  0.943285  0.002143 -0.012103\n",
       "noOfUnits   0.978310   1.000000    0.022117  0.930880  0.001636 -0.012013\n",
       "typeOfSale  0.064372   0.022117    1.000000  0.054280 -0.168619 -0.040805\n",
       "price       0.943285   0.930880    0.054280  1.000000 -0.010760  0.002598\n",
       "district    0.002143   0.001636   -0.168619 -0.010760  1.000000  0.208132\n",
       "Year       -0.012103  -0.012013   -0.040805  0.002598  0.208132  1.000000"
      ]
     },
     "execution_count": 127,
     "metadata": {},
     "output_type": "execute_result"
    }
   ],
   "source": [
    "df_compiled_pty.corr()"
   ]
  },
  {
   "cell_type": "code",
   "execution_count": 128,
   "metadata": {},
   "outputs": [
    {
     "data": {
      "text/plain": [
       "<AxesSubplot:>"
      ]
     },
     "execution_count": 128,
     "metadata": {},
     "output_type": "execute_result"
    },
    {
     "data": {
      "image/png": "[encoded data removed]",
      "text/plain": [
       "<Figure size 720x720 with 2 Axes>"
      ]
     },
     "metadata": {},
     "output_type": "display_data"
    }
   ],
   "source": [
    "# Visualize features (X) against target (y)\n",
    "\n",
    "plt.figure(figsize = (10, 10))\n",
    "sns.heatmap(df_compiled_pty.corr(), annot = True)"
   ]
  },
  {
   "cell_type": "code",
   "execution_count": 129,
   "metadata": {
    "scrolled": true
   },
   "outputs": [
    {
     "data": {
      "text/html": [
       "<div>\n",
       "<style scoped>\n",
       "    .dataframe tbody tr th:only-of-type {\n",
       "        vertical-align: middle;\n",
       "    }\n",
       "\n",
       "    .dataframe tbody tr th {\n",
       "        vertical-align: top;\n",
       "    }\n",
       "\n",
       "    .dataframe thead th {\n",
       "        text-align: right;\n",
       "    }\n",
       "</style>\n",
       "<table border=\"1\" class=\"dataframe\">\n",
       "  <thead>\n",
       "    <tr style=\"text-align: right;\">\n",
       "      <th></th>\n",
       "      <th>area</th>\n",
       "      <th>floorRange</th>\n",
       "      <th>noOfUnits</th>\n",
       "      <th>typeOfSale</th>\n",
       "      <th>price</th>\n",
       "      <th>propertyType</th>\n",
       "      <th>district</th>\n",
       "      <th>typeOfArea</th>\n",
       "      <th>marketSegment</th>\n",
       "      <th>Year</th>\n",
       "    </tr>\n",
       "  </thead>\n",
       "  <tbody>\n",
       "    <tr>\n",
       "      <th>9185</th>\n",
       "      <td>46.0</td>\n",
       "      <td>16-20</td>\n",
       "      <td>1</td>\n",
       "      <td>1</td>\n",
       "      <td>916000</td>\n",
       "      <td>Condominium</td>\n",
       "      <td>3</td>\n",
       "      <td>Strata</td>\n",
       "      <td>RCR</td>\n",
       "      <td>2017</td>\n",
       "    </tr>\n",
       "    <tr>\n",
       "      <th>3405</th>\n",
       "      <td>46.0</td>\n",
       "      <td>21-25</td>\n",
       "      <td>1</td>\n",
       "      <td>1</td>\n",
       "      <td>906400</td>\n",
       "      <td>Condominium</td>\n",
       "      <td>3</td>\n",
       "      <td>Strata</td>\n",
       "      <td>RCR</td>\n",
       "      <td>2017</td>\n",
       "    </tr>\n",
       "    <tr>\n",
       "      <th>3407</th>\n",
       "      <td>79.0</td>\n",
       "      <td>31-35</td>\n",
       "      <td>1</td>\n",
       "      <td>1</td>\n",
       "      <td>1573000</td>\n",
       "      <td>Condominium</td>\n",
       "      <td>3</td>\n",
       "      <td>Strata</td>\n",
       "      <td>RCR</td>\n",
       "      <td>2017</td>\n",
       "    </tr>\n",
       "    <tr>\n",
       "      <th>3409</th>\n",
       "      <td>78.0</td>\n",
       "      <td>26-30</td>\n",
       "      <td>1</td>\n",
       "      <td>1</td>\n",
       "      <td>1460640</td>\n",
       "      <td>Condominium</td>\n",
       "      <td>3</td>\n",
       "      <td>Strata</td>\n",
       "      <td>RCR</td>\n",
       "      <td>2017</td>\n",
       "    </tr>\n",
       "    <tr>\n",
       "      <th>3411</th>\n",
       "      <td>80.0</td>\n",
       "      <td>26-30</td>\n",
       "      <td>1</td>\n",
       "      <td>1</td>\n",
       "      <td>1498380</td>\n",
       "      <td>Condominium</td>\n",
       "      <td>3</td>\n",
       "      <td>Strata</td>\n",
       "      <td>RCR</td>\n",
       "      <td>2017</td>\n",
       "    </tr>\n",
       "  </tbody>\n",
       "</table>\n",
       "</div>"
      ],
      "text/plain": [
       "      area floorRange  noOfUnits  typeOfSale    price propertyType  district  \\\n",
       "9185  46.0      16-20          1           1   916000  Condominium         3   \n",
       "3405  46.0      21-25          1           1   906400  Condominium         3   \n",
       "3407  79.0      31-35          1           1  1573000  Condominium         3   \n",
       "3409  78.0      26-30          1           1  1460640  Condominium         3   \n",
       "3411  80.0      26-30          1           1  1498380  Condominium         3   \n",
       "\n",
       "     typeOfArea marketSegment  Year  \n",
       "9185     Strata           RCR  2017  \n",
       "3405     Strata           RCR  2017  \n",
       "3407     Strata           RCR  2017  \n",
       "3409     Strata           RCR  2017  \n",
       "3411     Strata           RCR  2017  "
      ]
     },
     "execution_count": 129,
     "metadata": {},
     "output_type": "execute_result"
    }
   ],
   "source": [
    "# Dataframe with conditions created for better visualization \n",
    "df_price_area= df_compiled_pty[(df_compiled_pty['price'].between(0,10000000, inclusive = True) & \n",
    "                        (df_compiled_pty['area'].between(0,10000, inclusive = True)))]\n",
    "df_price_area.head()"
   ]
  },
  {
   "cell_type": "code",
   "execution_count": 130,
   "metadata": {},
   "outputs": [
    {
     "data": {
      "text/plain": [
       "<seaborn.axisgrid.JointGrid at 0x28f5602b4c0>"
      ]
     },
     "execution_count": 130,
     "metadata": {},
     "output_type": "execute_result"
    },
    {
     "data": {
      "image/png": "[encoded data removed]",
      "text/plain": [
       "<Figure size 432x432 with 3 Axes>"
      ]
     },
     "metadata": {},
     "output_type": "display_data"
    }
   ],
   "source": [
    "sns.jointplot( x = 'area', y = 'price', data = df_price_area, color = 'orange')"
   ]
  },
  {
   "cell_type": "code",
   "execution_count": 131,
   "metadata": {},
   "outputs": [
    {
     "data": {
      "text/html": [
       "<div>\n",
       "<style scoped>\n",
       "    .dataframe tbody tr th:only-of-type {\n",
       "        vertical-align: middle;\n",
       "    }\n",
       "\n",
       "    .dataframe tbody tr th {\n",
       "        vertical-align: top;\n",
       "    }\n",
       "\n",
       "    .dataframe thead th {\n",
       "        text-align: right;\n",
       "    }\n",
       "</style>\n",
       "<table border=\"1\" class=\"dataframe\">\n",
       "  <thead>\n",
       "    <tr style=\"text-align: right;\">\n",
       "      <th></th>\n",
       "      <th>area</th>\n",
       "      <th>floorRange</th>\n",
       "      <th>noOfUnits</th>\n",
       "      <th>typeOfSale</th>\n",
       "      <th>price</th>\n",
       "      <th>propertyType</th>\n",
       "      <th>district</th>\n",
       "      <th>typeOfArea</th>\n",
       "      <th>marketSegment</th>\n",
       "      <th>Year</th>\n",
       "    </tr>\n",
       "  </thead>\n",
       "  <tbody>\n",
       "    <tr>\n",
       "      <th>9185</th>\n",
       "      <td>46.0</td>\n",
       "      <td>16-20</td>\n",
       "      <td>1</td>\n",
       "      <td>1</td>\n",
       "      <td>916000</td>\n",
       "      <td>Condominium</td>\n",
       "      <td>3</td>\n",
       "      <td>Strata</td>\n",
       "      <td>RCR</td>\n",
       "      <td>2017</td>\n",
       "    </tr>\n",
       "    <tr>\n",
       "      <th>3405</th>\n",
       "      <td>46.0</td>\n",
       "      <td>21-25</td>\n",
       "      <td>1</td>\n",
       "      <td>1</td>\n",
       "      <td>906400</td>\n",
       "      <td>Condominium</td>\n",
       "      <td>3</td>\n",
       "      <td>Strata</td>\n",
       "      <td>RCR</td>\n",
       "      <td>2017</td>\n",
       "    </tr>\n",
       "    <tr>\n",
       "      <th>3407</th>\n",
       "      <td>79.0</td>\n",
       "      <td>31-35</td>\n",
       "      <td>1</td>\n",
       "      <td>1</td>\n",
       "      <td>1573000</td>\n",
       "      <td>Condominium</td>\n",
       "      <td>3</td>\n",
       "      <td>Strata</td>\n",
       "      <td>RCR</td>\n",
       "      <td>2017</td>\n",
       "    </tr>\n",
       "    <tr>\n",
       "      <th>3409</th>\n",
       "      <td>78.0</td>\n",
       "      <td>26-30</td>\n",
       "      <td>1</td>\n",
       "      <td>1</td>\n",
       "      <td>1460640</td>\n",
       "      <td>Condominium</td>\n",
       "      <td>3</td>\n",
       "      <td>Strata</td>\n",
       "      <td>RCR</td>\n",
       "      <td>2017</td>\n",
       "    </tr>\n",
       "    <tr>\n",
       "      <th>3411</th>\n",
       "      <td>80.0</td>\n",
       "      <td>26-30</td>\n",
       "      <td>1</td>\n",
       "      <td>1</td>\n",
       "      <td>1498380</td>\n",
       "      <td>Condominium</td>\n",
       "      <td>3</td>\n",
       "      <td>Strata</td>\n",
       "      <td>RCR</td>\n",
       "      <td>2017</td>\n",
       "    </tr>\n",
       "  </tbody>\n",
       "</table>\n",
       "</div>"
      ],
      "text/plain": [
       "      area floorRange  noOfUnits  typeOfSale    price propertyType  district  \\\n",
       "9185  46.0      16-20          1           1   916000  Condominium         3   \n",
       "3405  46.0      21-25          1           1   906400  Condominium         3   \n",
       "3407  79.0      31-35          1           1  1573000  Condominium         3   \n",
       "3409  78.0      26-30          1           1  1460640  Condominium         3   \n",
       "3411  80.0      26-30          1           1  1498380  Condominium         3   \n",
       "\n",
       "     typeOfArea marketSegment  Year  \n",
       "9185     Strata           RCR  2017  \n",
       "3405     Strata           RCR  2017  \n",
       "3407     Strata           RCR  2017  \n",
       "3409     Strata           RCR  2017  \n",
       "3411     Strata           RCR  2017  "
      ]
     },
     "execution_count": 131,
     "metadata": {},
     "output_type": "execute_result"
    }
   ],
   "source": [
    "# Dataframe with conditions created for better visualization \n",
    "df_unit_u_pr = df_compiled_pty[(df_compiled_pty['price'].between(0,40000000, inclusive = True) & \n",
    "                        (df_compiled_pty['noOfUnits'].between(0,10, inclusive = True)))]\n",
    "df_unit_u_pr.head()"
   ]
  },
  {
   "cell_type": "code",
   "execution_count": 132,
   "metadata": {
    "scrolled": true
   },
   "outputs": [
    {
     "data": {
      "text/plain": [
       "<seaborn.axisgrid.JointGrid at 0x28f512f0820>"
      ]
     },
     "execution_count": 132,
     "metadata": {},
     "output_type": "execute_result"
    },
    {
     "data": {
      "image/png": "[encoded data removed]",
      "text/plain": [
       "<Figure size 432x432 with 3 Axes>"
      ]
     },
     "metadata": {},
     "output_type": "display_data"
    }
   ],
   "source": [
    "sns.jointplot( x = 'noOfUnits', y = 'price', data = df_unit_u_pr, color = 'skyblue')"
   ]
  },
  {
   "cell_type": "code",
   "execution_count": 133,
   "metadata": {
    "scrolled": false
   },
   "outputs": [
    {
     "data": {
      "text/plain": [
       "<seaborn.axisgrid.PairGrid at 0x28f4d0f67c0>"
      ]
     },
     "execution_count": 133,
     "metadata": {},
     "output_type": "execute_result"
    },
    {
     "data": {
      "image/png": "[encoded data removed]",
      "text/plain": [
       "<Figure size 1080x1080 with 42 Axes>"
      ]
     },
     "metadata": {},
     "output_type": "display_data"
    }
   ],
   "source": [
    "sns.pairplot(df_unit_u_pr)"
   ]
  },
  {
   "cell_type": "markdown",
   "metadata": {},
   "source": [
    "### Checking for Outliers"
   ]
  },
  {
   "cell_type": "code",
   "execution_count": 134,
   "metadata": {
    "scrolled": true
   },
   "outputs": [
    {
     "name": "stdout",
     "output_type": "stream",
     "text": [
      "Original Average Price: 1784350.7789414097\n"
     ]
    }
   ],
   "source": [
    "# Average Price\n",
    "print('Original Average Price:', df_unit_u_pr['price'].mean())"
   ]
  },
  {
   "cell_type": "code",
   "execution_count": 135,
   "metadata": {
    "scrolled": true
   },
   "outputs": [
    {
     "data": {
      "image/png": "[encoded data removed]",
      "text/plain": [
       "<Figure size 1080x576 with 1 Axes>"
      ]
     },
     "metadata": {},
     "output_type": "display_data"
    }
   ],
   "source": [
    "# box plot to check the presence of outliers\n",
    "plt.figure(figsize = (15,8))\n",
    "\n",
    "sns.boxplot(x = df_unit_u_pr['price'], showmeans=True,meanprops={\"marker\": \"+\",\n",
    "                       \"markeredgecolor\": \"white\",\n",
    "                       \"markersize\": \"15\"})\n",
    "\n",
    "plt.title('Box Plot of Price', fontsize = 15)\n",
    "plt.xlabel('Price', fontsize = 15)\n",
    "plt.show()"
   ]
  },
  {
   "cell_type": "markdown",
   "metadata": {},
   "source": [
    "## 4. Label Encoding"
   ]
  },
  {
   "cell_type": "code",
   "execution_count": 136,
   "metadata": {},
   "outputs": [],
   "source": [
    "pd.set_option('mode.chained_assignment', None)"
   ]
  },
  {
   "cell_type": "code",
   "execution_count": 137,
   "metadata": {
    "scrolled": true
   },
   "outputs": [
    {
     "data": {
      "text/html": [
       "<div>\n",
       "<style scoped>\n",
       "    .dataframe tbody tr th:only-of-type {\n",
       "        vertical-align: middle;\n",
       "    }\n",
       "\n",
       "    .dataframe tbody tr th {\n",
       "        vertical-align: top;\n",
       "    }\n",
       "\n",
       "    .dataframe thead th {\n",
       "        text-align: right;\n",
       "    }\n",
       "</style>\n",
       "<table border=\"1\" class=\"dataframe\">\n",
       "  <thead>\n",
       "    <tr style=\"text-align: right;\">\n",
       "      <th></th>\n",
       "      <th>area</th>\n",
       "      <th>floorRange</th>\n",
       "      <th>noOfUnits</th>\n",
       "      <th>typeOfSale</th>\n",
       "      <th>price</th>\n",
       "      <th>propertyType</th>\n",
       "      <th>district</th>\n",
       "      <th>typeOfArea</th>\n",
       "      <th>marketSegment</th>\n",
       "      <th>Year</th>\n",
       "    </tr>\n",
       "  </thead>\n",
       "  <tbody>\n",
       "    <tr>\n",
       "      <th>9185</th>\n",
       "      <td>46.0</td>\n",
       "      <td>4</td>\n",
       "      <td>1</td>\n",
       "      <td>1</td>\n",
       "      <td>916000</td>\n",
       "      <td>1</td>\n",
       "      <td>3</td>\n",
       "      <td>1</td>\n",
       "      <td>2</td>\n",
       "      <td>0</td>\n",
       "    </tr>\n",
       "    <tr>\n",
       "      <th>3405</th>\n",
       "      <td>46.0</td>\n",
       "      <td>5</td>\n",
       "      <td>1</td>\n",
       "      <td>1</td>\n",
       "      <td>906400</td>\n",
       "      <td>1</td>\n",
       "      <td>3</td>\n",
       "      <td>1</td>\n",
       "      <td>2</td>\n",
       "      <td>0</td>\n",
       "    </tr>\n",
       "    <tr>\n",
       "      <th>3407</th>\n",
       "      <td>79.0</td>\n",
       "      <td>7</td>\n",
       "      <td>1</td>\n",
       "      <td>1</td>\n",
       "      <td>1573000</td>\n",
       "      <td>1</td>\n",
       "      <td>3</td>\n",
       "      <td>1</td>\n",
       "      <td>2</td>\n",
       "      <td>0</td>\n",
       "    </tr>\n",
       "    <tr>\n",
       "      <th>3409</th>\n",
       "      <td>78.0</td>\n",
       "      <td>6</td>\n",
       "      <td>1</td>\n",
       "      <td>1</td>\n",
       "      <td>1460640</td>\n",
       "      <td>1</td>\n",
       "      <td>3</td>\n",
       "      <td>1</td>\n",
       "      <td>2</td>\n",
       "      <td>0</td>\n",
       "    </tr>\n",
       "    <tr>\n",
       "      <th>3411</th>\n",
       "      <td>80.0</td>\n",
       "      <td>6</td>\n",
       "      <td>1</td>\n",
       "      <td>1</td>\n",
       "      <td>1498380</td>\n",
       "      <td>1</td>\n",
       "      <td>3</td>\n",
       "      <td>1</td>\n",
       "      <td>2</td>\n",
       "      <td>0</td>\n",
       "    </tr>\n",
       "  </tbody>\n",
       "</table>\n",
       "</div>"
      ],
      "text/plain": [
       "      area  floorRange  noOfUnits  typeOfSale    price  propertyType  \\\n",
       "9185  46.0           4          1           1   916000             1   \n",
       "3405  46.0           5          1           1   906400             1   \n",
       "3407  79.0           7          1           1  1573000             1   \n",
       "3409  78.0           6          1           1  1460640             1   \n",
       "3411  80.0           6          1           1  1498380             1   \n",
       "\n",
       "      district  typeOfArea  marketSegment  Year  \n",
       "9185         3           1              2     0  \n",
       "3405         3           1              2     0  \n",
       "3407         3           1              2     0  \n",
       "3409         3           1              2     0  \n",
       "3411         3           1              2     0  "
      ]
     },
     "execution_count": 137,
     "metadata": {},
     "output_type": "execute_result"
    }
   ],
   "source": [
    "# import the LabelEncoder\n",
    "from sklearn.preprocessing import LabelEncoder\n",
    "\n",
    "# instantiate the encoder\n",
    "labelencoder = LabelEncoder()\n",
    "\n",
    "# fit the encoder using 'fit_transform'\n",
    "df_unit_u_pr['floorRange'] = labelencoder.fit_transform(df_unit_u_pr.floorRange)\n",
    "df_unit_u_pr['propertyType'] = labelencoder.fit_transform(df_unit_u_pr.propertyType)\n",
    "df_unit_u_pr['typeOfArea'] = labelencoder.fit_transform(df_unit_u_pr.typeOfArea)\n",
    "df_unit_u_pr['marketSegment'] = labelencoder.fit_transform(df_unit_u_pr.marketSegment)\n",
    "df_unit_u_pr['Year'] = labelencoder.fit_transform(df_unit_u_pr.Year)\n",
    "\n",
    "# print the first five observations\n",
    "df_unit_u_pr.head()"
   ]
  },
  {
   "cell_type": "markdown",
   "metadata": {},
   "source": [
    "## 5. Standardization for Data"
   ]
  },
  {
   "cell_type": "code",
   "execution_count": 138,
   "metadata": {},
   "outputs": [],
   "source": [
    "# use StandardScaler to normalize the variable\n",
    "# https://scikit-learn.org/stable/modules/generated/sklearn.preprocessing.StandardScaler.html\n",
    "\n",
    "\n",
    "from sklearn.preprocessing import StandardScaler\n",
    "\n",
    "scaled_features = df_unit_u_pr.copy()"
   ]
  },
  {
   "cell_type": "code",
   "execution_count": 139,
   "metadata": {},
   "outputs": [],
   "source": [
    "col_names = ['area','floorRange', 'noOfUnits','typeOfSale', 'propertyType', 'district','typeOfArea','marketSegment', 'Year']\n",
    "features = scaled_features[col_names]\n",
    "scaler = StandardScaler().fit(features.values)\n",
    "features = scaler.transform(features.values)"
   ]
  },
  {
   "cell_type": "code",
   "execution_count": 140,
   "metadata": {},
   "outputs": [
    {
     "name": "stdout",
     "output_type": "stream",
     "text": [
      "           area  floorRange  noOfUnits  typeOfSale    price  propertyType  \\\n",
      "9185  -0.672032    0.189999  -0.020355   -0.724578   916000      0.683304   \n",
      "3405  -0.672032    0.604069  -0.020355   -0.724578   906400      0.683304   \n",
      "3407  -0.230156    1.432209  -0.020355   -0.724578  1573000      0.683304   \n",
      "3409  -0.243547    1.018139  -0.020355   -0.724578  1460640      0.683304   \n",
      "3411  -0.216766    1.018139  -0.020355   -0.724578  1498380      0.683304   \n",
      "...         ...         ...        ...         ...      ...           ...   \n",
      "4374  -0.189986   -1.052211  -0.020355   -0.724578  1778000     -0.468153   \n",
      "4375   0.051037   -1.052211  -0.020355   -0.724578  2000000     -0.468153   \n",
      "4376   0.051037   -1.052211  -0.020355   -0.724578  1962163     -0.468153   \n",
      "18908  0.345622    0.189999  -0.020355   -0.724578  2440000     -0.468153   \n",
      "12371  0.733937   -1.052211  -0.020355    1.397836  2200000      0.683304   \n",
      "\n",
      "       district  typeOfArea  marketSegment      Year  \n",
      "9185  -0.813157    0.124419       0.801240 -1.648221  \n",
      "3405  -0.813157    0.124419       0.801240 -1.648221  \n",
      "3407  -0.813157    0.124419       0.801240 -1.648221  \n",
      "3409  -0.813157    0.124419       0.801240 -1.648221  \n",
      "3411  -0.813157    0.124419       0.801240 -1.648221  \n",
      "...         ...         ...            ...       ...  \n",
      "4374   0.585229    0.124419       0.801240  1.679791  \n",
      "4375   0.585229    0.124419       0.801240  1.679791  \n",
      "4376   0.585229    0.124419       0.801240  1.679791  \n",
      "18908  0.585229    0.124419       0.801240  1.679791  \n",
      "12371  0.585229    0.124419      -0.562898  1.679791  \n",
      "\n",
      "[24731 rows x 10 columns]\n"
     ]
    }
   ],
   "source": [
    "scaled_features[col_names] = features\n",
    "print(scaled_features)"
   ]
  },
  {
   "cell_type": "code",
   "execution_count": 141,
   "metadata": {},
   "outputs": [
    {
     "data": {
      "text/html": [
       "<div>\n",
       "<style scoped>\n",
       "    .dataframe tbody tr th:only-of-type {\n",
       "        vertical-align: middle;\n",
       "    }\n",
       "\n",
       "    .dataframe tbody tr th {\n",
       "        vertical-align: top;\n",
       "    }\n",
       "\n",
       "    .dataframe thead th {\n",
       "        text-align: right;\n",
       "    }\n",
       "</style>\n",
       "<table border=\"1\" class=\"dataframe\">\n",
       "  <thead>\n",
       "    <tr style=\"text-align: right;\">\n",
       "      <th></th>\n",
       "      <th>area</th>\n",
       "      <th>floorRange</th>\n",
       "      <th>noOfUnits</th>\n",
       "      <th>typeOfSale</th>\n",
       "      <th>price</th>\n",
       "      <th>propertyType</th>\n",
       "      <th>district</th>\n",
       "      <th>typeOfArea</th>\n",
       "      <th>marketSegment</th>\n",
       "      <th>Year</th>\n",
       "    </tr>\n",
       "  </thead>\n",
       "  <tbody>\n",
       "    <tr>\n",
       "      <th>9185</th>\n",
       "      <td>-0.672032</td>\n",
       "      <td>0.189999</td>\n",
       "      <td>-0.020355</td>\n",
       "      <td>-0.724578</td>\n",
       "      <td>916000</td>\n",
       "      <td>0.683304</td>\n",
       "      <td>-0.813157</td>\n",
       "      <td>0.124419</td>\n",
       "      <td>0.801240</td>\n",
       "      <td>-1.648221</td>\n",
       "    </tr>\n",
       "    <tr>\n",
       "      <th>3405</th>\n",
       "      <td>-0.672032</td>\n",
       "      <td>0.604069</td>\n",
       "      <td>-0.020355</td>\n",
       "      <td>-0.724578</td>\n",
       "      <td>906400</td>\n",
       "      <td>0.683304</td>\n",
       "      <td>-0.813157</td>\n",
       "      <td>0.124419</td>\n",
       "      <td>0.801240</td>\n",
       "      <td>-1.648221</td>\n",
       "    </tr>\n",
       "    <tr>\n",
       "      <th>3407</th>\n",
       "      <td>-0.230156</td>\n",
       "      <td>1.432209</td>\n",
       "      <td>-0.020355</td>\n",
       "      <td>-0.724578</td>\n",
       "      <td>1573000</td>\n",
       "      <td>0.683304</td>\n",
       "      <td>-0.813157</td>\n",
       "      <td>0.124419</td>\n",
       "      <td>0.801240</td>\n",
       "      <td>-1.648221</td>\n",
       "    </tr>\n",
       "    <tr>\n",
       "      <th>3409</th>\n",
       "      <td>-0.243547</td>\n",
       "      <td>1.018139</td>\n",
       "      <td>-0.020355</td>\n",
       "      <td>-0.724578</td>\n",
       "      <td>1460640</td>\n",
       "      <td>0.683304</td>\n",
       "      <td>-0.813157</td>\n",
       "      <td>0.124419</td>\n",
       "      <td>0.801240</td>\n",
       "      <td>-1.648221</td>\n",
       "    </tr>\n",
       "    <tr>\n",
       "      <th>3411</th>\n",
       "      <td>-0.216766</td>\n",
       "      <td>1.018139</td>\n",
       "      <td>-0.020355</td>\n",
       "      <td>-0.724578</td>\n",
       "      <td>1498380</td>\n",
       "      <td>0.683304</td>\n",
       "      <td>-0.813157</td>\n",
       "      <td>0.124419</td>\n",
       "      <td>0.801240</td>\n",
       "      <td>-1.648221</td>\n",
       "    </tr>\n",
       "    <tr>\n",
       "      <th>...</th>\n",
       "      <td>...</td>\n",
       "      <td>...</td>\n",
       "      <td>...</td>\n",
       "      <td>...</td>\n",
       "      <td>...</td>\n",
       "      <td>...</td>\n",
       "      <td>...</td>\n",
       "      <td>...</td>\n",
       "      <td>...</td>\n",
       "      <td>...</td>\n",
       "    </tr>\n",
       "    <tr>\n",
       "      <th>4374</th>\n",
       "      <td>-0.189986</td>\n",
       "      <td>-1.052211</td>\n",
       "      <td>-0.020355</td>\n",
       "      <td>-0.724578</td>\n",
       "      <td>1778000</td>\n",
       "      <td>-0.468153</td>\n",
       "      <td>0.585229</td>\n",
       "      <td>0.124419</td>\n",
       "      <td>0.801240</td>\n",
       "      <td>1.679791</td>\n",
       "    </tr>\n",
       "    <tr>\n",
       "      <th>4375</th>\n",
       "      <td>0.051037</td>\n",
       "      <td>-1.052211</td>\n",
       "      <td>-0.020355</td>\n",
       "      <td>-0.724578</td>\n",
       "      <td>2000000</td>\n",
       "      <td>-0.468153</td>\n",
       "      <td>0.585229</td>\n",
       "      <td>0.124419</td>\n",
       "      <td>0.801240</td>\n",
       "      <td>1.679791</td>\n",
       "    </tr>\n",
       "    <tr>\n",
       "      <th>4376</th>\n",
       "      <td>0.051037</td>\n",
       "      <td>-1.052211</td>\n",
       "      <td>-0.020355</td>\n",
       "      <td>-0.724578</td>\n",
       "      <td>1962163</td>\n",
       "      <td>-0.468153</td>\n",
       "      <td>0.585229</td>\n",
       "      <td>0.124419</td>\n",
       "      <td>0.801240</td>\n",
       "      <td>1.679791</td>\n",
       "    </tr>\n",
       "    <tr>\n",
       "      <th>18908</th>\n",
       "      <td>0.345622</td>\n",
       "      <td>0.189999</td>\n",
       "      <td>-0.020355</td>\n",
       "      <td>-0.724578</td>\n",
       "      <td>2440000</td>\n",
       "      <td>-0.468153</td>\n",
       "      <td>0.585229</td>\n",
       "      <td>0.124419</td>\n",
       "      <td>0.801240</td>\n",
       "      <td>1.679791</td>\n",
       "    </tr>\n",
       "    <tr>\n",
       "      <th>12371</th>\n",
       "      <td>0.733937</td>\n",
       "      <td>-1.052211</td>\n",
       "      <td>-0.020355</td>\n",
       "      <td>1.397836</td>\n",
       "      <td>2200000</td>\n",
       "      <td>0.683304</td>\n",
       "      <td>0.585229</td>\n",
       "      <td>0.124419</td>\n",
       "      <td>-0.562898</td>\n",
       "      <td>1.679791</td>\n",
       "    </tr>\n",
       "  </tbody>\n",
       "</table>\n",
       "<p>24731 rows × 10 columns</p>\n",
       "</div>"
      ],
      "text/plain": [
       "           area  floorRange  noOfUnits  typeOfSale    price  propertyType  \\\n",
       "9185  -0.672032    0.189999  -0.020355   -0.724578   916000      0.683304   \n",
       "3405  -0.672032    0.604069  -0.020355   -0.724578   906400      0.683304   \n",
       "3407  -0.230156    1.432209  -0.020355   -0.724578  1573000      0.683304   \n",
       "3409  -0.243547    1.018139  -0.020355   -0.724578  1460640      0.683304   \n",
       "3411  -0.216766    1.018139  -0.020355   -0.724578  1498380      0.683304   \n",
       "...         ...         ...        ...         ...      ...           ...   \n",
       "4374  -0.189986   -1.052211  -0.020355   -0.724578  1778000     -0.468153   \n",
       "4375   0.051037   -1.052211  -0.020355   -0.724578  2000000     -0.468153   \n",
       "4376   0.051037   -1.052211  -0.020355   -0.724578  1962163     -0.468153   \n",
       "18908  0.345622    0.189999  -0.020355   -0.724578  2440000     -0.468153   \n",
       "12371  0.733937   -1.052211  -0.020355    1.397836  2200000      0.683304   \n",
       "\n",
       "       district  typeOfArea  marketSegment      Year  \n",
       "9185  -0.813157    0.124419       0.801240 -1.648221  \n",
       "3405  -0.813157    0.124419       0.801240 -1.648221  \n",
       "3407  -0.813157    0.124419       0.801240 -1.648221  \n",
       "3409  -0.813157    0.124419       0.801240 -1.648221  \n",
       "3411  -0.813157    0.124419       0.801240 -1.648221  \n",
       "...         ...         ...            ...       ...  \n",
       "4374   0.585229    0.124419       0.801240  1.679791  \n",
       "4375   0.585229    0.124419       0.801240  1.679791  \n",
       "4376   0.585229    0.124419       0.801240  1.679791  \n",
       "18908  0.585229    0.124419       0.801240  1.679791  \n",
       "12371  0.585229    0.124419      -0.562898  1.679791  \n",
       "\n",
       "[24731 rows x 10 columns]"
      ]
     },
     "execution_count": 141,
     "metadata": {},
     "output_type": "execute_result"
    }
   ],
   "source": [
    "df_scaled_data = pd.DataFrame(scaled_features)\n",
    "df_scaled_data"
   ]
  },
  {
   "cell_type": "markdown",
   "metadata": {},
   "source": [
    "## 6. Feature Importance"
   ]
  },
  {
   "cell_type": "code",
   "execution_count": 142,
   "metadata": {},
   "outputs": [
    {
     "name": "stdout",
     "output_type": "stream",
     "text": [
      "1.0.2\n"
     ]
    }
   ],
   "source": [
    "# check scikit-learn version\n",
    "import sklearn\n",
    "print(sklearn.__version__)"
   ]
  },
  {
   "cell_type": "code",
   "execution_count": 143,
   "metadata": {},
   "outputs": [
    {
     "name": "stdout",
     "output_type": "stream",
     "text": [
      "(24731, 9) (24731,)\n"
     ]
    }
   ],
   "source": [
    "# test regression dataset\n",
    "from sklearn.datasets import make_regression\n",
    "# Creating two arrays for the feature and target\n",
    "X = df_unit_u_pr[['area', 'noOfUnits', \"floorRange\", 'typeOfSale', 'propertyType', \n",
    "                  'district', 'typeOfArea', 'marketSegment','Year']]\n",
    "y = df_unit_u_pr['price']\n",
    "# summarize the dataset\n",
    "print(X.shape, y.shape)"
   ]
  },
  {
   "cell_type": "code",
   "execution_count": 144,
   "metadata": {},
   "outputs": [
    {
     "name": "stdout",
     "output_type": "stream",
     "text": [
      "Feature: 0, Score: 16802.70047\n",
      "Feature: 1, Score: 151945.56078\n",
      "Feature: 2, Score: 47183.82364\n",
      "Feature: 3, Score: -123567.43245\n",
      "Feature: 4, Score: -150722.68330\n",
      "Feature: 5, Score: -83135.85177\n",
      "Feature: 6, Score: -374800.13305\n",
      "Feature: 7, Score: -149879.61469\n",
      "Feature: 8, Score: 90066.88282\n"
     ]
    },
    {
     "data": {
      "image/png": "[encoded data removed]",
      "text/plain": [
       "<Figure size 432x288 with 1 Axes>"
      ]
     },
     "metadata": {},
     "output_type": "display_data"
    }
   ],
   "source": [
    "# linear regression feature importance\n",
    "from sklearn.datasets import make_regression\n",
    "from sklearn.linear_model import LinearRegression\n",
    "from matplotlib import pyplot\n",
    "# define dataset\n",
    "X = df_unit_u_pr[['area', 'noOfUnits', \"floorRange\", 'typeOfSale', 'propertyType', \n",
    "                  'district', 'typeOfArea', 'marketSegment', 'Year']]\n",
    "y = df_unit_u_pr['price']\n",
    "# define the model\n",
    "model = LinearRegression()\n",
    "# fit the model\n",
    "model.fit(X, y)\n",
    "# get importance\n",
    "importance = model.coef_\n",
    "# summarize feature importance\n",
    "for i,v in enumerate(importance):\n",
    "\tprint('Feature: %0d, Score: %.5f' % (i,v))\n",
    "# plot feature importance\n",
    "pyplot.bar([x for x in range(len(importance))], importance)\n",
    "pyplot.show()"
   ]
  },
  {
   "cell_type": "markdown",
   "metadata": {},
   "source": [
    "## 7. Create Test and Train dataset - Linear Regression"
   ]
  },
  {
   "cell_type": "code",
   "execution_count": 145,
   "metadata": {},
   "outputs": [],
   "source": [
    "# Instantiating a LinearRegression Model\n",
    "from sklearn.linear_model import LinearRegression\n",
    "model = LinearRegression()  "
   ]
  },
  {
   "cell_type": "code",
   "execution_count": 146,
   "metadata": {},
   "outputs": [],
   "source": [
    "### Divide the data into \"attributes(Features)\"(X) and \"labels\"(Y)\n",
    "\n",
    "#X = [row,column]\n",
    "# X = data.iloc[:, :-1].values\n",
    "# y = data.iloc[:, 1].values"
   ]
  },
  {
   "cell_type": "code",
   "execution_count": 147,
   "metadata": {},
   "outputs": [],
   "source": [
    "# Creating two arrays for the feature and target\n",
    "X = df_scaled_data[['area', 'noOfUnits', 'Year']]\n",
    "y = df_scaled_data['price']"
   ]
  },
  {
   "cell_type": "code",
   "execution_count": 148,
   "metadata": {},
   "outputs": [
    {
     "name": "stdout",
     "output_type": "stream",
     "text": [
      "The type of X is  <class 'pandas.core.frame.DataFrame'>\n",
      "The type of y is  <class 'pandas.core.series.Series'>\n"
     ]
    }
   ],
   "source": [
    "# Checking the type of our arrays\n",
    "print('The type of X is ', type(X))\n",
    "print('The type of y is ', type(y))\n"
   ]
  },
  {
   "cell_type": "code",
   "execution_count": 149,
   "metadata": {},
   "outputs": [],
   "source": [
    "# Splitting the datasets into training and testing\n",
    "from sklearn.model_selection import train_test_split\n",
    "X_train, X_test, y_train, y_test = train_test_split(X, y,train_size=0.2, random_state =7)"
   ]
  },
  {
   "cell_type": "code",
   "execution_count": 150,
   "metadata": {},
   "outputs": [
    {
     "data": {
      "text/plain": [
       "19785"
      ]
     },
     "execution_count": 150,
     "metadata": {},
     "output_type": "execute_result"
    }
   ],
   "source": [
    "len(X_test)"
   ]
  },
  {
   "cell_type": "markdown",
   "metadata": {},
   "source": [
    "## 8. Train a Linear Regression Model on Train Set"
   ]
  },
  {
   "cell_type": "code",
   "execution_count": 151,
   "metadata": {},
   "outputs": [
    {
     "data": {
      "text/plain": [
       "LinearRegression(copy_X=True, fit_intercept=True, n_jobs=None,\n",
       "                 normalize='deprecated', positive=False)"
      ]
     },
     "execution_count": 151,
     "metadata": {},
     "output_type": "execute_result"
    }
   ],
   "source": [
    "# Fitting our model\n",
    "model.fit(X_train, y_train)"
   ]
  },
  {
   "cell_type": "code",
   "execution_count": 152,
   "metadata": {},
   "outputs": [
    {
     "name": "stdout",
     "output_type": "stream",
     "text": [
      "[1226884.43051913       0.          130858.73732476]\n",
      "1783564.9639909728\n"
     ]
    }
   ],
   "source": [
    "# Printing coefficients and intercept\n",
    "print(model.coef_)\n",
    "print(model.intercept_)\n"
   ]
  },
  {
   "cell_type": "markdown",
   "metadata": {},
   "source": [
    "## 9. Visualize the Performance of Model Output"
   ]
  },
  {
   "cell_type": "code",
   "execution_count": 153,
   "metadata": {},
   "outputs": [],
   "source": [
    "y_predict = model.predict(X_test)"
   ]
  },
  {
   "cell_type": "code",
   "execution_count": 154,
   "metadata": {},
   "outputs": [
    {
     "data": {
      "text/plain": [
       "Text(0.5, 1.0, 'Multiple Linear Regression Predictions')"
      ]
     },
     "execution_count": 154,
     "metadata": {},
     "output_type": "execute_result"
    },
    {
     "data": {
      "image/png": "[encoded data removed]",
      "text/plain": [
       "<Figure size 432x288 with 1 Axes>"
      ]
     },
     "metadata": {},
     "output_type": "display_data"
    }
   ],
   "source": [
    "# Visualize the performance of model output of predicted y values against the true y values of test set.\n",
    "plt.scatter(y_test,y_predict, color ='lightgreen')\n",
    "plt.ylabel('Model Predictions')\n",
    "plt.xlabel('True Values')\n",
    "plt.title('Multiple Linear Regression Predictions')"
   ]
  },
  {
   "cell_type": "markdown",
   "metadata": {},
   "source": [
    "## 10. Model Evaluation"
   ]
  },
  {
   "cell_type": "markdown",
   "metadata": {},
   "source": [
    "### Compute the performance on test set using metrics r2_score, RMSE, MAE."
   ]
  },
  {
   "cell_type": "code",
   "execution_count": 155,
   "metadata": {},
   "outputs": [],
   "source": [
    "from sklearn.metrics import r2_score, mean_absolute_error, mean_squared_error\n",
    "from math import sqrt\n",
    "\n",
    "k = X_test.shape[1] # store no. of features as k\n",
    "n = len(X_test) # store no. of rows as n"
   ]
  },
  {
   "cell_type": "code",
   "execution_count": 156,
   "metadata": {},
   "outputs": [
    {
     "name": "stdout",
     "output_type": "stream",
     "text": [
      "Root Mean Squared Error = 725976.994 \n",
      "Mean Absolute Error = 376525.7147655848 \n",
      "R2 = 0.7218851344560228 \n",
      "Adjusted R2 = 0.7218429553651461\n"
     ]
    }
   ],
   "source": [
    "RMSE = float(format(np.sqrt(mean_squared_error(y_test, y_predict)) , '.3f'))\n",
    "\n",
    "MAE = mean_absolute_error(y_test, y_predict)\n",
    "\n",
    "r2 = r2_score(y_test, y_predict)\n",
    "adj_r2 = 1-(1-r2)*(n-1)/(n-k-1)   \n",
    "\n",
    "print('Root Mean Squared Error =',RMSE, '\\nMean Absolute Error =',MAE, '\\nR2 =', r2, '\\nAdjusted R2 =', adj_r2) \n"
   ]
  },
  {
   "cell_type": "markdown",
   "metadata": {},
   "source": [
    "### Collect the coefficients and store them into dataframe."
   ]
  },
  {
   "cell_type": "code",
   "execution_count": 157,
   "metadata": {},
   "outputs": [
    {
     "data": {
      "text/html": [
       "<div>\n",
       "<style scoped>\n",
       "    .dataframe tbody tr th:only-of-type {\n",
       "        vertical-align: middle;\n",
       "    }\n",
       "\n",
       "    .dataframe tbody tr th {\n",
       "        vertical-align: top;\n",
       "    }\n",
       "\n",
       "    .dataframe thead th {\n",
       "        text-align: right;\n",
       "    }\n",
       "</style>\n",
       "<table border=\"1\" class=\"dataframe\">\n",
       "  <thead>\n",
       "    <tr style=\"text-align: right;\">\n",
       "      <th></th>\n",
       "      <th>Coefficients</th>\n",
       "    </tr>\n",
       "  </thead>\n",
       "  <tbody>\n",
       "    <tr>\n",
       "      <th>area</th>\n",
       "      <td>1.226884e+06</td>\n",
       "    </tr>\n",
       "    <tr>\n",
       "      <th>noOfUnits</th>\n",
       "      <td>0.000000e+00</td>\n",
       "    </tr>\n",
       "    <tr>\n",
       "      <th>Year</th>\n",
       "      <td>1.308587e+05</td>\n",
       "    </tr>\n",
       "  </tbody>\n",
       "</table>\n",
       "</div>"
      ],
      "text/plain": [
       "           Coefficients\n",
       "area       1.226884e+06\n",
       "noOfUnits  0.000000e+00\n",
       "Year       1.308587e+05"
      ]
     },
     "execution_count": 157,
     "metadata": {},
     "output_type": "execute_result"
    }
   ],
   "source": [
    "cdf = pd.DataFrame(model.coef_, X.columns, columns=['Coefficients'])\n",
    "cdf"
   ]
  },
  {
   "cell_type": "code",
   "execution_count": 158,
   "metadata": {},
   "outputs": [
    {
     "data": {
      "text/plain": [
       "1783564.9639909728"
      ]
     },
     "execution_count": 158,
     "metadata": {},
     "output_type": "execute_result"
    }
   ],
   "source": [
    "intercept = model.intercept_\n",
    "intercept"
   ]
  },
  {
   "cell_type": "markdown",
   "metadata": {},
   "source": [
    "### Testing The Model "
   ]
  },
  {
   "cell_type": "code",
   "execution_count": 159,
   "metadata": {},
   "outputs": [],
   "source": [
    "# test the model on the test data, store the prediction results to y_pred\n",
    "y_pred = model.predict(X_test)"
   ]
  },
  {
   "cell_type": "markdown",
   "metadata": {},
   "source": [
    "## 11. Regularization"
   ]
  },
  {
   "cell_type": "code",
   "execution_count": 160,
   "metadata": {},
   "outputs": [],
   "source": [
    "import sklearn\n",
    "from sklearn.linear_model import LinearRegression, Lasso, Ridge, ElasticNet \n",
    "from sklearn.model_selection import train_test_split\n",
    "\n",
    "from sklearn.model_selection import GridSearchCV , RandomizedSearchCV\n",
    "from sklearn import metrics\n",
    "\n",
    "#from mlxtend.math import num_combinations"
   ]
  },
  {
   "cell_type": "code",
   "execution_count": 161,
   "metadata": {},
   "outputs": [],
   "source": [
    "# Splitting the datasets into training and testing\n",
    "from sklearn.model_selection import train_test_split\n",
    "X_train, X_test, y_train, y_test = train_test_split(X, y,train_size=0.2, random_state =7)"
   ]
  },
  {
   "cell_type": "markdown",
   "metadata": {},
   "source": [
    "### Linear Regression"
   ]
  },
  {
   "cell_type": "code",
   "execution_count": 162,
   "metadata": {},
   "outputs": [
    {
     "data": {
      "text/plain": [
       "LinearRegression(copy_X=True, fit_intercept=True, n_jobs=None,\n",
       "                 normalize='deprecated', positive=False)"
      ]
     },
     "execution_count": 162,
     "metadata": {},
     "output_type": "execute_result"
    }
   ],
   "source": [
    "# Fit the linear regression model to train set\n",
    "\n",
    "model_LR = LinearRegression()\n",
    "model_LR.fit(X_train , y_train)"
   ]
  },
  {
   "cell_type": "code",
   "execution_count": 163,
   "metadata": {},
   "outputs": [],
   "source": [
    "# predict on test set using X_test to get predicted y values\n",
    "\n",
    "LR_y = model_LR.predict(X_test)"
   ]
  },
  {
   "cell_type": "code",
   "execution_count": 164,
   "metadata": {},
   "outputs": [
    {
     "data": {
      "text/plain": [
       "376525.7147655848"
      ]
     },
     "execution_count": 164,
     "metadata": {},
     "output_type": "execute_result"
    }
   ],
   "source": [
    "# MAE of Y_test (actual y) against predicted y\n",
    "\n",
    "metrics.mean_absolute_error(y_test , LR_y)"
   ]
  },
  {
   "cell_type": "code",
   "execution_count": 165,
   "metadata": {},
   "outputs": [
    {
     "data": {
      "text/plain": [
       "72.18851344560228"
      ]
     },
     "execution_count": 165,
     "metadata": {},
     "output_type": "execute_result"
    }
   ],
   "source": [
    "# R2 score\n",
    "metrics.r2_score(y_test , LR_y)*100"
   ]
  },
  {
   "cell_type": "markdown",
   "metadata": {},
   "source": [
    "### Lasso"
   ]
  },
  {
   "cell_type": "code",
   "execution_count": 166,
   "metadata": {},
   "outputs": [],
   "source": [
    "model_Lasso = Lasso(alpha= 0.7 )"
   ]
  },
  {
   "cell_type": "code",
   "execution_count": 167,
   "metadata": {},
   "outputs": [
    {
     "data": {
      "text/plain": [
       "Lasso(alpha=0.7, copy_X=True, fit_intercept=True, max_iter=1000,\n",
       "      normalize='deprecated', positive=False, precompute=False,\n",
       "      random_state=None, selection='cyclic', tol=0.0001, warm_start=False)"
      ]
     },
     "execution_count": 167,
     "metadata": {},
     "output_type": "execute_result"
    }
   ],
   "source": [
    "model_Lasso.fit(X_train , y_train)"
   ]
  },
  {
   "cell_type": "code",
   "execution_count": 168,
   "metadata": {},
   "outputs": [],
   "source": [
    "Lasso_y = model_Lasso.predict(X_test)"
   ]
  },
  {
   "cell_type": "code",
   "execution_count": 169,
   "metadata": {},
   "outputs": [
    {
     "data": {
      "text/plain": [
       "376525.53739640425"
      ]
     },
     "execution_count": 169,
     "metadata": {},
     "output_type": "execute_result"
    }
   ],
   "source": [
    "metrics.mean_absolute_error(y_test , Lasso_y)"
   ]
  },
  {
   "cell_type": "code",
   "execution_count": 170,
   "metadata": {
    "scrolled": true
   },
   "outputs": [
    {
     "data": {
      "text/plain": [
       "72.18851779661738"
      ]
     },
     "execution_count": 170,
     "metadata": {},
     "output_type": "execute_result"
    }
   ],
   "source": [
    "metrics.r2_score(y_test , Lasso_y)*100"
   ]
  },
  {
   "cell_type": "markdown",
   "metadata": {},
   "source": [
    "### Ridge"
   ]
  },
  {
   "cell_type": "code",
   "execution_count": 171,
   "metadata": {},
   "outputs": [],
   "source": [
    "model_Ridge = Ridge(alpha= 0.3)"
   ]
  },
  {
   "cell_type": "code",
   "execution_count": 172,
   "metadata": {},
   "outputs": [
    {
     "data": {
      "text/plain": [
       "Ridge(alpha=0.3, copy_X=True, fit_intercept=True, max_iter=None,\n",
       "      normalize='deprecated', positive=False, random_state=None, solver='auto',\n",
       "      tol=0.001)"
      ]
     },
     "execution_count": 172,
     "metadata": {},
     "output_type": "execute_result"
    }
   ],
   "source": [
    "model_Ridge.fit(X_train , y_train)"
   ]
  },
  {
   "cell_type": "code",
   "execution_count": 173,
   "metadata": {},
   "outputs": [],
   "source": [
    "Ridge_y = model_Ridge.predict(X_test)"
   ]
  },
  {
   "cell_type": "code",
   "execution_count": 174,
   "metadata": {},
   "outputs": [
    {
     "data": {
      "text/plain": [
       "376517.69608898304"
      ]
     },
     "execution_count": 174,
     "metadata": {},
     "output_type": "execute_result"
    }
   ],
   "source": [
    "metrics.mean_absolute_error(y_test , Ridge_y)"
   ]
  },
  {
   "cell_type": "code",
   "execution_count": 175,
   "metadata": {},
   "outputs": [
    {
     "data": {
      "text/plain": [
       "72.18889644744688"
      ]
     },
     "execution_count": 175,
     "metadata": {},
     "output_type": "execute_result"
    }
   ],
   "source": [
    "metrics.r2_score(y_test , Ridge_y)*100"
   ]
  },
  {
   "cell_type": "markdown",
   "metadata": {},
   "source": [
    "### Elastic"
   ]
  },
  {
   "cell_type": "code",
   "execution_count": 176,
   "metadata": {},
   "outputs": [],
   "source": [
    "model_Elas = ElasticNet(alpha= 0.2 , l1_ratio= 0.4)"
   ]
  },
  {
   "cell_type": "code",
   "execution_count": 177,
   "metadata": {},
   "outputs": [
    {
     "data": {
      "text/plain": [
       "ElasticNet(alpha=0.2, copy_X=True, fit_intercept=True, l1_ratio=0.4,\n",
       "           max_iter=1000, normalize='deprecated', positive=False,\n",
       "           precompute=False, random_state=None, selection='cyclic', tol=0.0001,\n",
       "           warm_start=False)"
      ]
     },
     "execution_count": 177,
     "metadata": {},
     "output_type": "execute_result"
    }
   ],
   "source": [
    "model_Elas.fit(X_train , y_train)"
   ]
  },
  {
   "cell_type": "code",
   "execution_count": 178,
   "metadata": {},
   "outputs": [],
   "source": [
    "Elas_y = model_Elas.predict(X_test)"
   ]
  },
  {
   "cell_type": "code",
   "execution_count": 179,
   "metadata": {},
   "outputs": [
    {
     "data": {
      "text/plain": [
       "367549.04004165356"
      ]
     },
     "execution_count": 179,
     "metadata": {},
     "output_type": "execute_result"
    }
   ],
   "source": [
    "metrics.mean_absolute_error(y_test , Elas_y)"
   ]
  },
  {
   "cell_type": "code",
   "execution_count": 180,
   "metadata": {},
   "outputs": [
    {
     "data": {
      "text/plain": [
       "72.05262578014838"
      ]
     },
     "execution_count": 180,
     "metadata": {},
     "output_type": "execute_result"
    }
   ],
   "source": [
    "metrics.r2_score(y_test , Elas_y)*100"
   ]
  },
  {
   "cell_type": "code",
   "execution_count": 181,
   "metadata": {},
   "outputs": [
    {
     "data": {
      "text/plain": [
       "array([1226814.24936298,       0.        ,  130850.50579475])"
      ]
     },
     "execution_count": 181,
     "metadata": {},
     "output_type": "execute_result"
    }
   ],
   "source": [
    "# .coef_ is an attribute of a model_Ridge object\n",
    "\n",
    "model_Ridge.coef_\n"
   ]
  },
  {
   "cell_type": "code",
   "execution_count": 182,
   "metadata": {
    "scrolled": true
   },
   "outputs": [
    {
     "data": {
      "text/html": [
       "<div>\n",
       "<style scoped>\n",
       "    .dataframe tbody tr th:only-of-type {\n",
       "        vertical-align: middle;\n",
       "    }\n",
       "\n",
       "    .dataframe tbody tr th {\n",
       "        vertical-align: top;\n",
       "    }\n",
       "\n",
       "    .dataframe thead th {\n",
       "        text-align: right;\n",
       "    }\n",
       "</style>\n",
       "<table border=\"1\" class=\"dataframe\">\n",
       "  <thead>\n",
       "    <tr style=\"text-align: right;\">\n",
       "      <th></th>\n",
       "      <th>area</th>\n",
       "      <th>noOfUnits</th>\n",
       "      <th>Year</th>\n",
       "    </tr>\n",
       "  </thead>\n",
       "  <tbody>\n",
       "    <tr>\n",
       "      <th>0</th>\n",
       "      <td>1.226814e+06</td>\n",
       "      <td>0.0</td>\n",
       "      <td>130850.505795</td>\n",
       "    </tr>\n",
       "  </tbody>\n",
       "</table>\n",
       "</div>"
      ],
      "text/plain": [
       "           area  noOfUnits           Year\n",
       "0  1.226814e+06        0.0  130850.505795"
      ]
     },
     "execution_count": 182,
     "metadata": {},
     "output_type": "execute_result"
    }
   ],
   "source": [
    "coef = model_Ridge.coef_\n",
    "\n",
    "# Store coefficients and their names in dataframe\n",
    "pd.DataFrame([coef], columns = X.columns)"
   ]
  },
  {
   "cell_type": "code",
   "execution_count": 183,
   "metadata": {},
   "outputs": [
    {
     "data": {
      "text/html": [
       "<style  type=\"text/css\" >\n",
       "</style><table id=\"T_6d9eefa0_cccd_11ec_aa0b_b4b5b6ea7a5a\" ><thead>    <tr>        <th class=\"blank level0\" ></th>        <th class=\"col_heading level0 col0\" >Regularization</th>        <th class=\"col_heading level0 col1\" >Linear Regression</th>        <th class=\"col_heading level0 col2\" >Lasso</th>        <th class=\"col_heading level0 col3\" >Ridge</th>        <th class=\"col_heading level0 col4\" >Elastic</th>    </tr></thead><tbody>\n",
       "                <tr>\n",
       "                        <th id=\"T_6d9eefa0_cccd_11ec_aa0b_b4b5b6ea7a5alevel0_row0\" class=\"row_heading level0 row0\" >0</th>\n",
       "                        <td id=\"T_6d9eefa0_cccd_11ec_aa0b_b4b5b6ea7a5arow0_col0\" class=\"data row0 col0\" >Mean Absolute Error (MAE) </td>\n",
       "                        <td id=\"T_6d9eefa0_cccd_11ec_aa0b_b4b5b6ea7a5arow0_col1\" class=\"data row0 col1\" >376525.7147655848</td>\n",
       "                        <td id=\"T_6d9eefa0_cccd_11ec_aa0b_b4b5b6ea7a5arow0_col2\" class=\"data row0 col2\" >376525.53739640425</td>\n",
       "                        <td id=\"T_6d9eefa0_cccd_11ec_aa0b_b4b5b6ea7a5arow0_col3\" class=\"data row0 col3\" >376517.69608898304</td>\n",
       "                        <td id=\"T_6d9eefa0_cccd_11ec_aa0b_b4b5b6ea7a5arow0_col4\" class=\"data row0 col4\" >367549.04004165356</td>\n",
       "            </tr>\n",
       "            <tr>\n",
       "                        <th id=\"T_6d9eefa0_cccd_11ec_aa0b_b4b5b6ea7a5alevel0_row1\" class=\"row_heading level0 row1\" >1</th>\n",
       "                        <td id=\"T_6d9eefa0_cccd_11ec_aa0b_b4b5b6ea7a5arow1_col0\" class=\"data row1 col0\" >R2 Score</td>\n",
       "                        <td id=\"T_6d9eefa0_cccd_11ec_aa0b_b4b5b6ea7a5arow1_col1\" class=\"data row1 col1\" >72.18851344560228</td>\n",
       "                        <td id=\"T_6d9eefa0_cccd_11ec_aa0b_b4b5b6ea7a5arow1_col2\" class=\"data row1 col2\" >72.18851779661738</td>\n",
       "                        <td id=\"T_6d9eefa0_cccd_11ec_aa0b_b4b5b6ea7a5arow1_col3\" class=\"data row1 col3\" >72.18889644744688</td>\n",
       "                        <td id=\"T_6d9eefa0_cccd_11ec_aa0b_b4b5b6ea7a5arow1_col4\" class=\"data row1 col4\" >72.05262578014838</td>\n",
       "            </tr>\n",
       "    </tbody></table>"
      ],
      "text/plain": [
       "<pandas.io.formats.style.Styler at 0x28f50ec0640>"
      ]
     },
     "execution_count": 183,
     "metadata": {},
     "output_type": "execute_result"
    }
   ],
   "source": [
    "# creating a DataFrame\n",
    "dict_regularization = {'Regularization' : ['Mean Absolute Error (MAE) ', 'R2 Score'],\n",
    "        'Linear Regression' : [\"376525.7147655848\", \"72.18851344560228\"],\n",
    "        'Lasso' : [\"376525.53739640425\", \"72.18851779661738\"],\n",
    "        'Ridge' : [\"376517.69608898304\", \"72.18889644744688\"],\n",
    "        'Elastic' : [\"367549.04004165356\", \"72.05262578014838\"],\n",
    "        \n",
    "       }\n",
    "dataframe3 = pd.DataFrame(dict_regularization)\n",
    "\n",
    "  \n",
    "# displaying the DataFrame\n",
    "dataframe3\n",
    "dataframe3.style.background_gradient()\n",
    "\n",
    "#dataframe1.style.highlight_max(color = 'lightgreen', axis = 0)\n",
    "#print(tabulate(dataframe1, headers = 'keys', tablefmt = 'pretty'))"
   ]
  },
  {
   "cell_type": "markdown",
   "metadata": {},
   "source": [
    "## 12. Forward Selection"
   ]
  },
  {
   "cell_type": "code",
   "execution_count": 184,
   "metadata": {},
   "outputs": [],
   "source": [
    "from mlxtend.feature_selection import SequentialFeatureSelector as SFS"
   ]
  },
  {
   "cell_type": "code",
   "execution_count": 185,
   "metadata": {},
   "outputs": [],
   "source": [
    "sfs = SFS(model_Elas, \n",
    "          k_features=3, \n",
    "          forward=True, \n",
    "          scoring='r2',   # default is r2 (reg) and accuracy (classf)\n",
    "          cv=3)"
   ]
  },
  {
   "cell_type": "code",
   "execution_count": 186,
   "metadata": {},
   "outputs": [
    {
     "data": {
      "text/plain": [
       "['accuracy',\n",
       " 'adjusted_mutual_info_score',\n",
       " 'adjusted_rand_score',\n",
       " 'average_precision',\n",
       " 'balanced_accuracy',\n",
       " 'completeness_score',\n",
       " 'explained_variance',\n",
       " 'f1',\n",
       " 'f1_macro',\n",
       " 'f1_micro',\n",
       " 'f1_samples',\n",
       " 'f1_weighted',\n",
       " 'fowlkes_mallows_score',\n",
       " 'homogeneity_score',\n",
       " 'jaccard',\n",
       " 'jaccard_macro',\n",
       " 'jaccard_micro',\n",
       " 'jaccard_samples',\n",
       " 'jaccard_weighted',\n",
       " 'max_error',\n",
       " 'mutual_info_score',\n",
       " 'neg_brier_score',\n",
       " 'neg_log_loss',\n",
       " 'neg_mean_absolute_error',\n",
       " 'neg_mean_absolute_percentage_error',\n",
       " 'neg_mean_gamma_deviance',\n",
       " 'neg_mean_poisson_deviance',\n",
       " 'neg_mean_squared_error',\n",
       " 'neg_mean_squared_log_error',\n",
       " 'neg_median_absolute_error',\n",
       " 'neg_root_mean_squared_error',\n",
       " 'normalized_mutual_info_score',\n",
       " 'precision',\n",
       " 'precision_macro',\n",
       " 'precision_micro',\n",
       " 'precision_samples',\n",
       " 'precision_weighted',\n",
       " 'r2',\n",
       " 'rand_score',\n",
       " 'recall',\n",
       " 'recall_macro',\n",
       " 'recall_micro',\n",
       " 'recall_samples',\n",
       " 'recall_weighted',\n",
       " 'roc_auc',\n",
       " 'roc_auc_ovo',\n",
       " 'roc_auc_ovo_weighted',\n",
       " 'roc_auc_ovr',\n",
       " 'roc_auc_ovr_weighted',\n",
       " 'top_k_accuracy',\n",
       " 'v_measure_score']"
      ]
     },
     "execution_count": 186,
     "metadata": {},
     "output_type": "execute_result"
    }
   ],
   "source": [
    "import sklearn\n",
    "sorted(sklearn.metrics.SCORERS.keys())"
   ]
  },
  {
   "cell_type": "code",
   "execution_count": 187,
   "metadata": {},
   "outputs": [],
   "source": [
    "sfs = sfs.fit(X_train, y_train)"
   ]
  },
  {
   "cell_type": "code",
   "execution_count": 188,
   "metadata": {},
   "outputs": [
    {
     "data": {
      "text/plain": [
       "('area', 'noOfUnits', 'Year')"
      ]
     },
     "execution_count": 188,
     "metadata": {},
     "output_type": "execute_result"
    }
   ],
   "source": [
    "sfs.k_feature_names_"
   ]
  },
  {
   "cell_type": "code",
   "execution_count": 189,
   "metadata": {},
   "outputs": [
    {
     "name": "stdout",
     "output_type": "stream",
     "text": [
      "\n",
      "Selected feature indices: (0, 1, 2)\n",
      "CV Score: 0.7388404124864817\n"
     ]
    }
   ],
   "source": [
    "print('\\nSelected feature indices:', sfs.k_feature_idx_)\n",
    "print('CV Score:', sfs.k_score_)"
   ]
  },
  {
   "cell_type": "code",
   "execution_count": 190,
   "metadata": {},
   "outputs": [
    {
     "data": {
      "text/html": [
       "<div>\n",
       "<style scoped>\n",
       "    .dataframe tbody tr th:only-of-type {\n",
       "        vertical-align: middle;\n",
       "    }\n",
       "\n",
       "    .dataframe tbody tr th {\n",
       "        vertical-align: top;\n",
       "    }\n",
       "\n",
       "    .dataframe thead th {\n",
       "        text-align: right;\n",
       "    }\n",
       "</style>\n",
       "<table border=\"1\" class=\"dataframe\">\n",
       "  <thead>\n",
       "    <tr style=\"text-align: right;\">\n",
       "      <th></th>\n",
       "      <th>feature_idx</th>\n",
       "      <th>cv_scores</th>\n",
       "      <th>avg_score</th>\n",
       "      <th>feature_names</th>\n",
       "      <th>ci_bound</th>\n",
       "      <th>std_dev</th>\n",
       "      <th>std_err</th>\n",
       "    </tr>\n",
       "  </thead>\n",
       "  <tbody>\n",
       "    <tr>\n",
       "      <th>1</th>\n",
       "      <td>(0,)</td>\n",
       "      <td>[0.7445800328578625, 0.753613830587015, 0.6913...</td>\n",
       "      <td>0.729862</td>\n",
       "      <td>(area,)</td>\n",
       "      <td>0.0617732</td>\n",
       "      <td>0.0274507</td>\n",
       "      <td>0.0194106</td>\n",
       "    </tr>\n",
       "    <tr>\n",
       "      <th>2</th>\n",
       "      <td>(0, 2)</td>\n",
       "      <td>[0.7513735004570008, 0.7627997482869953, 0.702...</td>\n",
       "      <td>0.73884</td>\n",
       "      <td>(area, Year)</td>\n",
       "      <td>0.0590088</td>\n",
       "      <td>0.0262223</td>\n",
       "      <td>0.018542</td>\n",
       "    </tr>\n",
       "    <tr>\n",
       "      <th>3</th>\n",
       "      <td>(0, 1, 2)</td>\n",
       "      <td>[0.7513735004570008, 0.7627997482869953, 0.702...</td>\n",
       "      <td>0.73884</td>\n",
       "      <td>(area, noOfUnits, Year)</td>\n",
       "      <td>0.0590088</td>\n",
       "      <td>0.0262223</td>\n",
       "      <td>0.018542</td>\n",
       "    </tr>\n",
       "  </tbody>\n",
       "</table>\n",
       "</div>"
      ],
      "text/plain": [
       "  feature_idx                                          cv_scores avg_score  \\\n",
       "1        (0,)  [0.7445800328578625, 0.753613830587015, 0.6913...  0.729862   \n",
       "2      (0, 2)  [0.7513735004570008, 0.7627997482869953, 0.702...   0.73884   \n",
       "3   (0, 1, 2)  [0.7513735004570008, 0.7627997482869953, 0.702...   0.73884   \n",
       "\n",
       "             feature_names   ci_bound    std_dev    std_err  \n",
       "1                  (area,)  0.0617732  0.0274507  0.0194106  \n",
       "2             (area, Year)  0.0590088  0.0262223   0.018542  \n",
       "3  (area, noOfUnits, Year)  0.0590088  0.0262223   0.018542  "
      ]
     },
     "execution_count": 190,
     "metadata": {},
     "output_type": "execute_result"
    }
   ],
   "source": [
    "pd.DataFrame.from_dict(sfs.get_metric_dict()).T"
   ]
  },
  {
   "cell_type": "code",
   "execution_count": 191,
   "metadata": {},
   "outputs": [
    {
     "data": {
      "image/png": "[encoded data removed]",
      "text/plain": [
       "<Figure size 432x288 with 1 Axes>"
      ]
     },
     "metadata": {},
     "output_type": "display_data"
    }
   ],
   "source": [
    "# Plot graph showing the selection results \n",
    "\n",
    "from mlxtend.plotting import plot_sequential_feature_selection as plot_sfs\n",
    "\n",
    "fig1 = plot_sfs(sfs.get_metric_dict(), kind='std_dev')\n",
    "\n",
    "#plt.ylim([0, 0.2])\n",
    "plt.title('Sequential forward Selection (w. StdDev)')\n",
    "plt.grid()\n",
    "plt.show()"
   ]
  },
  {
   "cell_type": "markdown",
   "metadata": {},
   "source": [
    "## 13. AutoML - Pycaret"
   ]
  },
  {
   "cell_type": "code",
   "execution_count": 192,
   "metadata": {},
   "outputs": [],
   "source": [
    "import scikitplot as skplt"
   ]
  },
  {
   "cell_type": "code",
   "execution_count": 193,
   "metadata": {},
   "outputs": [
    {
     "data": {
      "text/plain": [
       "(24731, 10)"
      ]
     },
     "execution_count": 193,
     "metadata": {},
     "output_type": "execute_result"
    }
   ],
   "source": [
    "df_unit_u_pr.shape"
   ]
  },
  {
   "cell_type": "code",
   "execution_count": 194,
   "metadata": {},
   "outputs": [
    {
     "name": "stdout",
     "output_type": "stream",
     "text": [
      "Data for Modeling: (22258, 10)\n",
      "Unseen Data For Predictions: (2473, 10)\n"
     ]
    }
   ],
   "source": [
    "data = df_unit_u_pr.sample(frac=0.9, random_state=786)\n",
    "data_unseen = df_unit_u_pr.drop(data.index)\n",
    "\n",
    "data.reset_index(drop=True, inplace=True)\n",
    "data_unseen.reset_index(drop=True, inplace=True)\n",
    "\n",
    "print('Data for Modeling: ' + str(data.shape))\n",
    "print('Unseen Data For Predictions: ' + str(data_unseen.shape))"
   ]
  },
  {
   "cell_type": "code",
   "execution_count": 195,
   "metadata": {},
   "outputs": [
    {
     "data": {
      "text/html": [
       "<style  type=\"text/css\" >\n",
       "</style><table id=\"T_710f2925_cccd_11ec_886b_b4b5b6ea7a5a\" ><thead>    <tr>        <th class=\"blank level0\" ></th>        <th class=\"col_heading level0 col0\" >Description</th>        <th class=\"col_heading level0 col1\" >Value</th>    </tr></thead><tbody>\n",
       "                <tr>\n",
       "                        <th id=\"T_710f2925_cccd_11ec_886b_b4b5b6ea7a5alevel0_row0\" class=\"row_heading level0 row0\" >0</th>\n",
       "                        <td id=\"T_710f2925_cccd_11ec_886b_b4b5b6ea7a5arow0_col0\" class=\"data row0 col0\" >session_id</td>\n",
       "                        <td id=\"T_710f2925_cccd_11ec_886b_b4b5b6ea7a5arow0_col1\" class=\"data row0 col1\" >123</td>\n",
       "            </tr>\n",
       "            <tr>\n",
       "                        <th id=\"T_710f2925_cccd_11ec_886b_b4b5b6ea7a5alevel0_row1\" class=\"row_heading level0 row1\" >1</th>\n",
       "                        <td id=\"T_710f2925_cccd_11ec_886b_b4b5b6ea7a5arow1_col0\" class=\"data row1 col0\" >Target</td>\n",
       "                        <td id=\"T_710f2925_cccd_11ec_886b_b4b5b6ea7a5arow1_col1\" class=\"data row1 col1\" >price</td>\n",
       "            </tr>\n",
       "            <tr>\n",
       "                        <th id=\"T_710f2925_cccd_11ec_886b_b4b5b6ea7a5alevel0_row2\" class=\"row_heading level0 row2\" >2</th>\n",
       "                        <td id=\"T_710f2925_cccd_11ec_886b_b4b5b6ea7a5arow2_col0\" class=\"data row2 col0\" >Original Data</td>\n",
       "                        <td id=\"T_710f2925_cccd_11ec_886b_b4b5b6ea7a5arow2_col1\" class=\"data row2 col1\" >(24731, 10)</td>\n",
       "            </tr>\n",
       "            <tr>\n",
       "                        <th id=\"T_710f2925_cccd_11ec_886b_b4b5b6ea7a5alevel0_row3\" class=\"row_heading level0 row3\" >3</th>\n",
       "                        <td id=\"T_710f2925_cccd_11ec_886b_b4b5b6ea7a5arow3_col0\" class=\"data row3 col0\" >Missing Values</td>\n",
       "                        <td id=\"T_710f2925_cccd_11ec_886b_b4b5b6ea7a5arow3_col1\" class=\"data row3 col1\" >False</td>\n",
       "            </tr>\n",
       "            <tr>\n",
       "                        <th id=\"T_710f2925_cccd_11ec_886b_b4b5b6ea7a5alevel0_row4\" class=\"row_heading level0 row4\" >4</th>\n",
       "                        <td id=\"T_710f2925_cccd_11ec_886b_b4b5b6ea7a5arow4_col0\" class=\"data row4 col0\" >Numeric Features</td>\n",
       "                        <td id=\"T_710f2925_cccd_11ec_886b_b4b5b6ea7a5arow4_col1\" class=\"data row4 col1\" >8</td>\n",
       "            </tr>\n",
       "            <tr>\n",
       "                        <th id=\"T_710f2925_cccd_11ec_886b_b4b5b6ea7a5alevel0_row5\" class=\"row_heading level0 row5\" >5</th>\n",
       "                        <td id=\"T_710f2925_cccd_11ec_886b_b4b5b6ea7a5arow5_col0\" class=\"data row5 col0\" >Categorical Features</td>\n",
       "                        <td id=\"T_710f2925_cccd_11ec_886b_b4b5b6ea7a5arow5_col1\" class=\"data row5 col1\" >1</td>\n",
       "            </tr>\n",
       "            <tr>\n",
       "                        <th id=\"T_710f2925_cccd_11ec_886b_b4b5b6ea7a5alevel0_row6\" class=\"row_heading level0 row6\" >6</th>\n",
       "                        <td id=\"T_710f2925_cccd_11ec_886b_b4b5b6ea7a5arow6_col0\" class=\"data row6 col0\" >Ordinal Features</td>\n",
       "                        <td id=\"T_710f2925_cccd_11ec_886b_b4b5b6ea7a5arow6_col1\" class=\"data row6 col1\" >False</td>\n",
       "            </tr>\n",
       "            <tr>\n",
       "                        <th id=\"T_710f2925_cccd_11ec_886b_b4b5b6ea7a5alevel0_row7\" class=\"row_heading level0 row7\" >7</th>\n",
       "                        <td id=\"T_710f2925_cccd_11ec_886b_b4b5b6ea7a5arow7_col0\" class=\"data row7 col0\" >High Cardinality Features</td>\n",
       "                        <td id=\"T_710f2925_cccd_11ec_886b_b4b5b6ea7a5arow7_col1\" class=\"data row7 col1\" >False</td>\n",
       "            </tr>\n",
       "            <tr>\n",
       "                        <th id=\"T_710f2925_cccd_11ec_886b_b4b5b6ea7a5alevel0_row8\" class=\"row_heading level0 row8\" >8</th>\n",
       "                        <td id=\"T_710f2925_cccd_11ec_886b_b4b5b6ea7a5arow8_col0\" class=\"data row8 col0\" >High Cardinality Method</td>\n",
       "                        <td id=\"T_710f2925_cccd_11ec_886b_b4b5b6ea7a5arow8_col1\" class=\"data row8 col1\" >None</td>\n",
       "            </tr>\n",
       "            <tr>\n",
       "                        <th id=\"T_710f2925_cccd_11ec_886b_b4b5b6ea7a5alevel0_row9\" class=\"row_heading level0 row9\" >9</th>\n",
       "                        <td id=\"T_710f2925_cccd_11ec_886b_b4b5b6ea7a5arow9_col0\" class=\"data row9 col0\" >Transformed Train Set</td>\n",
       "                        <td id=\"T_710f2925_cccd_11ec_886b_b4b5b6ea7a5arow9_col1\" class=\"data row9 col1\" >(17311, 14)</td>\n",
       "            </tr>\n",
       "            <tr>\n",
       "                        <th id=\"T_710f2925_cccd_11ec_886b_b4b5b6ea7a5alevel0_row10\" class=\"row_heading level0 row10\" >10</th>\n",
       "                        <td id=\"T_710f2925_cccd_11ec_886b_b4b5b6ea7a5arow10_col0\" class=\"data row10 col0\" >Transformed Test Set</td>\n",
       "                        <td id=\"T_710f2925_cccd_11ec_886b_b4b5b6ea7a5arow10_col1\" class=\"data row10 col1\" >(7420, 14)</td>\n",
       "            </tr>\n",
       "            <tr>\n",
       "                        <th id=\"T_710f2925_cccd_11ec_886b_b4b5b6ea7a5alevel0_row11\" class=\"row_heading level0 row11\" >11</th>\n",
       "                        <td id=\"T_710f2925_cccd_11ec_886b_b4b5b6ea7a5arow11_col0\" class=\"data row11 col0\" >Shuffle Train-Test</td>\n",
       "                        <td id=\"T_710f2925_cccd_11ec_886b_b4b5b6ea7a5arow11_col1\" class=\"data row11 col1\" >True</td>\n",
       "            </tr>\n",
       "            <tr>\n",
       "                        <th id=\"T_710f2925_cccd_11ec_886b_b4b5b6ea7a5alevel0_row12\" class=\"row_heading level0 row12\" >12</th>\n",
       "                        <td id=\"T_710f2925_cccd_11ec_886b_b4b5b6ea7a5arow12_col0\" class=\"data row12 col0\" >Stratify Train-Test</td>\n",
       "                        <td id=\"T_710f2925_cccd_11ec_886b_b4b5b6ea7a5arow12_col1\" class=\"data row12 col1\" >False</td>\n",
       "            </tr>\n",
       "            <tr>\n",
       "                        <th id=\"T_710f2925_cccd_11ec_886b_b4b5b6ea7a5alevel0_row13\" class=\"row_heading level0 row13\" >13</th>\n",
       "                        <td id=\"T_710f2925_cccd_11ec_886b_b4b5b6ea7a5arow13_col0\" class=\"data row13 col0\" >Fold Generator</td>\n",
       "                        <td id=\"T_710f2925_cccd_11ec_886b_b4b5b6ea7a5arow13_col1\" class=\"data row13 col1\" >KFold</td>\n",
       "            </tr>\n",
       "            <tr>\n",
       "                        <th id=\"T_710f2925_cccd_11ec_886b_b4b5b6ea7a5alevel0_row14\" class=\"row_heading level0 row14\" >14</th>\n",
       "                        <td id=\"T_710f2925_cccd_11ec_886b_b4b5b6ea7a5arow14_col0\" class=\"data row14 col0\" >Fold Number</td>\n",
       "                        <td id=\"T_710f2925_cccd_11ec_886b_b4b5b6ea7a5arow14_col1\" class=\"data row14 col1\" >10</td>\n",
       "            </tr>\n",
       "            <tr>\n",
       "                        <th id=\"T_710f2925_cccd_11ec_886b_b4b5b6ea7a5alevel0_row15\" class=\"row_heading level0 row15\" >15</th>\n",
       "                        <td id=\"T_710f2925_cccd_11ec_886b_b4b5b6ea7a5arow15_col0\" class=\"data row15 col0\" >CPU Jobs</td>\n",
       "                        <td id=\"T_710f2925_cccd_11ec_886b_b4b5b6ea7a5arow15_col1\" class=\"data row15 col1\" >-1</td>\n",
       "            </tr>\n",
       "            <tr>\n",
       "                        <th id=\"T_710f2925_cccd_11ec_886b_b4b5b6ea7a5alevel0_row16\" class=\"row_heading level0 row16\" >16</th>\n",
       "                        <td id=\"T_710f2925_cccd_11ec_886b_b4b5b6ea7a5arow16_col0\" class=\"data row16 col0\" >Use GPU</td>\n",
       "                        <td id=\"T_710f2925_cccd_11ec_886b_b4b5b6ea7a5arow16_col1\" class=\"data row16 col1\" >False</td>\n",
       "            </tr>\n",
       "            <tr>\n",
       "                        <th id=\"T_710f2925_cccd_11ec_886b_b4b5b6ea7a5alevel0_row17\" class=\"row_heading level0 row17\" >17</th>\n",
       "                        <td id=\"T_710f2925_cccd_11ec_886b_b4b5b6ea7a5arow17_col0\" class=\"data row17 col0\" >Log Experiment</td>\n",
       "                        <td id=\"T_710f2925_cccd_11ec_886b_b4b5b6ea7a5arow17_col1\" class=\"data row17 col1\" >False</td>\n",
       "            </tr>\n",
       "            <tr>\n",
       "                        <th id=\"T_710f2925_cccd_11ec_886b_b4b5b6ea7a5alevel0_row18\" class=\"row_heading level0 row18\" >18</th>\n",
       "                        <td id=\"T_710f2925_cccd_11ec_886b_b4b5b6ea7a5arow18_col0\" class=\"data row18 col0\" >Experiment Name</td>\n",
       "                        <td id=\"T_710f2925_cccd_11ec_886b_b4b5b6ea7a5arow18_col1\" class=\"data row18 col1\" >reg-default-name</td>\n",
       "            </tr>\n",
       "            <tr>\n",
       "                        <th id=\"T_710f2925_cccd_11ec_886b_b4b5b6ea7a5alevel0_row19\" class=\"row_heading level0 row19\" >19</th>\n",
       "                        <td id=\"T_710f2925_cccd_11ec_886b_b4b5b6ea7a5arow19_col0\" class=\"data row19 col0\" >USI</td>\n",
       "                        <td id=\"T_710f2925_cccd_11ec_886b_b4b5b6ea7a5arow19_col1\" class=\"data row19 col1\" >84cc</td>\n",
       "            </tr>\n",
       "            <tr>\n",
       "                        <th id=\"T_710f2925_cccd_11ec_886b_b4b5b6ea7a5alevel0_row20\" class=\"row_heading level0 row20\" >20</th>\n",
       "                        <td id=\"T_710f2925_cccd_11ec_886b_b4b5b6ea7a5arow20_col0\" class=\"data row20 col0\" >Imputation Type</td>\n",
       "                        <td id=\"T_710f2925_cccd_11ec_886b_b4b5b6ea7a5arow20_col1\" class=\"data row20 col1\" >simple</td>\n",
       "            </tr>\n",
       "            <tr>\n",
       "                        <th id=\"T_710f2925_cccd_11ec_886b_b4b5b6ea7a5alevel0_row21\" class=\"row_heading level0 row21\" >21</th>\n",
       "                        <td id=\"T_710f2925_cccd_11ec_886b_b4b5b6ea7a5arow21_col0\" class=\"data row21 col0\" >Iterative Imputation Iteration</td>\n",
       "                        <td id=\"T_710f2925_cccd_11ec_886b_b4b5b6ea7a5arow21_col1\" class=\"data row21 col1\" >None</td>\n",
       "            </tr>\n",
       "            <tr>\n",
       "                        <th id=\"T_710f2925_cccd_11ec_886b_b4b5b6ea7a5alevel0_row22\" class=\"row_heading level0 row22\" >22</th>\n",
       "                        <td id=\"T_710f2925_cccd_11ec_886b_b4b5b6ea7a5arow22_col0\" class=\"data row22 col0\" >Numeric Imputer</td>\n",
       "                        <td id=\"T_710f2925_cccd_11ec_886b_b4b5b6ea7a5arow22_col1\" class=\"data row22 col1\" >mean</td>\n",
       "            </tr>\n",
       "            <tr>\n",
       "                        <th id=\"T_710f2925_cccd_11ec_886b_b4b5b6ea7a5alevel0_row23\" class=\"row_heading level0 row23\" >23</th>\n",
       "                        <td id=\"T_710f2925_cccd_11ec_886b_b4b5b6ea7a5arow23_col0\" class=\"data row23 col0\" >Iterative Imputation Numeric Model</td>\n",
       "                        <td id=\"T_710f2925_cccd_11ec_886b_b4b5b6ea7a5arow23_col1\" class=\"data row23 col1\" >None</td>\n",
       "            </tr>\n",
       "            <tr>\n",
       "                        <th id=\"T_710f2925_cccd_11ec_886b_b4b5b6ea7a5alevel0_row24\" class=\"row_heading level0 row24\" >24</th>\n",
       "                        <td id=\"T_710f2925_cccd_11ec_886b_b4b5b6ea7a5arow24_col0\" class=\"data row24 col0\" >Categorical Imputer</td>\n",
       "                        <td id=\"T_710f2925_cccd_11ec_886b_b4b5b6ea7a5arow24_col1\" class=\"data row24 col1\" >constant</td>\n",
       "            </tr>\n",
       "            <tr>\n",
       "                        <th id=\"T_710f2925_cccd_11ec_886b_b4b5b6ea7a5alevel0_row25\" class=\"row_heading level0 row25\" >25</th>\n",
       "                        <td id=\"T_710f2925_cccd_11ec_886b_b4b5b6ea7a5arow25_col0\" class=\"data row25 col0\" >Iterative Imputation Categorical Model</td>\n",
       "                        <td id=\"T_710f2925_cccd_11ec_886b_b4b5b6ea7a5arow25_col1\" class=\"data row25 col1\" >None</td>\n",
       "            </tr>\n",
       "            <tr>\n",
       "                        <th id=\"T_710f2925_cccd_11ec_886b_b4b5b6ea7a5alevel0_row26\" class=\"row_heading level0 row26\" >26</th>\n",
       "                        <td id=\"T_710f2925_cccd_11ec_886b_b4b5b6ea7a5arow26_col0\" class=\"data row26 col0\" >Unknown Categoricals Handling</td>\n",
       "                        <td id=\"T_710f2925_cccd_11ec_886b_b4b5b6ea7a5arow26_col1\" class=\"data row26 col1\" >least_frequent</td>\n",
       "            </tr>\n",
       "            <tr>\n",
       "                        <th id=\"T_710f2925_cccd_11ec_886b_b4b5b6ea7a5alevel0_row27\" class=\"row_heading level0 row27\" >27</th>\n",
       "                        <td id=\"T_710f2925_cccd_11ec_886b_b4b5b6ea7a5arow27_col0\" class=\"data row27 col0\" >Normalize</td>\n",
       "                        <td id=\"T_710f2925_cccd_11ec_886b_b4b5b6ea7a5arow27_col1\" class=\"data row27 col1\" >False</td>\n",
       "            </tr>\n",
       "            <tr>\n",
       "                        <th id=\"T_710f2925_cccd_11ec_886b_b4b5b6ea7a5alevel0_row28\" class=\"row_heading level0 row28\" >28</th>\n",
       "                        <td id=\"T_710f2925_cccd_11ec_886b_b4b5b6ea7a5arow28_col0\" class=\"data row28 col0\" >Normalize Method</td>\n",
       "                        <td id=\"T_710f2925_cccd_11ec_886b_b4b5b6ea7a5arow28_col1\" class=\"data row28 col1\" >None</td>\n",
       "            </tr>\n",
       "            <tr>\n",
       "                        <th id=\"T_710f2925_cccd_11ec_886b_b4b5b6ea7a5alevel0_row29\" class=\"row_heading level0 row29\" >29</th>\n",
       "                        <td id=\"T_710f2925_cccd_11ec_886b_b4b5b6ea7a5arow29_col0\" class=\"data row29 col0\" >Transformation</td>\n",
       "                        <td id=\"T_710f2925_cccd_11ec_886b_b4b5b6ea7a5arow29_col1\" class=\"data row29 col1\" >False</td>\n",
       "            </tr>\n",
       "            <tr>\n",
       "                        <th id=\"T_710f2925_cccd_11ec_886b_b4b5b6ea7a5alevel0_row30\" class=\"row_heading level0 row30\" >30</th>\n",
       "                        <td id=\"T_710f2925_cccd_11ec_886b_b4b5b6ea7a5arow30_col0\" class=\"data row30 col0\" >Transformation Method</td>\n",
       "                        <td id=\"T_710f2925_cccd_11ec_886b_b4b5b6ea7a5arow30_col1\" class=\"data row30 col1\" >None</td>\n",
       "            </tr>\n",
       "            <tr>\n",
       "                        <th id=\"T_710f2925_cccd_11ec_886b_b4b5b6ea7a5alevel0_row31\" class=\"row_heading level0 row31\" >31</th>\n",
       "                        <td id=\"T_710f2925_cccd_11ec_886b_b4b5b6ea7a5arow31_col0\" class=\"data row31 col0\" >PCA</td>\n",
       "                        <td id=\"T_710f2925_cccd_11ec_886b_b4b5b6ea7a5arow31_col1\" class=\"data row31 col1\" >False</td>\n",
       "            </tr>\n",
       "            <tr>\n",
       "                        <th id=\"T_710f2925_cccd_11ec_886b_b4b5b6ea7a5alevel0_row32\" class=\"row_heading level0 row32\" >32</th>\n",
       "                        <td id=\"T_710f2925_cccd_11ec_886b_b4b5b6ea7a5arow32_col0\" class=\"data row32 col0\" >PCA Method</td>\n",
       "                        <td id=\"T_710f2925_cccd_11ec_886b_b4b5b6ea7a5arow32_col1\" class=\"data row32 col1\" >None</td>\n",
       "            </tr>\n",
       "            <tr>\n",
       "                        <th id=\"T_710f2925_cccd_11ec_886b_b4b5b6ea7a5alevel0_row33\" class=\"row_heading level0 row33\" >33</th>\n",
       "                        <td id=\"T_710f2925_cccd_11ec_886b_b4b5b6ea7a5arow33_col0\" class=\"data row33 col0\" >PCA Components</td>\n",
       "                        <td id=\"T_710f2925_cccd_11ec_886b_b4b5b6ea7a5arow33_col1\" class=\"data row33 col1\" >None</td>\n",
       "            </tr>\n",
       "            <tr>\n",
       "                        <th id=\"T_710f2925_cccd_11ec_886b_b4b5b6ea7a5alevel0_row34\" class=\"row_heading level0 row34\" >34</th>\n",
       "                        <td id=\"T_710f2925_cccd_11ec_886b_b4b5b6ea7a5arow34_col0\" class=\"data row34 col0\" >Ignore Low Variance</td>\n",
       "                        <td id=\"T_710f2925_cccd_11ec_886b_b4b5b6ea7a5arow34_col1\" class=\"data row34 col1\" >False</td>\n",
       "            </tr>\n",
       "            <tr>\n",
       "                        <th id=\"T_710f2925_cccd_11ec_886b_b4b5b6ea7a5alevel0_row35\" class=\"row_heading level0 row35\" >35</th>\n",
       "                        <td id=\"T_710f2925_cccd_11ec_886b_b4b5b6ea7a5arow35_col0\" class=\"data row35 col0\" >Combine Rare Levels</td>\n",
       "                        <td id=\"T_710f2925_cccd_11ec_886b_b4b5b6ea7a5arow35_col1\" class=\"data row35 col1\" >False</td>\n",
       "            </tr>\n",
       "            <tr>\n",
       "                        <th id=\"T_710f2925_cccd_11ec_886b_b4b5b6ea7a5alevel0_row36\" class=\"row_heading level0 row36\" >36</th>\n",
       "                        <td id=\"T_710f2925_cccd_11ec_886b_b4b5b6ea7a5arow36_col0\" class=\"data row36 col0\" >Rare Level Threshold</td>\n",
       "                        <td id=\"T_710f2925_cccd_11ec_886b_b4b5b6ea7a5arow36_col1\" class=\"data row36 col1\" >None</td>\n",
       "            </tr>\n",
       "            <tr>\n",
       "                        <th id=\"T_710f2925_cccd_11ec_886b_b4b5b6ea7a5alevel0_row37\" class=\"row_heading level0 row37\" >37</th>\n",
       "                        <td id=\"T_710f2925_cccd_11ec_886b_b4b5b6ea7a5arow37_col0\" class=\"data row37 col0\" >Numeric Binning</td>\n",
       "                        <td id=\"T_710f2925_cccd_11ec_886b_b4b5b6ea7a5arow37_col1\" class=\"data row37 col1\" >False</td>\n",
       "            </tr>\n",
       "            <tr>\n",
       "                        <th id=\"T_710f2925_cccd_11ec_886b_b4b5b6ea7a5alevel0_row38\" class=\"row_heading level0 row38\" >38</th>\n",
       "                        <td id=\"T_710f2925_cccd_11ec_886b_b4b5b6ea7a5arow38_col0\" class=\"data row38 col0\" >Remove Outliers</td>\n",
       "                        <td id=\"T_710f2925_cccd_11ec_886b_b4b5b6ea7a5arow38_col1\" class=\"data row38 col1\" >False</td>\n",
       "            </tr>\n",
       "            <tr>\n",
       "                        <th id=\"T_710f2925_cccd_11ec_886b_b4b5b6ea7a5alevel0_row39\" class=\"row_heading level0 row39\" >39</th>\n",
       "                        <td id=\"T_710f2925_cccd_11ec_886b_b4b5b6ea7a5arow39_col0\" class=\"data row39 col0\" >Outliers Threshold</td>\n",
       "                        <td id=\"T_710f2925_cccd_11ec_886b_b4b5b6ea7a5arow39_col1\" class=\"data row39 col1\" >None</td>\n",
       "            </tr>\n",
       "            <tr>\n",
       "                        <th id=\"T_710f2925_cccd_11ec_886b_b4b5b6ea7a5alevel0_row40\" class=\"row_heading level0 row40\" >40</th>\n",
       "                        <td id=\"T_710f2925_cccd_11ec_886b_b4b5b6ea7a5arow40_col0\" class=\"data row40 col0\" >Remove Multicollinearity</td>\n",
       "                        <td id=\"T_710f2925_cccd_11ec_886b_b4b5b6ea7a5arow40_col1\" class=\"data row40 col1\" >False</td>\n",
       "            </tr>\n",
       "            <tr>\n",
       "                        <th id=\"T_710f2925_cccd_11ec_886b_b4b5b6ea7a5alevel0_row41\" class=\"row_heading level0 row41\" >41</th>\n",
       "                        <td id=\"T_710f2925_cccd_11ec_886b_b4b5b6ea7a5arow41_col0\" class=\"data row41 col0\" >Multicollinearity Threshold</td>\n",
       "                        <td id=\"T_710f2925_cccd_11ec_886b_b4b5b6ea7a5arow41_col1\" class=\"data row41 col1\" >None</td>\n",
       "            </tr>\n",
       "            <tr>\n",
       "                        <th id=\"T_710f2925_cccd_11ec_886b_b4b5b6ea7a5alevel0_row42\" class=\"row_heading level0 row42\" >42</th>\n",
       "                        <td id=\"T_710f2925_cccd_11ec_886b_b4b5b6ea7a5arow42_col0\" class=\"data row42 col0\" >Clustering</td>\n",
       "                        <td id=\"T_710f2925_cccd_11ec_886b_b4b5b6ea7a5arow42_col1\" class=\"data row42 col1\" >False</td>\n",
       "            </tr>\n",
       "            <tr>\n",
       "                        <th id=\"T_710f2925_cccd_11ec_886b_b4b5b6ea7a5alevel0_row43\" class=\"row_heading level0 row43\" >43</th>\n",
       "                        <td id=\"T_710f2925_cccd_11ec_886b_b4b5b6ea7a5arow43_col0\" class=\"data row43 col0\" >Clustering Iteration</td>\n",
       "                        <td id=\"T_710f2925_cccd_11ec_886b_b4b5b6ea7a5arow43_col1\" class=\"data row43 col1\" >None</td>\n",
       "            </tr>\n",
       "            <tr>\n",
       "                        <th id=\"T_710f2925_cccd_11ec_886b_b4b5b6ea7a5alevel0_row44\" class=\"row_heading level0 row44\" >44</th>\n",
       "                        <td id=\"T_710f2925_cccd_11ec_886b_b4b5b6ea7a5arow44_col0\" class=\"data row44 col0\" >Polynomial Features</td>\n",
       "                        <td id=\"T_710f2925_cccd_11ec_886b_b4b5b6ea7a5arow44_col1\" class=\"data row44 col1\" >False</td>\n",
       "            </tr>\n",
       "            <tr>\n",
       "                        <th id=\"T_710f2925_cccd_11ec_886b_b4b5b6ea7a5alevel0_row45\" class=\"row_heading level0 row45\" >45</th>\n",
       "                        <td id=\"T_710f2925_cccd_11ec_886b_b4b5b6ea7a5arow45_col0\" class=\"data row45 col0\" >Polynomial Degree</td>\n",
       "                        <td id=\"T_710f2925_cccd_11ec_886b_b4b5b6ea7a5arow45_col1\" class=\"data row45 col1\" >None</td>\n",
       "            </tr>\n",
       "            <tr>\n",
       "                        <th id=\"T_710f2925_cccd_11ec_886b_b4b5b6ea7a5alevel0_row46\" class=\"row_heading level0 row46\" >46</th>\n",
       "                        <td id=\"T_710f2925_cccd_11ec_886b_b4b5b6ea7a5arow46_col0\" class=\"data row46 col0\" >Trignometry Features</td>\n",
       "                        <td id=\"T_710f2925_cccd_11ec_886b_b4b5b6ea7a5arow46_col1\" class=\"data row46 col1\" >False</td>\n",
       "            </tr>\n",
       "            <tr>\n",
       "                        <th id=\"T_710f2925_cccd_11ec_886b_b4b5b6ea7a5alevel0_row47\" class=\"row_heading level0 row47\" >47</th>\n",
       "                        <td id=\"T_710f2925_cccd_11ec_886b_b4b5b6ea7a5arow47_col0\" class=\"data row47 col0\" >Polynomial Threshold</td>\n",
       "                        <td id=\"T_710f2925_cccd_11ec_886b_b4b5b6ea7a5arow47_col1\" class=\"data row47 col1\" >None</td>\n",
       "            </tr>\n",
       "            <tr>\n",
       "                        <th id=\"T_710f2925_cccd_11ec_886b_b4b5b6ea7a5alevel0_row48\" class=\"row_heading level0 row48\" >48</th>\n",
       "                        <td id=\"T_710f2925_cccd_11ec_886b_b4b5b6ea7a5arow48_col0\" class=\"data row48 col0\" >Group Features</td>\n",
       "                        <td id=\"T_710f2925_cccd_11ec_886b_b4b5b6ea7a5arow48_col1\" class=\"data row48 col1\" >False</td>\n",
       "            </tr>\n",
       "            <tr>\n",
       "                        <th id=\"T_710f2925_cccd_11ec_886b_b4b5b6ea7a5alevel0_row49\" class=\"row_heading level0 row49\" >49</th>\n",
       "                        <td id=\"T_710f2925_cccd_11ec_886b_b4b5b6ea7a5arow49_col0\" class=\"data row49 col0\" >Feature Selection</td>\n",
       "                        <td id=\"T_710f2925_cccd_11ec_886b_b4b5b6ea7a5arow49_col1\" class=\"data row49 col1\" >False</td>\n",
       "            </tr>\n",
       "            <tr>\n",
       "                        <th id=\"T_710f2925_cccd_11ec_886b_b4b5b6ea7a5alevel0_row50\" class=\"row_heading level0 row50\" >50</th>\n",
       "                        <td id=\"T_710f2925_cccd_11ec_886b_b4b5b6ea7a5arow50_col0\" class=\"data row50 col0\" >Features Selection Threshold</td>\n",
       "                        <td id=\"T_710f2925_cccd_11ec_886b_b4b5b6ea7a5arow50_col1\" class=\"data row50 col1\" >None</td>\n",
       "            </tr>\n",
       "            <tr>\n",
       "                        <th id=\"T_710f2925_cccd_11ec_886b_b4b5b6ea7a5alevel0_row51\" class=\"row_heading level0 row51\" >51</th>\n",
       "                        <td id=\"T_710f2925_cccd_11ec_886b_b4b5b6ea7a5arow51_col0\" class=\"data row51 col0\" >Feature Interaction</td>\n",
       "                        <td id=\"T_710f2925_cccd_11ec_886b_b4b5b6ea7a5arow51_col1\" class=\"data row51 col1\" >False</td>\n",
       "            </tr>\n",
       "            <tr>\n",
       "                        <th id=\"T_710f2925_cccd_11ec_886b_b4b5b6ea7a5alevel0_row52\" class=\"row_heading level0 row52\" >52</th>\n",
       "                        <td id=\"T_710f2925_cccd_11ec_886b_b4b5b6ea7a5arow52_col0\" class=\"data row52 col0\" >Feature Ratio</td>\n",
       "                        <td id=\"T_710f2925_cccd_11ec_886b_b4b5b6ea7a5arow52_col1\" class=\"data row52 col1\" >False</td>\n",
       "            </tr>\n",
       "            <tr>\n",
       "                        <th id=\"T_710f2925_cccd_11ec_886b_b4b5b6ea7a5alevel0_row53\" class=\"row_heading level0 row53\" >53</th>\n",
       "                        <td id=\"T_710f2925_cccd_11ec_886b_b4b5b6ea7a5arow53_col0\" class=\"data row53 col0\" >Interaction Threshold</td>\n",
       "                        <td id=\"T_710f2925_cccd_11ec_886b_b4b5b6ea7a5arow53_col1\" class=\"data row53 col1\" >None</td>\n",
       "            </tr>\n",
       "            <tr>\n",
       "                        <th id=\"T_710f2925_cccd_11ec_886b_b4b5b6ea7a5alevel0_row54\" class=\"row_heading level0 row54\" >54</th>\n",
       "                        <td id=\"T_710f2925_cccd_11ec_886b_b4b5b6ea7a5arow54_col0\" class=\"data row54 col0\" >Transform Target</td>\n",
       "                        <td id=\"T_710f2925_cccd_11ec_886b_b4b5b6ea7a5arow54_col1\" class=\"data row54 col1\" >False</td>\n",
       "            </tr>\n",
       "            <tr>\n",
       "                        <th id=\"T_710f2925_cccd_11ec_886b_b4b5b6ea7a5alevel0_row55\" class=\"row_heading level0 row55\" >55</th>\n",
       "                        <td id=\"T_710f2925_cccd_11ec_886b_b4b5b6ea7a5arow55_col0\" class=\"data row55 col0\" >Transform Target Method</td>\n",
       "                        <td id=\"T_710f2925_cccd_11ec_886b_b4b5b6ea7a5arow55_col1\" class=\"data row55 col1\" >box-cox</td>\n",
       "            </tr>\n",
       "    </tbody></table>"
      ],
      "text/plain": [
       "<pandas.io.formats.style.Styler at 0x28f554bf460>"
      ]
     },
     "metadata": {},
     "output_type": "display_data"
    },
    {
     "ename": "AttributeError",
     "evalue": "'Simple_Imputer' object has no attribute 'fill_value_categorical'",
     "output_type": "error",
     "traceback": [
      "\u001b[1;31m---------------------------------------------------------------------------\u001b[0m",
      "\u001b[1;31mAttributeError\u001b[0m                            Traceback (most recent call last)",
      "\u001b[1;32m<ipython-input-195-8eb7425e810f>\u001b[0m in \u001b[0;36m<module>\u001b[1;34m\u001b[0m\n\u001b[0;32m      1\u001b[0m \u001b[1;32mfrom\u001b[0m \u001b[0mpycaret\u001b[0m\u001b[1;33m.\u001b[0m\u001b[0mregression\u001b[0m \u001b[1;32mimport\u001b[0m \u001b[1;33m*\u001b[0m\u001b[1;33m\u001b[0m\u001b[1;33m\u001b[0m\u001b[0m\n\u001b[1;32m----> 2\u001b[1;33m \u001b[0mexp_reg101\u001b[0m \u001b[1;33m=\u001b[0m \u001b[0msetup\u001b[0m\u001b[1;33m(\u001b[0m\u001b[0mdata\u001b[0m \u001b[1;33m=\u001b[0m \u001b[0mdf_unit_u_pr\u001b[0m\u001b[1;33m,\u001b[0m \u001b[0mtarget\u001b[0m \u001b[1;33m=\u001b[0m \u001b[1;34m'price'\u001b[0m\u001b[1;33m,\u001b[0m \u001b[0msession_id\u001b[0m\u001b[1;33m=\u001b[0m\u001b[1;36m123\u001b[0m\u001b[1;33m,\u001b[0m \u001b[0mfold_shuffle\u001b[0m\u001b[1;33m=\u001b[0m\u001b[1;32mTrue\u001b[0m\u001b[1;33m)\u001b[0m\u001b[1;33m\u001b[0m\u001b[1;33m\u001b[0m\u001b[0m\n\u001b[0m",
      "\u001b[1;32m~\\anaconda3\\envs\\1file\\lib\\site-packages\\pycaret\\regression.py\u001b[0m in \u001b[0;36msetup\u001b[1;34m(data, target, train_size, test_data, preprocess, imputation_type, iterative_imputation_iters, categorical_features, categorical_imputation, categorical_iterative_imputer, ordinal_features, high_cardinality_features, high_cardinality_method, numeric_features, numeric_imputation, numeric_iterative_imputer, date_features, ignore_features, normalize, normalize_method, transformation, transformation_method, handle_unknown_categorical, unknown_categorical_method, pca, pca_method, pca_components, ignore_low_variance, combine_rare_levels, rare_level_threshold, bin_numeric_features, remove_outliers, outliers_threshold, remove_multicollinearity, multicollinearity_threshold, remove_perfect_collinearity, create_clusters, cluster_iter, polynomial_features, polynomial_degree, trigonometry_features, polynomial_threshold, group_features, group_names, feature_selection, feature_selection_threshold, feature_selection_method, feature_interaction, feature_ratio, interaction_threshold, transform_target, transform_target_method, data_split_shuffle, data_split_stratify, fold_strategy, fold, fold_shuffle, fold_groups, n_jobs, use_gpu, custom_pipeline, html, session_id, log_experiment, experiment_name, log_plots, log_profile, log_data, silent, verbose, profile, profile_kwargs)\u001b[0m\n\u001b[0;32m    569\u001b[0m         \u001b[0mlog_plots\u001b[0m \u001b[1;33m=\u001b[0m \u001b[1;33m[\u001b[0m\u001b[1;34m\"residuals\"\u001b[0m\u001b[1;33m,\u001b[0m \u001b[1;34m\"error\"\u001b[0m\u001b[1;33m,\u001b[0m \u001b[1;34m\"feature\"\u001b[0m\u001b[1;33m]\u001b[0m\u001b[1;33m\u001b[0m\u001b[1;33m\u001b[0m\u001b[0m\n\u001b[0;32m    570\u001b[0m \u001b[1;33m\u001b[0m\u001b[0m\n\u001b[1;32m--> 571\u001b[1;33m     return pycaret.internal.tabular.setup(\n\u001b[0m\u001b[0;32m    572\u001b[0m         \u001b[0mml_usecase\u001b[0m\u001b[1;33m=\u001b[0m\u001b[1;34m\"regression\"\u001b[0m\u001b[1;33m,\u001b[0m\u001b[1;33m\u001b[0m\u001b[1;33m\u001b[0m\u001b[0m\n\u001b[0;32m    573\u001b[0m         \u001b[0mavailable_plots\u001b[0m\u001b[1;33m=\u001b[0m\u001b[0mavailable_plots\u001b[0m\u001b[1;33m,\u001b[0m\u001b[1;33m\u001b[0m\u001b[1;33m\u001b[0m\u001b[0m\n",
      "\u001b[1;32m~\\anaconda3\\envs\\1file\\lib\\site-packages\\pycaret\\internal\\tabular.py\u001b[0m in \u001b[0;36msetup\u001b[1;34m(data, target, ml_usecase, available_plots, train_size, test_data, preprocess, imputation_type, iterative_imputation_iters, categorical_features, categorical_imputation, categorical_iterative_imputer, ordinal_features, high_cardinality_features, high_cardinality_method, numeric_features, numeric_imputation, numeric_iterative_imputer, date_features, ignore_features, normalize, normalize_method, transformation, transformation_method, handle_unknown_categorical, unknown_categorical_method, pca, pca_method, pca_components, ignore_low_variance, combine_rare_levels, rare_level_threshold, bin_numeric_features, remove_outliers, outliers_threshold, remove_multicollinearity, multicollinearity_threshold, remove_perfect_collinearity, create_clusters, cluster_iter, polynomial_features, polynomial_degree, trigonometry_features, polynomial_threshold, group_features, group_names, feature_selection, feature_selection_threshold, feature_selection_method, feature_interaction, feature_ratio, interaction_threshold, fix_imbalance, fix_imbalance_method, transform_target, transform_target_method, data_split_shuffle, data_split_stratify, fold_strategy, fold, fold_shuffle, fold_groups, n_jobs, use_gpu, custom_pipeline, html, session_id, log_experiment, experiment_name, log_plots, log_profile, log_data, silent, verbose, profile, profile_kwargs, display)\u001b[0m\n\u001b[0;32m   1748\u001b[0m     \u001b[0mlogger\u001b[0m\u001b[1;33m.\u001b[0m\u001b[0minfo\u001b[0m\u001b[1;33m(\u001b[0m\u001b[1;34mf\"display_container: {len(display_container)}\"\u001b[0m\u001b[1;33m)\u001b[0m\u001b[1;33m\u001b[0m\u001b[1;33m\u001b[0m\u001b[0m\n\u001b[0;32m   1749\u001b[0m \u001b[1;33m\u001b[0m\u001b[0m\n\u001b[1;32m-> 1750\u001b[1;33m     \u001b[0mlogger\u001b[0m\u001b[1;33m.\u001b[0m\u001b[0minfo\u001b[0m\u001b[1;33m(\u001b[0m\u001b[0mstr\u001b[0m\u001b[1;33m(\u001b[0m\u001b[0mprep_pipe\u001b[0m\u001b[1;33m)\u001b[0m\u001b[1;33m)\u001b[0m\u001b[1;33m\u001b[0m\u001b[1;33m\u001b[0m\u001b[0m\n\u001b[0m\u001b[0;32m   1751\u001b[0m     \u001b[0mlogger\u001b[0m\u001b[1;33m.\u001b[0m\u001b[0minfo\u001b[0m\u001b[1;33m(\u001b[0m\u001b[1;34m\"setup() succesfully completed......................................\"\u001b[0m\u001b[1;33m)\u001b[0m\u001b[1;33m\u001b[0m\u001b[1;33m\u001b[0m\u001b[0m\n\u001b[0;32m   1752\u001b[0m \u001b[1;33m\u001b[0m\u001b[0m\n",
      "\u001b[1;32m~\\anaconda3\\envs\\1file\\lib\\site-packages\\sklearn\\base.py\u001b[0m in \u001b[0;36m__repr__\u001b[1;34m(self, N_CHAR_MAX)\u001b[0m\n\u001b[0;32m    277\u001b[0m         )\n\u001b[0;32m    278\u001b[0m \u001b[1;33m\u001b[0m\u001b[0m\n\u001b[1;32m--> 279\u001b[1;33m         \u001b[0mrepr_\u001b[0m \u001b[1;33m=\u001b[0m \u001b[0mpp\u001b[0m\u001b[1;33m.\u001b[0m\u001b[0mpformat\u001b[0m\u001b[1;33m(\u001b[0m\u001b[0mself\u001b[0m\u001b[1;33m)\u001b[0m\u001b[1;33m\u001b[0m\u001b[1;33m\u001b[0m\u001b[0m\n\u001b[0m\u001b[0;32m    280\u001b[0m \u001b[1;33m\u001b[0m\u001b[0m\n\u001b[0;32m    281\u001b[0m         \u001b[1;31m# Use bruteforce ellipsis when there are a lot of non-blank characters\u001b[0m\u001b[1;33m\u001b[0m\u001b[1;33m\u001b[0m\u001b[1;33m\u001b[0m\u001b[0m\n",
      "\u001b[1;32m~\\anaconda3\\envs\\1file\\lib\\pprint.py\u001b[0m in \u001b[0;36mpformat\u001b[1;34m(self, object)\u001b[0m\n\u001b[0;32m    151\u001b[0m     \u001b[1;32mdef\u001b[0m \u001b[0mpformat\u001b[0m\u001b[1;33m(\u001b[0m\u001b[0mself\u001b[0m\u001b[1;33m,\u001b[0m \u001b[0mobject\u001b[0m\u001b[1;33m)\u001b[0m\u001b[1;33m:\u001b[0m\u001b[1;33m\u001b[0m\u001b[1;33m\u001b[0m\u001b[0m\n\u001b[0;32m    152\u001b[0m         \u001b[0msio\u001b[0m \u001b[1;33m=\u001b[0m \u001b[0m_StringIO\u001b[0m\u001b[1;33m(\u001b[0m\u001b[1;33m)\u001b[0m\u001b[1;33m\u001b[0m\u001b[1;33m\u001b[0m\u001b[0m\n\u001b[1;32m--> 153\u001b[1;33m         \u001b[0mself\u001b[0m\u001b[1;33m.\u001b[0m\u001b[0m_format\u001b[0m\u001b[1;33m(\u001b[0m\u001b[0mobject\u001b[0m\u001b[1;33m,\u001b[0m \u001b[0msio\u001b[0m\u001b[1;33m,\u001b[0m \u001b[1;36m0\u001b[0m\u001b[1;33m,\u001b[0m \u001b[1;36m0\u001b[0m\u001b[1;33m,\u001b[0m \u001b[1;33m{\u001b[0m\u001b[1;33m}\u001b[0m\u001b[1;33m,\u001b[0m \u001b[1;36m0\u001b[0m\u001b[1;33m)\u001b[0m\u001b[1;33m\u001b[0m\u001b[1;33m\u001b[0m\u001b[0m\n\u001b[0m\u001b[0;32m    154\u001b[0m         \u001b[1;32mreturn\u001b[0m \u001b[0msio\u001b[0m\u001b[1;33m.\u001b[0m\u001b[0mgetvalue\u001b[0m\u001b[1;33m(\u001b[0m\u001b[1;33m)\u001b[0m\u001b[1;33m\u001b[0m\u001b[1;33m\u001b[0m\u001b[0m\n\u001b[0;32m    155\u001b[0m \u001b[1;33m\u001b[0m\u001b[0m\n",
      "\u001b[1;32m~\\anaconda3\\envs\\1file\\lib\\pprint.py\u001b[0m in \u001b[0;36m_format\u001b[1;34m(self, object, stream, indent, allowance, context, level)\u001b[0m\n\u001b[0;32m    168\u001b[0m             \u001b[0mself\u001b[0m\u001b[1;33m.\u001b[0m\u001b[0m_readable\u001b[0m \u001b[1;33m=\u001b[0m \u001b[1;32mFalse\u001b[0m\u001b[1;33m\u001b[0m\u001b[1;33m\u001b[0m\u001b[0m\n\u001b[0;32m    169\u001b[0m             \u001b[1;32mreturn\u001b[0m\u001b[1;33m\u001b[0m\u001b[1;33m\u001b[0m\u001b[0m\n\u001b[1;32m--> 170\u001b[1;33m         \u001b[0mrep\u001b[0m \u001b[1;33m=\u001b[0m \u001b[0mself\u001b[0m\u001b[1;33m.\u001b[0m\u001b[0m_repr\u001b[0m\u001b[1;33m(\u001b[0m\u001b[0mobject\u001b[0m\u001b[1;33m,\u001b[0m \u001b[0mcontext\u001b[0m\u001b[1;33m,\u001b[0m \u001b[0mlevel\u001b[0m\u001b[1;33m)\u001b[0m\u001b[1;33m\u001b[0m\u001b[1;33m\u001b[0m\u001b[0m\n\u001b[0m\u001b[0;32m    171\u001b[0m         \u001b[0mmax_width\u001b[0m \u001b[1;33m=\u001b[0m \u001b[0mself\u001b[0m\u001b[1;33m.\u001b[0m\u001b[0m_width\u001b[0m \u001b[1;33m-\u001b[0m \u001b[0mindent\u001b[0m \u001b[1;33m-\u001b[0m \u001b[0mallowance\u001b[0m\u001b[1;33m\u001b[0m\u001b[1;33m\u001b[0m\u001b[0m\n\u001b[0;32m    172\u001b[0m         \u001b[1;32mif\u001b[0m \u001b[0mlen\u001b[0m\u001b[1;33m(\u001b[0m\u001b[0mrep\u001b[0m\u001b[1;33m)\u001b[0m \u001b[1;33m>\u001b[0m \u001b[0mmax_width\u001b[0m\u001b[1;33m:\u001b[0m\u001b[1;33m\u001b[0m\u001b[1;33m\u001b[0m\u001b[0m\n",
      "\u001b[1;32m~\\anaconda3\\envs\\1file\\lib\\pprint.py\u001b[0m in \u001b[0;36m_repr\u001b[1;34m(self, object, context, level)\u001b[0m\n\u001b[0;32m    402\u001b[0m \u001b[1;33m\u001b[0m\u001b[0m\n\u001b[0;32m    403\u001b[0m     \u001b[1;32mdef\u001b[0m \u001b[0m_repr\u001b[0m\u001b[1;33m(\u001b[0m\u001b[0mself\u001b[0m\u001b[1;33m,\u001b[0m \u001b[0mobject\u001b[0m\u001b[1;33m,\u001b[0m \u001b[0mcontext\u001b[0m\u001b[1;33m,\u001b[0m \u001b[0mlevel\u001b[0m\u001b[1;33m)\u001b[0m\u001b[1;33m:\u001b[0m\u001b[1;33m\u001b[0m\u001b[1;33m\u001b[0m\u001b[0m\n\u001b[1;32m--> 404\u001b[1;33m         repr, readable, recursive = self.format(object, context.copy(),\n\u001b[0m\u001b[0;32m    405\u001b[0m                                                 self._depth, level)\n\u001b[0;32m    406\u001b[0m         \u001b[1;32mif\u001b[0m \u001b[1;32mnot\u001b[0m \u001b[0mreadable\u001b[0m\u001b[1;33m:\u001b[0m\u001b[1;33m\u001b[0m\u001b[1;33m\u001b[0m\u001b[0m\n",
      "\u001b[1;32m~\\anaconda3\\envs\\1file\\lib\\site-packages\\sklearn\\utils\\_pprint.py\u001b[0m in \u001b[0;36mformat\u001b[1;34m(self, object, context, maxlevels, level)\u001b[0m\n\u001b[0;32m    187\u001b[0m \u001b[1;33m\u001b[0m\u001b[0m\n\u001b[0;32m    188\u001b[0m     \u001b[1;32mdef\u001b[0m \u001b[0mformat\u001b[0m\u001b[1;33m(\u001b[0m\u001b[0mself\u001b[0m\u001b[1;33m,\u001b[0m \u001b[0mobject\u001b[0m\u001b[1;33m,\u001b[0m \u001b[0mcontext\u001b[0m\u001b[1;33m,\u001b[0m \u001b[0mmaxlevels\u001b[0m\u001b[1;33m,\u001b[0m \u001b[0mlevel\u001b[0m\u001b[1;33m)\u001b[0m\u001b[1;33m:\u001b[0m\u001b[1;33m\u001b[0m\u001b[1;33m\u001b[0m\u001b[0m\n\u001b[1;32m--> 189\u001b[1;33m         return _safe_repr(\n\u001b[0m\u001b[0;32m    190\u001b[0m             \u001b[0mobject\u001b[0m\u001b[1;33m,\u001b[0m \u001b[0mcontext\u001b[0m\u001b[1;33m,\u001b[0m \u001b[0mmaxlevels\u001b[0m\u001b[1;33m,\u001b[0m \u001b[0mlevel\u001b[0m\u001b[1;33m,\u001b[0m \u001b[0mchanged_only\u001b[0m\u001b[1;33m=\u001b[0m\u001b[0mself\u001b[0m\u001b[1;33m.\u001b[0m\u001b[0m_changed_only\u001b[0m\u001b[1;33m\u001b[0m\u001b[1;33m\u001b[0m\u001b[0m\n\u001b[0;32m    191\u001b[0m         )\n",
      "\u001b[1;32m~\\anaconda3\\envs\\1file\\lib\\site-packages\\sklearn\\utils\\_pprint.py\u001b[0m in \u001b[0;36m_safe_repr\u001b[1;34m(object, context, maxlevels, level, changed_only)\u001b[0m\n\u001b[0;32m    450\u001b[0m                 \u001b[0mk\u001b[0m\u001b[1;33m,\u001b[0m \u001b[0mcontext\u001b[0m\u001b[1;33m,\u001b[0m \u001b[0mmaxlevels\u001b[0m\u001b[1;33m,\u001b[0m \u001b[0mlevel\u001b[0m\u001b[1;33m,\u001b[0m \u001b[0mchanged_only\u001b[0m\u001b[1;33m=\u001b[0m\u001b[0mchanged_only\u001b[0m\u001b[1;33m\u001b[0m\u001b[1;33m\u001b[0m\u001b[0m\n\u001b[0;32m    451\u001b[0m             )\n\u001b[1;32m--> 452\u001b[1;33m             vrepr, vreadable, vrecur = saferepr(\n\u001b[0m\u001b[0;32m    453\u001b[0m                 \u001b[0mv\u001b[0m\u001b[1;33m,\u001b[0m \u001b[0mcontext\u001b[0m\u001b[1;33m,\u001b[0m \u001b[0mmaxlevels\u001b[0m\u001b[1;33m,\u001b[0m \u001b[0mlevel\u001b[0m\u001b[1;33m,\u001b[0m \u001b[0mchanged_only\u001b[0m\u001b[1;33m=\u001b[0m\u001b[0mchanged_only\u001b[0m\u001b[1;33m\u001b[0m\u001b[1;33m\u001b[0m\u001b[0m\n\u001b[0;32m    454\u001b[0m             )\n",
      "\u001b[1;32m~\\anaconda3\\envs\\1file\\lib\\site-packages\\sklearn\\utils\\_pprint.py\u001b[0m in \u001b[0;36m_safe_repr\u001b[1;34m(object, context, maxlevels, level, changed_only)\u001b[0m\n\u001b[0;32m    417\u001b[0m         \u001b[0mlevel\u001b[0m \u001b[1;33m+=\u001b[0m \u001b[1;36m1\u001b[0m\u001b[1;33m\u001b[0m\u001b[1;33m\u001b[0m\u001b[0m\n\u001b[0;32m    418\u001b[0m         \u001b[1;32mfor\u001b[0m \u001b[0mo\u001b[0m \u001b[1;32min\u001b[0m \u001b[0mobject\u001b[0m\u001b[1;33m:\u001b[0m\u001b[1;33m\u001b[0m\u001b[1;33m\u001b[0m\u001b[0m\n\u001b[1;32m--> 419\u001b[1;33m             orepr, oreadable, orecur = _safe_repr(\n\u001b[0m\u001b[0;32m    420\u001b[0m                 \u001b[0mo\u001b[0m\u001b[1;33m,\u001b[0m \u001b[0mcontext\u001b[0m\u001b[1;33m,\u001b[0m \u001b[0mmaxlevels\u001b[0m\u001b[1;33m,\u001b[0m \u001b[0mlevel\u001b[0m\u001b[1;33m,\u001b[0m \u001b[0mchanged_only\u001b[0m\u001b[1;33m=\u001b[0m\u001b[0mchanged_only\u001b[0m\u001b[1;33m\u001b[0m\u001b[1;33m\u001b[0m\u001b[0m\n\u001b[0;32m    421\u001b[0m             )\n",
      "\u001b[1;32m~\\anaconda3\\envs\\1file\\lib\\site-packages\\sklearn\\utils\\_pprint.py\u001b[0m in \u001b[0;36m_safe_repr\u001b[1;34m(object, context, maxlevels, level, changed_only)\u001b[0m\n\u001b[0;32m    417\u001b[0m         \u001b[0mlevel\u001b[0m \u001b[1;33m+=\u001b[0m \u001b[1;36m1\u001b[0m\u001b[1;33m\u001b[0m\u001b[1;33m\u001b[0m\u001b[0m\n\u001b[0;32m    418\u001b[0m         \u001b[1;32mfor\u001b[0m \u001b[0mo\u001b[0m \u001b[1;32min\u001b[0m \u001b[0mobject\u001b[0m\u001b[1;33m:\u001b[0m\u001b[1;33m\u001b[0m\u001b[1;33m\u001b[0m\u001b[0m\n\u001b[1;32m--> 419\u001b[1;33m             orepr, oreadable, orecur = _safe_repr(\n\u001b[0m\u001b[0;32m    420\u001b[0m                 \u001b[0mo\u001b[0m\u001b[1;33m,\u001b[0m \u001b[0mcontext\u001b[0m\u001b[1;33m,\u001b[0m \u001b[0mmaxlevels\u001b[0m\u001b[1;33m,\u001b[0m \u001b[0mlevel\u001b[0m\u001b[1;33m,\u001b[0m \u001b[0mchanged_only\u001b[0m\u001b[1;33m=\u001b[0m\u001b[0mchanged_only\u001b[0m\u001b[1;33m\u001b[0m\u001b[1;33m\u001b[0m\u001b[0m\n\u001b[0;32m    421\u001b[0m             )\n",
      "\u001b[1;32m~\\anaconda3\\envs\\1file\\lib\\site-packages\\sklearn\\utils\\_pprint.py\u001b[0m in \u001b[0;36m_safe_repr\u001b[1;34m(object, context, maxlevels, level, changed_only)\u001b[0m\n\u001b[0;32m    440\u001b[0m             \u001b[0mparams\u001b[0m \u001b[1;33m=\u001b[0m \u001b[0m_changed_params\u001b[0m\u001b[1;33m(\u001b[0m\u001b[0mobject\u001b[0m\u001b[1;33m)\u001b[0m\u001b[1;33m\u001b[0m\u001b[1;33m\u001b[0m\u001b[0m\n\u001b[0;32m    441\u001b[0m         \u001b[1;32melse\u001b[0m\u001b[1;33m:\u001b[0m\u001b[1;33m\u001b[0m\u001b[1;33m\u001b[0m\u001b[0m\n\u001b[1;32m--> 442\u001b[1;33m             \u001b[0mparams\u001b[0m \u001b[1;33m=\u001b[0m \u001b[0mobject\u001b[0m\u001b[1;33m.\u001b[0m\u001b[0mget_params\u001b[0m\u001b[1;33m(\u001b[0m\u001b[0mdeep\u001b[0m\u001b[1;33m=\u001b[0m\u001b[1;32mFalse\u001b[0m\u001b[1;33m)\u001b[0m\u001b[1;33m\u001b[0m\u001b[1;33m\u001b[0m\u001b[0m\n\u001b[0m\u001b[0;32m    443\u001b[0m         \u001b[0mcomponents\u001b[0m \u001b[1;33m=\u001b[0m \u001b[1;33m[\u001b[0m\u001b[1;33m]\u001b[0m\u001b[1;33m\u001b[0m\u001b[1;33m\u001b[0m\u001b[0m\n\u001b[0;32m    444\u001b[0m         \u001b[0mappend\u001b[0m \u001b[1;33m=\u001b[0m \u001b[0mcomponents\u001b[0m\u001b[1;33m.\u001b[0m\u001b[0mappend\u001b[0m\u001b[1;33m\u001b[0m\u001b[1;33m\u001b[0m\u001b[0m\n",
      "\u001b[1;32m~\\anaconda3\\envs\\1file\\lib\\site-packages\\sklearn\\base.py\u001b[0m in \u001b[0;36mget_params\u001b[1;34m(self, deep)\u001b[0m\n\u001b[0;32m    208\u001b[0m         \u001b[0mout\u001b[0m \u001b[1;33m=\u001b[0m \u001b[0mdict\u001b[0m\u001b[1;33m(\u001b[0m\u001b[1;33m)\u001b[0m\u001b[1;33m\u001b[0m\u001b[1;33m\u001b[0m\u001b[0m\n\u001b[0;32m    209\u001b[0m         \u001b[1;32mfor\u001b[0m \u001b[0mkey\u001b[0m \u001b[1;32min\u001b[0m \u001b[0mself\u001b[0m\u001b[1;33m.\u001b[0m\u001b[0m_get_param_names\u001b[0m\u001b[1;33m(\u001b[0m\u001b[1;33m)\u001b[0m\u001b[1;33m:\u001b[0m\u001b[1;33m\u001b[0m\u001b[1;33m\u001b[0m\u001b[0m\n\u001b[1;32m--> 210\u001b[1;33m             \u001b[0mvalue\u001b[0m \u001b[1;33m=\u001b[0m \u001b[0mgetattr\u001b[0m\u001b[1;33m(\u001b[0m\u001b[0mself\u001b[0m\u001b[1;33m,\u001b[0m \u001b[0mkey\u001b[0m\u001b[1;33m)\u001b[0m\u001b[1;33m\u001b[0m\u001b[1;33m\u001b[0m\u001b[0m\n\u001b[0m\u001b[0;32m    211\u001b[0m             \u001b[1;32mif\u001b[0m \u001b[0mdeep\u001b[0m \u001b[1;32mand\u001b[0m \u001b[0mhasattr\u001b[0m\u001b[1;33m(\u001b[0m\u001b[0mvalue\u001b[0m\u001b[1;33m,\u001b[0m \u001b[1;34m\"get_params\"\u001b[0m\u001b[1;33m)\u001b[0m\u001b[1;33m:\u001b[0m\u001b[1;33m\u001b[0m\u001b[1;33m\u001b[0m\u001b[0m\n\u001b[0;32m    212\u001b[0m                 \u001b[0mdeep_items\u001b[0m \u001b[1;33m=\u001b[0m \u001b[0mvalue\u001b[0m\u001b[1;33m.\u001b[0m\u001b[0mget_params\u001b[0m\u001b[1;33m(\u001b[0m\u001b[1;33m)\u001b[0m\u001b[1;33m.\u001b[0m\u001b[0mitems\u001b[0m\u001b[1;33m(\u001b[0m\u001b[1;33m)\u001b[0m\u001b[1;33m\u001b[0m\u001b[1;33m\u001b[0m\u001b[0m\n",
      "\u001b[1;31mAttributeError\u001b[0m: 'Simple_Imputer' object has no attribute 'fill_value_categorical'"
     ]
    }
   ],
   "source": [
    "from pycaret.regression import *\n",
    "exp_reg101 = setup(data = df_unit_u_pr, target = 'price', session_id=123, fold_shuffle=True)"
   ]
  },
  {
   "cell_type": "code",
   "execution_count": 196,
   "metadata": {},
   "outputs": [
    {
     "data": {
      "text/html": [
       "<style  type=\"text/css\" >\n",
       "    #T_988a8a79_cccd_11ec_8a0e_b4b5b6ea7a5a th {\n",
       "          text-align: left;\n",
       "    }#T_988a8a79_cccd_11ec_8a0e_b4b5b6ea7a5arow0_col0,#T_988a8a79_cccd_11ec_8a0e_b4b5b6ea7a5arow0_col1,#T_988a8a79_cccd_11ec_8a0e_b4b5b6ea7a5arow0_col2,#T_988a8a79_cccd_11ec_8a0e_b4b5b6ea7a5arow0_col3,#T_988a8a79_cccd_11ec_8a0e_b4b5b6ea7a5arow0_col6,#T_988a8a79_cccd_11ec_8a0e_b4b5b6ea7a5arow1_col0,#T_988a8a79_cccd_11ec_8a0e_b4b5b6ea7a5arow1_col4,#T_988a8a79_cccd_11ec_8a0e_b4b5b6ea7a5arow1_col5,#T_988a8a79_cccd_11ec_8a0e_b4b5b6ea7a5arow2_col0,#T_988a8a79_cccd_11ec_8a0e_b4b5b6ea7a5arow2_col1,#T_988a8a79_cccd_11ec_8a0e_b4b5b6ea7a5arow2_col2,#T_988a8a79_cccd_11ec_8a0e_b4b5b6ea7a5arow2_col3,#T_988a8a79_cccd_11ec_8a0e_b4b5b6ea7a5arow2_col4,#T_988a8a79_cccd_11ec_8a0e_b4b5b6ea7a5arow2_col5,#T_988a8a79_cccd_11ec_8a0e_b4b5b6ea7a5arow2_col6,#T_988a8a79_cccd_11ec_8a0e_b4b5b6ea7a5arow3_col0,#T_988a8a79_cccd_11ec_8a0e_b4b5b6ea7a5arow3_col1,#T_988a8a79_cccd_11ec_8a0e_b4b5b6ea7a5arow3_col2,#T_988a8a79_cccd_11ec_8a0e_b4b5b6ea7a5arow3_col3,#T_988a8a79_cccd_11ec_8a0e_b4b5b6ea7a5arow3_col4,#T_988a8a79_cccd_11ec_8a0e_b4b5b6ea7a5arow3_col5,#T_988a8a79_cccd_11ec_8a0e_b4b5b6ea7a5arow3_col6,#T_988a8a79_cccd_11ec_8a0e_b4b5b6ea7a5arow4_col0,#T_988a8a79_cccd_11ec_8a0e_b4b5b6ea7a5arow4_col1,#T_988a8a79_cccd_11ec_8a0e_b4b5b6ea7a5arow4_col2,#T_988a8a79_cccd_11ec_8a0e_b4b5b6ea7a5arow4_col3,#T_988a8a79_cccd_11ec_8a0e_b4b5b6ea7a5arow4_col4,#T_988a8a79_cccd_11ec_8a0e_b4b5b6ea7a5arow4_col5,#T_988a8a79_cccd_11ec_8a0e_b4b5b6ea7a5arow4_col6,#T_988a8a79_cccd_11ec_8a0e_b4b5b6ea7a5arow5_col0,#T_988a8a79_cccd_11ec_8a0e_b4b5b6ea7a5arow5_col1,#T_988a8a79_cccd_11ec_8a0e_b4b5b6ea7a5arow5_col2,#T_988a8a79_cccd_11ec_8a0e_b4b5b6ea7a5arow5_col3,#T_988a8a79_cccd_11ec_8a0e_b4b5b6ea7a5arow5_col4,#T_988a8a79_cccd_11ec_8a0e_b4b5b6ea7a5arow5_col5,#T_988a8a79_cccd_11ec_8a0e_b4b5b6ea7a5arow5_col6,#T_988a8a79_cccd_11ec_8a0e_b4b5b6ea7a5arow6_col0,#T_988a8a79_cccd_11ec_8a0e_b4b5b6ea7a5arow6_col1,#T_988a8a79_cccd_11ec_8a0e_b4b5b6ea7a5arow6_col2,#T_988a8a79_cccd_11ec_8a0e_b4b5b6ea7a5arow6_col3,#T_988a8a79_cccd_11ec_8a0e_b4b5b6ea7a5arow6_col4,#T_988a8a79_cccd_11ec_8a0e_b4b5b6ea7a5arow6_col5,#T_988a8a79_cccd_11ec_8a0e_b4b5b6ea7a5arow6_col6,#T_988a8a79_cccd_11ec_8a0e_b4b5b6ea7a5arow7_col0,#T_988a8a79_cccd_11ec_8a0e_b4b5b6ea7a5arow7_col1,#T_988a8a79_cccd_11ec_8a0e_b4b5b6ea7a5arow7_col2,#T_988a8a79_cccd_11ec_8a0e_b4b5b6ea7a5arow7_col3,#T_988a8a79_cccd_11ec_8a0e_b4b5b6ea7a5arow7_col4,#T_988a8a79_cccd_11ec_8a0e_b4b5b6ea7a5arow7_col5,#T_988a8a79_cccd_11ec_8a0e_b4b5b6ea7a5arow7_col6,#T_988a8a79_cccd_11ec_8a0e_b4b5b6ea7a5arow8_col0,#T_988a8a79_cccd_11ec_8a0e_b4b5b6ea7a5arow8_col1,#T_988a8a79_cccd_11ec_8a0e_b4b5b6ea7a5arow8_col2,#T_988a8a79_cccd_11ec_8a0e_b4b5b6ea7a5arow8_col3,#T_988a8a79_cccd_11ec_8a0e_b4b5b6ea7a5arow8_col4,#T_988a8a79_cccd_11ec_8a0e_b4b5b6ea7a5arow8_col5,#T_988a8a79_cccd_11ec_8a0e_b4b5b6ea7a5arow8_col6,#T_988a8a79_cccd_11ec_8a0e_b4b5b6ea7a5arow9_col0,#T_988a8a79_cccd_11ec_8a0e_b4b5b6ea7a5arow9_col1,#T_988a8a79_cccd_11ec_8a0e_b4b5b6ea7a5arow9_col2,#T_988a8a79_cccd_11ec_8a0e_b4b5b6ea7a5arow9_col3,#T_988a8a79_cccd_11ec_8a0e_b4b5b6ea7a5arow9_col4,#T_988a8a79_cccd_11ec_8a0e_b4b5b6ea7a5arow9_col5,#T_988a8a79_cccd_11ec_8a0e_b4b5b6ea7a5arow9_col6,#T_988a8a79_cccd_11ec_8a0e_b4b5b6ea7a5arow10_col0,#T_988a8a79_cccd_11ec_8a0e_b4b5b6ea7a5arow10_col1,#T_988a8a79_cccd_11ec_8a0e_b4b5b6ea7a5arow10_col2,#T_988a8a79_cccd_11ec_8a0e_b4b5b6ea7a5arow10_col3,#T_988a8a79_cccd_11ec_8a0e_b4b5b6ea7a5arow10_col4,#T_988a8a79_cccd_11ec_8a0e_b4b5b6ea7a5arow10_col5,#T_988a8a79_cccd_11ec_8a0e_b4b5b6ea7a5arow10_col6,#T_988a8a79_cccd_11ec_8a0e_b4b5b6ea7a5arow11_col0,#T_988a8a79_cccd_11ec_8a0e_b4b5b6ea7a5arow11_col1,#T_988a8a79_cccd_11ec_8a0e_b4b5b6ea7a5arow11_col2,#T_988a8a79_cccd_11ec_8a0e_b4b5b6ea7a5arow11_col3,#T_988a8a79_cccd_11ec_8a0e_b4b5b6ea7a5arow11_col4,#T_988a8a79_cccd_11ec_8a0e_b4b5b6ea7a5arow11_col5,#T_988a8a79_cccd_11ec_8a0e_b4b5b6ea7a5arow11_col6,#T_988a8a79_cccd_11ec_8a0e_b4b5b6ea7a5arow12_col0,#T_988a8a79_cccd_11ec_8a0e_b4b5b6ea7a5arow12_col1,#T_988a8a79_cccd_11ec_8a0e_b4b5b6ea7a5arow12_col2,#T_988a8a79_cccd_11ec_8a0e_b4b5b6ea7a5arow12_col3,#T_988a8a79_cccd_11ec_8a0e_b4b5b6ea7a5arow12_col4,#T_988a8a79_cccd_11ec_8a0e_b4b5b6ea7a5arow12_col5,#T_988a8a79_cccd_11ec_8a0e_b4b5b6ea7a5arow12_col6,#T_988a8a79_cccd_11ec_8a0e_b4b5b6ea7a5arow13_col0,#T_988a8a79_cccd_11ec_8a0e_b4b5b6ea7a5arow13_col1,#T_988a8a79_cccd_11ec_8a0e_b4b5b6ea7a5arow13_col2,#T_988a8a79_cccd_11ec_8a0e_b4b5b6ea7a5arow13_col3,#T_988a8a79_cccd_11ec_8a0e_b4b5b6ea7a5arow13_col4,#T_988a8a79_cccd_11ec_8a0e_b4b5b6ea7a5arow13_col5,#T_988a8a79_cccd_11ec_8a0e_b4b5b6ea7a5arow13_col6,#T_988a8a79_cccd_11ec_8a0e_b4b5b6ea7a5arow14_col0,#T_988a8a79_cccd_11ec_8a0e_b4b5b6ea7a5arow14_col1,#T_988a8a79_cccd_11ec_8a0e_b4b5b6ea7a5arow14_col2,#T_988a8a79_cccd_11ec_8a0e_b4b5b6ea7a5arow14_col3,#T_988a8a79_cccd_11ec_8a0e_b4b5b6ea7a5arow14_col4,#T_988a8a79_cccd_11ec_8a0e_b4b5b6ea7a5arow14_col5,#T_988a8a79_cccd_11ec_8a0e_b4b5b6ea7a5arow14_col6,#T_988a8a79_cccd_11ec_8a0e_b4b5b6ea7a5arow15_col0,#T_988a8a79_cccd_11ec_8a0e_b4b5b6ea7a5arow15_col1,#T_988a8a79_cccd_11ec_8a0e_b4b5b6ea7a5arow15_col2,#T_988a8a79_cccd_11ec_8a0e_b4b5b6ea7a5arow15_col3,#T_988a8a79_cccd_11ec_8a0e_b4b5b6ea7a5arow15_col4,#T_988a8a79_cccd_11ec_8a0e_b4b5b6ea7a5arow15_col5,#T_988a8a79_cccd_11ec_8a0e_b4b5b6ea7a5arow15_col6,#T_988a8a79_cccd_11ec_8a0e_b4b5b6ea7a5arow16_col0,#T_988a8a79_cccd_11ec_8a0e_b4b5b6ea7a5arow16_col1,#T_988a8a79_cccd_11ec_8a0e_b4b5b6ea7a5arow16_col2,#T_988a8a79_cccd_11ec_8a0e_b4b5b6ea7a5arow16_col3,#T_988a8a79_cccd_11ec_8a0e_b4b5b6ea7a5arow16_col4,#T_988a8a79_cccd_11ec_8a0e_b4b5b6ea7a5arow16_col5,#T_988a8a79_cccd_11ec_8a0e_b4b5b6ea7a5arow16_col6,#T_988a8a79_cccd_11ec_8a0e_b4b5b6ea7a5arow17_col0,#T_988a8a79_cccd_11ec_8a0e_b4b5b6ea7a5arow17_col1,#T_988a8a79_cccd_11ec_8a0e_b4b5b6ea7a5arow17_col2,#T_988a8a79_cccd_11ec_8a0e_b4b5b6ea7a5arow17_col3,#T_988a8a79_cccd_11ec_8a0e_b4b5b6ea7a5arow17_col4,#T_988a8a79_cccd_11ec_8a0e_b4b5b6ea7a5arow17_col5,#T_988a8a79_cccd_11ec_8a0e_b4b5b6ea7a5arow17_col6,#T_988a8a79_cccd_11ec_8a0e_b4b5b6ea7a5arow18_col0,#T_988a8a79_cccd_11ec_8a0e_b4b5b6ea7a5arow18_col1,#T_988a8a79_cccd_11ec_8a0e_b4b5b6ea7a5arow18_col2,#T_988a8a79_cccd_11ec_8a0e_b4b5b6ea7a5arow18_col3,#T_988a8a79_cccd_11ec_8a0e_b4b5b6ea7a5arow18_col4,#T_988a8a79_cccd_11ec_8a0e_b4b5b6ea7a5arow18_col5,#T_988a8a79_cccd_11ec_8a0e_b4b5b6ea7a5arow18_col6{\n",
       "            text-align:  left;\n",
       "            text-align:  left;\n",
       "        }#T_988a8a79_cccd_11ec_8a0e_b4b5b6ea7a5arow0_col4,#T_988a8a79_cccd_11ec_8a0e_b4b5b6ea7a5arow0_col5,#T_988a8a79_cccd_11ec_8a0e_b4b5b6ea7a5arow1_col1,#T_988a8a79_cccd_11ec_8a0e_b4b5b6ea7a5arow1_col2,#T_988a8a79_cccd_11ec_8a0e_b4b5b6ea7a5arow1_col3,#T_988a8a79_cccd_11ec_8a0e_b4b5b6ea7a5arow1_col6{\n",
       "            text-align:  left;\n",
       "            text-align:  left;\n",
       "            background-color:  yellow;\n",
       "        }#T_988a8a79_cccd_11ec_8a0e_b4b5b6ea7a5arow0_col7,#T_988a8a79_cccd_11ec_8a0e_b4b5b6ea7a5arow1_col7,#T_988a8a79_cccd_11ec_8a0e_b4b5b6ea7a5arow2_col7,#T_988a8a79_cccd_11ec_8a0e_b4b5b6ea7a5arow3_col7,#T_988a8a79_cccd_11ec_8a0e_b4b5b6ea7a5arow4_col7,#T_988a8a79_cccd_11ec_8a0e_b4b5b6ea7a5arow5_col7,#T_988a8a79_cccd_11ec_8a0e_b4b5b6ea7a5arow6_col7,#T_988a8a79_cccd_11ec_8a0e_b4b5b6ea7a5arow7_col7,#T_988a8a79_cccd_11ec_8a0e_b4b5b6ea7a5arow8_col7,#T_988a8a79_cccd_11ec_8a0e_b4b5b6ea7a5arow9_col7,#T_988a8a79_cccd_11ec_8a0e_b4b5b6ea7a5arow10_col7,#T_988a8a79_cccd_11ec_8a0e_b4b5b6ea7a5arow11_col7,#T_988a8a79_cccd_11ec_8a0e_b4b5b6ea7a5arow13_col7,#T_988a8a79_cccd_11ec_8a0e_b4b5b6ea7a5arow14_col7,#T_988a8a79_cccd_11ec_8a0e_b4b5b6ea7a5arow15_col7,#T_988a8a79_cccd_11ec_8a0e_b4b5b6ea7a5arow16_col7,#T_988a8a79_cccd_11ec_8a0e_b4b5b6ea7a5arow17_col7{\n",
       "            text-align:  left;\n",
       "            text-align:  left;\n",
       "            background-color:  lightgrey;\n",
       "        }#T_988a8a79_cccd_11ec_8a0e_b4b5b6ea7a5arow12_col7,#T_988a8a79_cccd_11ec_8a0e_b4b5b6ea7a5arow18_col7{\n",
       "            text-align:  left;\n",
       "            text-align:  left;\n",
       "            background-color:  yellow;\n",
       "            background-color:  lightgrey;\n",
       "        }</style><table id=\"T_988a8a79_cccd_11ec_8a0e_b4b5b6ea7a5a\" ><thead>    <tr>        <th class=\"blank level0\" ></th>        <th class=\"col_heading level0 col0\" >Model</th>        <th class=\"col_heading level0 col1\" >MAE</th>        <th class=\"col_heading level0 col2\" >MSE</th>        <th class=\"col_heading level0 col3\" >RMSE</th>        <th class=\"col_heading level0 col4\" >R2</th>        <th class=\"col_heading level0 col5\" >RMSLE</th>        <th class=\"col_heading level0 col6\" >MAPE</th>        <th class=\"col_heading level0 col7\" >TT (Sec)</th>    </tr></thead><tbody>\n",
       "                <tr>\n",
       "                        <th id=\"T_988a8a79_cccd_11ec_8a0e_b4b5b6ea7a5alevel0_row0\" class=\"row_heading level0 row0\" >rf</th>\n",
       "                        <td id=\"T_988a8a79_cccd_11ec_8a0e_b4b5b6ea7a5arow0_col0\" class=\"data row0 col0\" >Random Forest Regressor</td>\n",
       "                        <td id=\"T_988a8a79_cccd_11ec_8a0e_b4b5b6ea7a5arow0_col1\" class=\"data row0 col1\" >113980.6845</td>\n",
       "                        <td id=\"T_988a8a79_cccd_11ec_8a0e_b4b5b6ea7a5arow0_col2\" class=\"data row0 col2\" >153139792253.4803</td>\n",
       "                        <td id=\"T_988a8a79_cccd_11ec_8a0e_b4b5b6ea7a5arow0_col3\" class=\"data row0 col3\" >384524.3653</td>\n",
       "                        <td id=\"T_988a8a79_cccd_11ec_8a0e_b4b5b6ea7a5arow0_col4\" class=\"data row0 col4\" >0.9211</td>\n",
       "                        <td id=\"T_988a8a79_cccd_11ec_8a0e_b4b5b6ea7a5arow0_col5\" class=\"data row0 col5\" >0.0934</td>\n",
       "                        <td id=\"T_988a8a79_cccd_11ec_8a0e_b4b5b6ea7a5arow0_col6\" class=\"data row0 col6\" >0.0517</td>\n",
       "                        <td id=\"T_988a8a79_cccd_11ec_8a0e_b4b5b6ea7a5arow0_col7\" class=\"data row0 col7\" >0.2610</td>\n",
       "            </tr>\n",
       "            <tr>\n",
       "                        <th id=\"T_988a8a79_cccd_11ec_8a0e_b4b5b6ea7a5alevel0_row1\" class=\"row_heading level0 row1\" >et</th>\n",
       "                        <td id=\"T_988a8a79_cccd_11ec_8a0e_b4b5b6ea7a5arow1_col0\" class=\"data row1 col0\" >Extra Trees Regressor</td>\n",
       "                        <td id=\"T_988a8a79_cccd_11ec_8a0e_b4b5b6ea7a5arow1_col1\" class=\"data row1 col1\" >109293.9892</td>\n",
       "                        <td id=\"T_988a8a79_cccd_11ec_8a0e_b4b5b6ea7a5arow1_col2\" class=\"data row1 col2\" >153014000377.3509</td>\n",
       "                        <td id=\"T_988a8a79_cccd_11ec_8a0e_b4b5b6ea7a5arow1_col3\" class=\"data row1 col3\" >382803.9729</td>\n",
       "                        <td id=\"T_988a8a79_cccd_11ec_8a0e_b4b5b6ea7a5arow1_col4\" class=\"data row1 col4\" >0.9208</td>\n",
       "                        <td id=\"T_988a8a79_cccd_11ec_8a0e_b4b5b6ea7a5arow1_col5\" class=\"data row1 col5\" >0.0939</td>\n",
       "                        <td id=\"T_988a8a79_cccd_11ec_8a0e_b4b5b6ea7a5arow1_col6\" class=\"data row1 col6\" >0.0503</td>\n",
       "                        <td id=\"T_988a8a79_cccd_11ec_8a0e_b4b5b6ea7a5arow1_col7\" class=\"data row1 col7\" >0.3010</td>\n",
       "            </tr>\n",
       "            <tr>\n",
       "                        <th id=\"T_988a8a79_cccd_11ec_8a0e_b4b5b6ea7a5alevel0_row2\" class=\"row_heading level0 row2\" >xgboost</th>\n",
       "                        <td id=\"T_988a8a79_cccd_11ec_8a0e_b4b5b6ea7a5arow2_col0\" class=\"data row2 col0\" >Extreme Gradient Boosting</td>\n",
       "                        <td id=\"T_988a8a79_cccd_11ec_8a0e_b4b5b6ea7a5arow2_col1\" class=\"data row2 col1\" >137721.9730</td>\n",
       "                        <td id=\"T_988a8a79_cccd_11ec_8a0e_b4b5b6ea7a5arow2_col2\" class=\"data row2 col2\" >154597715134.6325</td>\n",
       "                        <td id=\"T_988a8a79_cccd_11ec_8a0e_b4b5b6ea7a5arow2_col3\" class=\"data row2 col3\" >386042.9937</td>\n",
       "                        <td id=\"T_988a8a79_cccd_11ec_8a0e_b4b5b6ea7a5arow2_col4\" class=\"data row2 col4\" >0.9207</td>\n",
       "                        <td id=\"T_988a8a79_cccd_11ec_8a0e_b4b5b6ea7a5arow2_col5\" class=\"data row2 col5\" >0.1030</td>\n",
       "                        <td id=\"T_988a8a79_cccd_11ec_8a0e_b4b5b6ea7a5arow2_col6\" class=\"data row2 col6\" >0.0677</td>\n",
       "                        <td id=\"T_988a8a79_cccd_11ec_8a0e_b4b5b6ea7a5arow2_col7\" class=\"data row2 col7\" >0.2010</td>\n",
       "            </tr>\n",
       "            <tr>\n",
       "                        <th id=\"T_988a8a79_cccd_11ec_8a0e_b4b5b6ea7a5alevel0_row3\" class=\"row_heading level0 row3\" >catboost</th>\n",
       "                        <td id=\"T_988a8a79_cccd_11ec_8a0e_b4b5b6ea7a5arow3_col0\" class=\"data row3 col0\" >CatBoost Regressor</td>\n",
       "                        <td id=\"T_988a8a79_cccd_11ec_8a0e_b4b5b6ea7a5arow3_col1\" class=\"data row3 col1\" >153298.5351</td>\n",
       "                        <td id=\"T_988a8a79_cccd_11ec_8a0e_b4b5b6ea7a5arow3_col2\" class=\"data row3 col2\" >184832816836.9942</td>\n",
       "                        <td id=\"T_988a8a79_cccd_11ec_8a0e_b4b5b6ea7a5arow3_col3\" class=\"data row3 col3\" >420860.7693</td>\n",
       "                        <td id=\"T_988a8a79_cccd_11ec_8a0e_b4b5b6ea7a5arow3_col4\" class=\"data row3 col4\" >0.9039</td>\n",
       "                        <td id=\"T_988a8a79_cccd_11ec_8a0e_b4b5b6ea7a5arow3_col5\" class=\"data row3 col5\" >0.1101</td>\n",
       "                        <td id=\"T_988a8a79_cccd_11ec_8a0e_b4b5b6ea7a5arow3_col6\" class=\"data row3 col6\" >0.0754</td>\n",
       "                        <td id=\"T_988a8a79_cccd_11ec_8a0e_b4b5b6ea7a5arow3_col7\" class=\"data row3 col7\" >1.0630</td>\n",
       "            </tr>\n",
       "            <tr>\n",
       "                        <th id=\"T_988a8a79_cccd_11ec_8a0e_b4b5b6ea7a5alevel0_row4\" class=\"row_heading level0 row4\" >gbr</th>\n",
       "                        <td id=\"T_988a8a79_cccd_11ec_8a0e_b4b5b6ea7a5arow4_col0\" class=\"data row4 col0\" >Gradient Boosting Regressor</td>\n",
       "                        <td id=\"T_988a8a79_cccd_11ec_8a0e_b4b5b6ea7a5arow4_col1\" class=\"data row4 col1\" >202764.5752</td>\n",
       "                        <td id=\"T_988a8a79_cccd_11ec_8a0e_b4b5b6ea7a5arow4_col2\" class=\"data row4 col2\" >207615248189.9753</td>\n",
       "                        <td id=\"T_988a8a79_cccd_11ec_8a0e_b4b5b6ea7a5arow4_col3\" class=\"data row4 col3\" >452768.5350</td>\n",
       "                        <td id=\"T_988a8a79_cccd_11ec_8a0e_b4b5b6ea7a5arow4_col4\" class=\"data row4 col4\" >0.8912</td>\n",
       "                        <td id=\"T_988a8a79_cccd_11ec_8a0e_b4b5b6ea7a5arow4_col5\" class=\"data row4 col5\" >0.1420</td>\n",
       "                        <td id=\"T_988a8a79_cccd_11ec_8a0e_b4b5b6ea7a5arow4_col6\" class=\"data row4 col6\" >0.1030</td>\n",
       "                        <td id=\"T_988a8a79_cccd_11ec_8a0e_b4b5b6ea7a5arow4_col7\" class=\"data row4 col7\" >0.1130</td>\n",
       "            </tr>\n",
       "            <tr>\n",
       "                        <th id=\"T_988a8a79_cccd_11ec_8a0e_b4b5b6ea7a5alevel0_row5\" class=\"row_heading level0 row5\" >lightgbm</th>\n",
       "                        <td id=\"T_988a8a79_cccd_11ec_8a0e_b4b5b6ea7a5arow5_col0\" class=\"data row5 col0\" >Light Gradient Boosting Machine</td>\n",
       "                        <td id=\"T_988a8a79_cccd_11ec_8a0e_b4b5b6ea7a5arow5_col1\" class=\"data row5 col1\" >167345.7688</td>\n",
       "                        <td id=\"T_988a8a79_cccd_11ec_8a0e_b4b5b6ea7a5arow5_col2\" class=\"data row5 col2\" >260368132306.2338</td>\n",
       "                        <td id=\"T_988a8a79_cccd_11ec_8a0e_b4b5b6ea7a5arow5_col3\" class=\"data row5 col3\" >492162.2221</td>\n",
       "                        <td id=\"T_988a8a79_cccd_11ec_8a0e_b4b5b6ea7a5arow5_col4\" class=\"data row5 col4\" >0.8769</td>\n",
       "                        <td id=\"T_988a8a79_cccd_11ec_8a0e_b4b5b6ea7a5arow5_col5\" class=\"data row5 col5\" >0.1180</td>\n",
       "                        <td id=\"T_988a8a79_cccd_11ec_8a0e_b4b5b6ea7a5arow5_col6\" class=\"data row5 col6\" >0.0811</td>\n",
       "                        <td id=\"T_988a8a79_cccd_11ec_8a0e_b4b5b6ea7a5arow5_col7\" class=\"data row5 col7\" >0.0720</td>\n",
       "            </tr>\n",
       "            <tr>\n",
       "                        <th id=\"T_988a8a79_cccd_11ec_8a0e_b4b5b6ea7a5alevel0_row6\" class=\"row_heading level0 row6\" >dt</th>\n",
       "                        <td id=\"T_988a8a79_cccd_11ec_8a0e_b4b5b6ea7a5arow6_col0\" class=\"data row6 col0\" >Decision Tree Regressor</td>\n",
       "                        <td id=\"T_988a8a79_cccd_11ec_8a0e_b4b5b6ea7a5arow6_col1\" class=\"data row6 col1\" >128073.0251</td>\n",
       "                        <td id=\"T_988a8a79_cccd_11ec_8a0e_b4b5b6ea7a5arow6_col2\" class=\"data row6 col2\" >242887894052.0810</td>\n",
       "                        <td id=\"T_988a8a79_cccd_11ec_8a0e_b4b5b6ea7a5arow6_col3\" class=\"data row6 col3\" >482499.4747</td>\n",
       "                        <td id=\"T_988a8a79_cccd_11ec_8a0e_b4b5b6ea7a5arow6_col4\" class=\"data row6 col4\" >0.8719</td>\n",
       "                        <td id=\"T_988a8a79_cccd_11ec_8a0e_b4b5b6ea7a5arow6_col5\" class=\"data row6 col5\" >0.1141</td>\n",
       "                        <td id=\"T_988a8a79_cccd_11ec_8a0e_b4b5b6ea7a5arow6_col6\" class=\"data row6 col6\" >0.0571</td>\n",
       "                        <td id=\"T_988a8a79_cccd_11ec_8a0e_b4b5b6ea7a5arow6_col7\" class=\"data row6 col7\" >0.0120</td>\n",
       "            </tr>\n",
       "            <tr>\n",
       "                        <th id=\"T_988a8a79_cccd_11ec_8a0e_b4b5b6ea7a5alevel0_row7\" class=\"row_heading level0 row7\" >knn</th>\n",
       "                        <td id=\"T_988a8a79_cccd_11ec_8a0e_b4b5b6ea7a5arow7_col0\" class=\"data row7 col0\" >K Neighbors Regressor</td>\n",
       "                        <td id=\"T_988a8a79_cccd_11ec_8a0e_b4b5b6ea7a5arow7_col1\" class=\"data row7 col1\" >168072.8333</td>\n",
       "                        <td id=\"T_988a8a79_cccd_11ec_8a0e_b4b5b6ea7a5arow7_col2\" class=\"data row7 col2\" >377347008449.9654</td>\n",
       "                        <td id=\"T_988a8a79_cccd_11ec_8a0e_b4b5b6ea7a5arow7_col3\" class=\"data row7 col3\" >603785.5189</td>\n",
       "                        <td id=\"T_988a8a79_cccd_11ec_8a0e_b4b5b6ea7a5arow7_col4\" class=\"data row7 col4\" >0.8096</td>\n",
       "                        <td id=\"T_988a8a79_cccd_11ec_8a0e_b4b5b6ea7a5arow7_col5\" class=\"data row7 col5\" >0.1277</td>\n",
       "                        <td id=\"T_988a8a79_cccd_11ec_8a0e_b4b5b6ea7a5arow7_col6\" class=\"data row7 col6\" >0.0708</td>\n",
       "                        <td id=\"T_988a8a79_cccd_11ec_8a0e_b4b5b6ea7a5arow7_col7\" class=\"data row7 col7\" >0.0220</td>\n",
       "            </tr>\n",
       "            <tr>\n",
       "                        <th id=\"T_988a8a79_cccd_11ec_8a0e_b4b5b6ea7a5alevel0_row8\" class=\"row_heading level0 row8\" >lr</th>\n",
       "                        <td id=\"T_988a8a79_cccd_11ec_8a0e_b4b5b6ea7a5arow8_col0\" class=\"data row8 col0\" >Linear Regression</td>\n",
       "                        <td id=\"T_988a8a79_cccd_11ec_8a0e_b4b5b6ea7a5arow8_col1\" class=\"data row8 col1\" >348796.9013</td>\n",
       "                        <td id=\"T_988a8a79_cccd_11ec_8a0e_b4b5b6ea7a5arow8_col2\" class=\"data row8 col2\" >461069328437.7037</td>\n",
       "                        <td id=\"T_988a8a79_cccd_11ec_8a0e_b4b5b6ea7a5arow8_col3\" class=\"data row8 col3\" >675241.8102</td>\n",
       "                        <td id=\"T_988a8a79_cccd_11ec_8a0e_b4b5b6ea7a5arow8_col4\" class=\"data row8 col4\" >0.7569</td>\n",
       "                        <td id=\"T_988a8a79_cccd_11ec_8a0e_b4b5b6ea7a5arow8_col5\" class=\"data row8 col5\" >0.2440</td>\n",
       "                        <td id=\"T_988a8a79_cccd_11ec_8a0e_b4b5b6ea7a5arow8_col6\" class=\"data row8 col6\" >0.1870</td>\n",
       "                        <td id=\"T_988a8a79_cccd_11ec_8a0e_b4b5b6ea7a5arow8_col7\" class=\"data row8 col7\" >0.4970</td>\n",
       "            </tr>\n",
       "            <tr>\n",
       "                        <th id=\"T_988a8a79_cccd_11ec_8a0e_b4b5b6ea7a5alevel0_row9\" class=\"row_heading level0 row9\" >lasso</th>\n",
       "                        <td id=\"T_988a8a79_cccd_11ec_8a0e_b4b5b6ea7a5arow9_col0\" class=\"data row9 col0\" >Lasso Regression</td>\n",
       "                        <td id=\"T_988a8a79_cccd_11ec_8a0e_b4b5b6ea7a5arow9_col1\" class=\"data row9 col1\" >348796.5527</td>\n",
       "                        <td id=\"T_988a8a79_cccd_11ec_8a0e_b4b5b6ea7a5arow9_col2\" class=\"data row9 col2\" >461068739576.7086</td>\n",
       "                        <td id=\"T_988a8a79_cccd_11ec_8a0e_b4b5b6ea7a5arow9_col3\" class=\"data row9 col3\" >675241.3590</td>\n",
       "                        <td id=\"T_988a8a79_cccd_11ec_8a0e_b4b5b6ea7a5arow9_col4\" class=\"data row9 col4\" >0.7569</td>\n",
       "                        <td id=\"T_988a8a79_cccd_11ec_8a0e_b4b5b6ea7a5arow9_col5\" class=\"data row9 col5\" >0.2440</td>\n",
       "                        <td id=\"T_988a8a79_cccd_11ec_8a0e_b4b5b6ea7a5arow9_col6\" class=\"data row9 col6\" >0.1870</td>\n",
       "                        <td id=\"T_988a8a79_cccd_11ec_8a0e_b4b5b6ea7a5arow9_col7\" class=\"data row9 col7\" >0.4100</td>\n",
       "            </tr>\n",
       "            <tr>\n",
       "                        <th id=\"T_988a8a79_cccd_11ec_8a0e_b4b5b6ea7a5alevel0_row10\" class=\"row_heading level0 row10\" >br</th>\n",
       "                        <td id=\"T_988a8a79_cccd_11ec_8a0e_b4b5b6ea7a5arow10_col0\" class=\"data row10 col0\" >Bayesian Ridge</td>\n",
       "                        <td id=\"T_988a8a79_cccd_11ec_8a0e_b4b5b6ea7a5arow10_col1\" class=\"data row10 col1\" >348648.5950</td>\n",
       "                        <td id=\"T_988a8a79_cccd_11ec_8a0e_b4b5b6ea7a5arow10_col2\" class=\"data row10 col2\" >460934564580.7534</td>\n",
       "                        <td id=\"T_988a8a79_cccd_11ec_8a0e_b4b5b6ea7a5arow10_col3\" class=\"data row10 col3\" >675147.6352</td>\n",
       "                        <td id=\"T_988a8a79_cccd_11ec_8a0e_b4b5b6ea7a5arow10_col4\" class=\"data row10 col4\" >0.7569</td>\n",
       "                        <td id=\"T_988a8a79_cccd_11ec_8a0e_b4b5b6ea7a5arow10_col5\" class=\"data row10 col5\" >0.2443</td>\n",
       "                        <td id=\"T_988a8a79_cccd_11ec_8a0e_b4b5b6ea7a5arow10_col6\" class=\"data row10 col6\" >0.1869</td>\n",
       "                        <td id=\"T_988a8a79_cccd_11ec_8a0e_b4b5b6ea7a5arow10_col7\" class=\"data row10 col7\" >0.0080</td>\n",
       "            </tr>\n",
       "            <tr>\n",
       "                        <th id=\"T_988a8a79_cccd_11ec_8a0e_b4b5b6ea7a5alevel0_row11\" class=\"row_heading level0 row11\" >lar</th>\n",
       "                        <td id=\"T_988a8a79_cccd_11ec_8a0e_b4b5b6ea7a5arow11_col0\" class=\"data row11 col0\" >Least Angle Regression</td>\n",
       "                        <td id=\"T_988a8a79_cccd_11ec_8a0e_b4b5b6ea7a5arow11_col1\" class=\"data row11 col1\" >348796.9013</td>\n",
       "                        <td id=\"T_988a8a79_cccd_11ec_8a0e_b4b5b6ea7a5arow11_col2\" class=\"data row11 col2\" >461069328437.7045</td>\n",
       "                        <td id=\"T_988a8a79_cccd_11ec_8a0e_b4b5b6ea7a5arow11_col3\" class=\"data row11 col3\" >675241.8102</td>\n",
       "                        <td id=\"T_988a8a79_cccd_11ec_8a0e_b4b5b6ea7a5arow11_col4\" class=\"data row11 col4\" >0.7569</td>\n",
       "                        <td id=\"T_988a8a79_cccd_11ec_8a0e_b4b5b6ea7a5arow11_col5\" class=\"data row11 col5\" >0.2440</td>\n",
       "                        <td id=\"T_988a8a79_cccd_11ec_8a0e_b4b5b6ea7a5arow11_col6\" class=\"data row11 col6\" >0.1870</td>\n",
       "                        <td id=\"T_988a8a79_cccd_11ec_8a0e_b4b5b6ea7a5arow11_col7\" class=\"data row11 col7\" >0.0090</td>\n",
       "            </tr>\n",
       "            <tr>\n",
       "                        <th id=\"T_988a8a79_cccd_11ec_8a0e_b4b5b6ea7a5alevel0_row12\" class=\"row_heading level0 row12\" >llar</th>\n",
       "                        <td id=\"T_988a8a79_cccd_11ec_8a0e_b4b5b6ea7a5arow12_col0\" class=\"data row12 col0\" >Lasso Least Angle Regression</td>\n",
       "                        <td id=\"T_988a8a79_cccd_11ec_8a0e_b4b5b6ea7a5arow12_col1\" class=\"data row12 col1\" >348729.5255</td>\n",
       "                        <td id=\"T_988a8a79_cccd_11ec_8a0e_b4b5b6ea7a5arow12_col2\" class=\"data row12 col2\" >461067421149.3377</td>\n",
       "                        <td id=\"T_988a8a79_cccd_11ec_8a0e_b4b5b6ea7a5arow12_col3\" class=\"data row12 col3\" >675239.2861</td>\n",
       "                        <td id=\"T_988a8a79_cccd_11ec_8a0e_b4b5b6ea7a5arow12_col4\" class=\"data row12 col4\" >0.7569</td>\n",
       "                        <td id=\"T_988a8a79_cccd_11ec_8a0e_b4b5b6ea7a5arow12_col5\" class=\"data row12 col5\" >0.2441</td>\n",
       "                        <td id=\"T_988a8a79_cccd_11ec_8a0e_b4b5b6ea7a5arow12_col6\" class=\"data row12 col6\" >0.1870</td>\n",
       "                        <td id=\"T_988a8a79_cccd_11ec_8a0e_b4b5b6ea7a5arow12_col7\" class=\"data row12 col7\" >0.0070</td>\n",
       "            </tr>\n",
       "            <tr>\n",
       "                        <th id=\"T_988a8a79_cccd_11ec_8a0e_b4b5b6ea7a5alevel0_row13\" class=\"row_heading level0 row13\" >ridge</th>\n",
       "                        <td id=\"T_988a8a79_cccd_11ec_8a0e_b4b5b6ea7a5arow13_col0\" class=\"data row13 col0\" >Ridge Regression</td>\n",
       "                        <td id=\"T_988a8a79_cccd_11ec_8a0e_b4b5b6ea7a5arow13_col1\" class=\"data row13 col1\" >348789.2171</td>\n",
       "                        <td id=\"T_988a8a79_cccd_11ec_8a0e_b4b5b6ea7a5arow13_col2\" class=\"data row13 col2\" >461058358523.5566</td>\n",
       "                        <td id=\"T_988a8a79_cccd_11ec_8a0e_b4b5b6ea7a5arow13_col3\" class=\"data row13 col3\" >675234.0844</td>\n",
       "                        <td id=\"T_988a8a79_cccd_11ec_8a0e_b4b5b6ea7a5arow13_col4\" class=\"data row13 col4\" >0.7569</td>\n",
       "                        <td id=\"T_988a8a79_cccd_11ec_8a0e_b4b5b6ea7a5arow13_col5\" class=\"data row13 col5\" >0.2440</td>\n",
       "                        <td id=\"T_988a8a79_cccd_11ec_8a0e_b4b5b6ea7a5arow13_col6\" class=\"data row13 col6\" >0.1870</td>\n",
       "                        <td id=\"T_988a8a79_cccd_11ec_8a0e_b4b5b6ea7a5arow13_col7\" class=\"data row13 col7\" >0.0090</td>\n",
       "            </tr>\n",
       "            <tr>\n",
       "                        <th id=\"T_988a8a79_cccd_11ec_8a0e_b4b5b6ea7a5alevel0_row14\" class=\"row_heading level0 row14\" >en</th>\n",
       "                        <td id=\"T_988a8a79_cccd_11ec_8a0e_b4b5b6ea7a5arow14_col0\" class=\"data row14 col0\" >Elastic Net</td>\n",
       "                        <td id=\"T_988a8a79_cccd_11ec_8a0e_b4b5b6ea7a5arow14_col1\" class=\"data row14 col1\" >348319.0656</td>\n",
       "                        <td id=\"T_988a8a79_cccd_11ec_8a0e_b4b5b6ea7a5arow14_col2\" class=\"data row14 col2\" >480238993187.5872</td>\n",
       "                        <td id=\"T_988a8a79_cccd_11ec_8a0e_b4b5b6ea7a5arow14_col3\" class=\"data row14 col3\" >689300.7259</td>\n",
       "                        <td id=\"T_988a8a79_cccd_11ec_8a0e_b4b5b6ea7a5arow14_col4\" class=\"data row14 col4\" >0.7469</td>\n",
       "                        <td id=\"T_988a8a79_cccd_11ec_8a0e_b4b5b6ea7a5arow14_col5\" class=\"data row14 col5\" >0.2296</td>\n",
       "                        <td id=\"T_988a8a79_cccd_11ec_8a0e_b4b5b6ea7a5arow14_col6\" class=\"data row14 col6\" >0.1829</td>\n",
       "                        <td id=\"T_988a8a79_cccd_11ec_8a0e_b4b5b6ea7a5arow14_col7\" class=\"data row14 col7\" >0.0080</td>\n",
       "            </tr>\n",
       "            <tr>\n",
       "                        <th id=\"T_988a8a79_cccd_11ec_8a0e_b4b5b6ea7a5alevel0_row15\" class=\"row_heading level0 row15\" >huber</th>\n",
       "                        <td id=\"T_988a8a79_cccd_11ec_8a0e_b4b5b6ea7a5arow15_col0\" class=\"data row15 col0\" >Huber Regressor</td>\n",
       "                        <td id=\"T_988a8a79_cccd_11ec_8a0e_b4b5b6ea7a5arow15_col1\" class=\"data row15 col1\" >316165.4398</td>\n",
       "                        <td id=\"T_988a8a79_cccd_11ec_8a0e_b4b5b6ea7a5arow15_col2\" class=\"data row15 col2\" >503731855586.0148</td>\n",
       "                        <td id=\"T_988a8a79_cccd_11ec_8a0e_b4b5b6ea7a5arow15_col3\" class=\"data row15 col3\" >705006.0904</td>\n",
       "                        <td id=\"T_988a8a79_cccd_11ec_8a0e_b4b5b6ea7a5arow15_col4\" class=\"data row15 col4\" >0.7396</td>\n",
       "                        <td id=\"T_988a8a79_cccd_11ec_8a0e_b4b5b6ea7a5arow15_col5\" class=\"data row15 col5\" >0.2262</td>\n",
       "                        <td id=\"T_988a8a79_cccd_11ec_8a0e_b4b5b6ea7a5arow15_col6\" class=\"data row15 col6\" >0.1541</td>\n",
       "                        <td id=\"T_988a8a79_cccd_11ec_8a0e_b4b5b6ea7a5arow15_col7\" class=\"data row15 col7\" >0.0940</td>\n",
       "            </tr>\n",
       "            <tr>\n",
       "                        <th id=\"T_988a8a79_cccd_11ec_8a0e_b4b5b6ea7a5alevel0_row16\" class=\"row_heading level0 row16\" >ada</th>\n",
       "                        <td id=\"T_988a8a79_cccd_11ec_8a0e_b4b5b6ea7a5arow16_col0\" class=\"data row16 col0\" >AdaBoost Regressor</td>\n",
       "                        <td id=\"T_988a8a79_cccd_11ec_8a0e_b4b5b6ea7a5arow16_col1\" class=\"data row16 col1\" >476070.7915</td>\n",
       "                        <td id=\"T_988a8a79_cccd_11ec_8a0e_b4b5b6ea7a5arow16_col2\" class=\"data row16 col2\" >493161231507.0011</td>\n",
       "                        <td id=\"T_988a8a79_cccd_11ec_8a0e_b4b5b6ea7a5arow16_col3\" class=\"data row16 col3\" >700246.2199</td>\n",
       "                        <td id=\"T_988a8a79_cccd_11ec_8a0e_b4b5b6ea7a5arow16_col4\" class=\"data row16 col4\" >0.7368</td>\n",
       "                        <td id=\"T_988a8a79_cccd_11ec_8a0e_b4b5b6ea7a5arow16_col5\" class=\"data row16 col5\" >0.3321</td>\n",
       "                        <td id=\"T_988a8a79_cccd_11ec_8a0e_b4b5b6ea7a5arow16_col6\" class=\"data row16 col6\" >0.3197</td>\n",
       "                        <td id=\"T_988a8a79_cccd_11ec_8a0e_b4b5b6ea7a5arow16_col7\" class=\"data row16 col7\" >0.0780</td>\n",
       "            </tr>\n",
       "            <tr>\n",
       "                        <th id=\"T_988a8a79_cccd_11ec_8a0e_b4b5b6ea7a5alevel0_row17\" class=\"row_heading level0 row17\" >par</th>\n",
       "                        <td id=\"T_988a8a79_cccd_11ec_8a0e_b4b5b6ea7a5arow17_col0\" class=\"data row17 col0\" >Passive Aggressive Regressor</td>\n",
       "                        <td id=\"T_988a8a79_cccd_11ec_8a0e_b4b5b6ea7a5arow17_col1\" class=\"data row17 col1\" >329769.2507</td>\n",
       "                        <td id=\"T_988a8a79_cccd_11ec_8a0e_b4b5b6ea7a5arow17_col2\" class=\"data row17 col2\" >509794694721.4738</td>\n",
       "                        <td id=\"T_988a8a79_cccd_11ec_8a0e_b4b5b6ea7a5arow17_col3\" class=\"data row17 col3\" >710308.8234</td>\n",
       "                        <td id=\"T_988a8a79_cccd_11ec_8a0e_b4b5b6ea7a5arow17_col4\" class=\"data row17 col4\" >0.7336</td>\n",
       "                        <td id=\"T_988a8a79_cccd_11ec_8a0e_b4b5b6ea7a5arow17_col5\" class=\"data row17 col5\" >0.2373</td>\n",
       "                        <td id=\"T_988a8a79_cccd_11ec_8a0e_b4b5b6ea7a5arow17_col6\" class=\"data row17 col6\" >0.1578</td>\n",
       "                        <td id=\"T_988a8a79_cccd_11ec_8a0e_b4b5b6ea7a5arow17_col7\" class=\"data row17 col7\" >0.0390</td>\n",
       "            </tr>\n",
       "            <tr>\n",
       "                        <th id=\"T_988a8a79_cccd_11ec_8a0e_b4b5b6ea7a5alevel0_row18\" class=\"row_heading level0 row18\" >omp</th>\n",
       "                        <td id=\"T_988a8a79_cccd_11ec_8a0e_b4b5b6ea7a5arow18_col0\" class=\"data row18 col0\" >Orthogonal Matching Pursuit</td>\n",
       "                        <td id=\"T_988a8a79_cccd_11ec_8a0e_b4b5b6ea7a5arow18_col1\" class=\"data row18 col1\" >376700.6487</td>\n",
       "                        <td id=\"T_988a8a79_cccd_11ec_8a0e_b4b5b6ea7a5arow18_col2\" class=\"data row18 col2\" >556398032805.8129</td>\n",
       "                        <td id=\"T_988a8a79_cccd_11ec_8a0e_b4b5b6ea7a5arow18_col3\" class=\"data row18 col3\" >742244.5342</td>\n",
       "                        <td id=\"T_988a8a79_cccd_11ec_8a0e_b4b5b6ea7a5arow18_col4\" class=\"data row18 col4\" >0.7082</td>\n",
       "                        <td id=\"T_988a8a79_cccd_11ec_8a0e_b4b5b6ea7a5arow18_col5\" class=\"data row18 col5\" >0.2512</td>\n",
       "                        <td id=\"T_988a8a79_cccd_11ec_8a0e_b4b5b6ea7a5arow18_col6\" class=\"data row18 col6\" >0.1978</td>\n",
       "                        <td id=\"T_988a8a79_cccd_11ec_8a0e_b4b5b6ea7a5arow18_col7\" class=\"data row18 col7\" >0.0070</td>\n",
       "            </tr>\n",
       "    </tbody></table>"
      ],
      "text/plain": [
       "<pandas.io.formats.style.Styler at 0x28f56a9e490>"
      ]
     },
     "metadata": {},
     "output_type": "display_data"
    }
   ],
   "source": [
    "best = compare_models(exclude = ['ransac'])"
   ]
  },
  {
   "cell_type": "markdown",
   "metadata": {},
   "source": [
    "### Random Forest Regressor"
   ]
  },
  {
   "cell_type": "code",
   "execution_count": 197,
   "metadata": {},
   "outputs": [
    {
     "data": {
      "text/html": [
       "<style  type=\"text/css\" >\n",
       "#T_a19cc707_cccd_11ec_9c98_b4b5b6ea7a5arow10_col0,#T_a19cc707_cccd_11ec_9c98_b4b5b6ea7a5arow10_col1,#T_a19cc707_cccd_11ec_9c98_b4b5b6ea7a5arow10_col2,#T_a19cc707_cccd_11ec_9c98_b4b5b6ea7a5arow10_col3,#T_a19cc707_cccd_11ec_9c98_b4b5b6ea7a5arow10_col4,#T_a19cc707_cccd_11ec_9c98_b4b5b6ea7a5arow10_col5{\n",
       "            background:  yellow;\n",
       "        }</style><table id=\"T_a19cc707_cccd_11ec_9c98_b4b5b6ea7a5a\" ><thead>    <tr>        <th class=\"blank level0\" ></th>        <th class=\"col_heading level0 col0\" >MAE</th>        <th class=\"col_heading level0 col1\" >MSE</th>        <th class=\"col_heading level0 col2\" >RMSE</th>        <th class=\"col_heading level0 col3\" >R2</th>        <th class=\"col_heading level0 col4\" >RMSLE</th>        <th class=\"col_heading level0 col5\" >MAPE</th>    </tr></thead><tbody>\n",
       "                <tr>\n",
       "                        <th id=\"T_a19cc707_cccd_11ec_9c98_b4b5b6ea7a5alevel0_row0\" class=\"row_heading level0 row0\" >0</th>\n",
       "                        <td id=\"T_a19cc707_cccd_11ec_9c98_b4b5b6ea7a5arow0_col0\" class=\"data row0 col0\" >110180.6948</td>\n",
       "                        <td id=\"T_a19cc707_cccd_11ec_9c98_b4b5b6ea7a5arow0_col1\" class=\"data row0 col1\" >163996882290.4818</td>\n",
       "                        <td id=\"T_a19cc707_cccd_11ec_9c98_b4b5b6ea7a5arow0_col2\" class=\"data row0 col2\" >404965.2853</td>\n",
       "                        <td id=\"T_a19cc707_cccd_11ec_9c98_b4b5b6ea7a5arow0_col3\" class=\"data row0 col3\" >0.9009</td>\n",
       "                        <td id=\"T_a19cc707_cccd_11ec_9c98_b4b5b6ea7a5arow0_col4\" class=\"data row0 col4\" >0.0862</td>\n",
       "                        <td id=\"T_a19cc707_cccd_11ec_9c98_b4b5b6ea7a5arow0_col5\" class=\"data row0 col5\" >0.0483</td>\n",
       "            </tr>\n",
       "            <tr>\n",
       "                        <th id=\"T_a19cc707_cccd_11ec_9c98_b4b5b6ea7a5alevel0_row1\" class=\"row_heading level0 row1\" >1</th>\n",
       "                        <td id=\"T_a19cc707_cccd_11ec_9c98_b4b5b6ea7a5arow1_col0\" class=\"data row1 col0\" >117085.6109</td>\n",
       "                        <td id=\"T_a19cc707_cccd_11ec_9c98_b4b5b6ea7a5arow1_col1\" class=\"data row1 col1\" >183799928734.2616</td>\n",
       "                        <td id=\"T_a19cc707_cccd_11ec_9c98_b4b5b6ea7a5arow1_col2\" class=\"data row1 col2\" >428718.9391</td>\n",
       "                        <td id=\"T_a19cc707_cccd_11ec_9c98_b4b5b6ea7a5arow1_col3\" class=\"data row1 col3\" >0.9484</td>\n",
       "                        <td id=\"T_a19cc707_cccd_11ec_9c98_b4b5b6ea7a5arow1_col4\" class=\"data row1 col4\" >0.0882</td>\n",
       "                        <td id=\"T_a19cc707_cccd_11ec_9c98_b4b5b6ea7a5arow1_col5\" class=\"data row1 col5\" >0.0495</td>\n",
       "            </tr>\n",
       "            <tr>\n",
       "                        <th id=\"T_a19cc707_cccd_11ec_9c98_b4b5b6ea7a5alevel0_row2\" class=\"row_heading level0 row2\" >2</th>\n",
       "                        <td id=\"T_a19cc707_cccd_11ec_9c98_b4b5b6ea7a5arow2_col0\" class=\"data row2 col0\" >96223.2770</td>\n",
       "                        <td id=\"T_a19cc707_cccd_11ec_9c98_b4b5b6ea7a5arow2_col1\" class=\"data row2 col1\" >67336762951.7385</td>\n",
       "                        <td id=\"T_a19cc707_cccd_11ec_9c98_b4b5b6ea7a5arow2_col2\" class=\"data row2 col2\" >259493.2811</td>\n",
       "                        <td id=\"T_a19cc707_cccd_11ec_9c98_b4b5b6ea7a5arow2_col3\" class=\"data row2 col3\" >0.9529</td>\n",
       "                        <td id=\"T_a19cc707_cccd_11ec_9c98_b4b5b6ea7a5arow2_col4\" class=\"data row2 col4\" >0.0825</td>\n",
       "                        <td id=\"T_a19cc707_cccd_11ec_9c98_b4b5b6ea7a5arow2_col5\" class=\"data row2 col5\" >0.0478</td>\n",
       "            </tr>\n",
       "            <tr>\n",
       "                        <th id=\"T_a19cc707_cccd_11ec_9c98_b4b5b6ea7a5alevel0_row3\" class=\"row_heading level0 row3\" >3</th>\n",
       "                        <td id=\"T_a19cc707_cccd_11ec_9c98_b4b5b6ea7a5arow3_col0\" class=\"data row3 col0\" >123216.1163</td>\n",
       "                        <td id=\"T_a19cc707_cccd_11ec_9c98_b4b5b6ea7a5arow3_col1\" class=\"data row3 col1\" >267489207403.7434</td>\n",
       "                        <td id=\"T_a19cc707_cccd_11ec_9c98_b4b5b6ea7a5arow3_col2\" class=\"data row3 col2\" >517193.5879</td>\n",
       "                        <td id=\"T_a19cc707_cccd_11ec_9c98_b4b5b6ea7a5arow3_col3\" class=\"data row3 col3\" >0.8593</td>\n",
       "                        <td id=\"T_a19cc707_cccd_11ec_9c98_b4b5b6ea7a5arow3_col4\" class=\"data row3 col4\" >0.0974</td>\n",
       "                        <td id=\"T_a19cc707_cccd_11ec_9c98_b4b5b6ea7a5arow3_col5\" class=\"data row3 col5\" >0.0532</td>\n",
       "            </tr>\n",
       "            <tr>\n",
       "                        <th id=\"T_a19cc707_cccd_11ec_9c98_b4b5b6ea7a5alevel0_row4\" class=\"row_heading level0 row4\" >4</th>\n",
       "                        <td id=\"T_a19cc707_cccd_11ec_9c98_b4b5b6ea7a5arow4_col0\" class=\"data row4 col0\" >111243.9842</td>\n",
       "                        <td id=\"T_a19cc707_cccd_11ec_9c98_b4b5b6ea7a5arow4_col1\" class=\"data row4 col1\" >92153634675.4858</td>\n",
       "                        <td id=\"T_a19cc707_cccd_11ec_9c98_b4b5b6ea7a5arow4_col2\" class=\"data row4 col2\" >303568.1714</td>\n",
       "                        <td id=\"T_a19cc707_cccd_11ec_9c98_b4b5b6ea7a5arow4_col3\" class=\"data row4 col3\" >0.9323</td>\n",
       "                        <td id=\"T_a19cc707_cccd_11ec_9c98_b4b5b6ea7a5arow4_col4\" class=\"data row4 col4\" >0.0941</td>\n",
       "                        <td id=\"T_a19cc707_cccd_11ec_9c98_b4b5b6ea7a5arow4_col5\" class=\"data row4 col5\" >0.0532</td>\n",
       "            </tr>\n",
       "            <tr>\n",
       "                        <th id=\"T_a19cc707_cccd_11ec_9c98_b4b5b6ea7a5alevel0_row5\" class=\"row_heading level0 row5\" >5</th>\n",
       "                        <td id=\"T_a19cc707_cccd_11ec_9c98_b4b5b6ea7a5arow5_col0\" class=\"data row5 col0\" >114251.4352</td>\n",
       "                        <td id=\"T_a19cc707_cccd_11ec_9c98_b4b5b6ea7a5arow5_col1\" class=\"data row5 col1\" >157601050421.2330</td>\n",
       "                        <td id=\"T_a19cc707_cccd_11ec_9c98_b4b5b6ea7a5arow5_col2\" class=\"data row5 col2\" >396989.9878</td>\n",
       "                        <td id=\"T_a19cc707_cccd_11ec_9c98_b4b5b6ea7a5arow5_col3\" class=\"data row5 col3\" >0.9160</td>\n",
       "                        <td id=\"T_a19cc707_cccd_11ec_9c98_b4b5b6ea7a5arow5_col4\" class=\"data row5 col4\" >0.0982</td>\n",
       "                        <td id=\"T_a19cc707_cccd_11ec_9c98_b4b5b6ea7a5arow5_col5\" class=\"data row5 col5\" >0.0537</td>\n",
       "            </tr>\n",
       "            <tr>\n",
       "                        <th id=\"T_a19cc707_cccd_11ec_9c98_b4b5b6ea7a5alevel0_row6\" class=\"row_heading level0 row6\" >6</th>\n",
       "                        <td id=\"T_a19cc707_cccd_11ec_9c98_b4b5b6ea7a5arow6_col0\" class=\"data row6 col0\" >105051.6822</td>\n",
       "                        <td id=\"T_a19cc707_cccd_11ec_9c98_b4b5b6ea7a5arow6_col1\" class=\"data row6 col1\" >104649050485.0929</td>\n",
       "                        <td id=\"T_a19cc707_cccd_11ec_9c98_b4b5b6ea7a5arow6_col2\" class=\"data row6 col2\" >323495.0548</td>\n",
       "                        <td id=\"T_a19cc707_cccd_11ec_9c98_b4b5b6ea7a5arow6_col3\" class=\"data row6 col3\" >0.9328</td>\n",
       "                        <td id=\"T_a19cc707_cccd_11ec_9c98_b4b5b6ea7a5arow6_col4\" class=\"data row6 col4\" >0.0938</td>\n",
       "                        <td id=\"T_a19cc707_cccd_11ec_9c98_b4b5b6ea7a5arow6_col5\" class=\"data row6 col5\" >0.0503</td>\n",
       "            </tr>\n",
       "            <tr>\n",
       "                        <th id=\"T_a19cc707_cccd_11ec_9c98_b4b5b6ea7a5alevel0_row7\" class=\"row_heading level0 row7\" >7</th>\n",
       "                        <td id=\"T_a19cc707_cccd_11ec_9c98_b4b5b6ea7a5arow7_col0\" class=\"data row7 col0\" >127950.3759</td>\n",
       "                        <td id=\"T_a19cc707_cccd_11ec_9c98_b4b5b6ea7a5arow7_col1\" class=\"data row7 col1\" >213350468609.4251</td>\n",
       "                        <td id=\"T_a19cc707_cccd_11ec_9c98_b4b5b6ea7a5arow7_col2\" class=\"data row7 col2\" >461898.7645</td>\n",
       "                        <td id=\"T_a19cc707_cccd_11ec_9c98_b4b5b6ea7a5arow7_col3\" class=\"data row7 col3\" >0.9054</td>\n",
       "                        <td id=\"T_a19cc707_cccd_11ec_9c98_b4b5b6ea7a5arow7_col4\" class=\"data row7 col4\" >0.1013</td>\n",
       "                        <td id=\"T_a19cc707_cccd_11ec_9c98_b4b5b6ea7a5arow7_col5\" class=\"data row7 col5\" >0.0554</td>\n",
       "            </tr>\n",
       "            <tr>\n",
       "                        <th id=\"T_a19cc707_cccd_11ec_9c98_b4b5b6ea7a5alevel0_row8\" class=\"row_heading level0 row8\" >8</th>\n",
       "                        <td id=\"T_a19cc707_cccd_11ec_9c98_b4b5b6ea7a5arow8_col0\" class=\"data row8 col0\" >114942.4247</td>\n",
       "                        <td id=\"T_a19cc707_cccd_11ec_9c98_b4b5b6ea7a5arow8_col1\" class=\"data row8 col1\" >153263235007.3176</td>\n",
       "                        <td id=\"T_a19cc707_cccd_11ec_9c98_b4b5b6ea7a5arow8_col2\" class=\"data row8 col2\" >391488.4864</td>\n",
       "                        <td id=\"T_a19cc707_cccd_11ec_9c98_b4b5b6ea7a5arow8_col3\" class=\"data row8 col3\" >0.9053</td>\n",
       "                        <td id=\"T_a19cc707_cccd_11ec_9c98_b4b5b6ea7a5arow8_col4\" class=\"data row8 col4\" >0.0981</td>\n",
       "                        <td id=\"T_a19cc707_cccd_11ec_9c98_b4b5b6ea7a5arow8_col5\" class=\"data row8 col5\" >0.0523</td>\n",
       "            </tr>\n",
       "            <tr>\n",
       "                        <th id=\"T_a19cc707_cccd_11ec_9c98_b4b5b6ea7a5alevel0_row9\" class=\"row_heading level0 row9\" >9</th>\n",
       "                        <td id=\"T_a19cc707_cccd_11ec_9c98_b4b5b6ea7a5arow9_col0\" class=\"data row9 col0\" >119661.2438</td>\n",
       "                        <td id=\"T_a19cc707_cccd_11ec_9c98_b4b5b6ea7a5arow9_col1\" class=\"data row9 col1\" >127757701956.0234</td>\n",
       "                        <td id=\"T_a19cc707_cccd_11ec_9c98_b4b5b6ea7a5arow9_col2\" class=\"data row9 col2\" >357432.0942</td>\n",
       "                        <td id=\"T_a19cc707_cccd_11ec_9c98_b4b5b6ea7a5arow9_col3\" class=\"data row9 col3\" >0.9580</td>\n",
       "                        <td id=\"T_a19cc707_cccd_11ec_9c98_b4b5b6ea7a5arow9_col4\" class=\"data row9 col4\" >0.0939</td>\n",
       "                        <td id=\"T_a19cc707_cccd_11ec_9c98_b4b5b6ea7a5arow9_col5\" class=\"data row9 col5\" >0.0531</td>\n",
       "            </tr>\n",
       "            <tr>\n",
       "                        <th id=\"T_a19cc707_cccd_11ec_9c98_b4b5b6ea7a5alevel0_row10\" class=\"row_heading level0 row10\" >Mean</th>\n",
       "                        <td id=\"T_a19cc707_cccd_11ec_9c98_b4b5b6ea7a5arow10_col0\" class=\"data row10 col0\" >113980.6845</td>\n",
       "                        <td id=\"T_a19cc707_cccd_11ec_9c98_b4b5b6ea7a5arow10_col1\" class=\"data row10 col1\" >153139792253.4803</td>\n",
       "                        <td id=\"T_a19cc707_cccd_11ec_9c98_b4b5b6ea7a5arow10_col2\" class=\"data row10 col2\" >384524.3653</td>\n",
       "                        <td id=\"T_a19cc707_cccd_11ec_9c98_b4b5b6ea7a5arow10_col3\" class=\"data row10 col3\" >0.9211</td>\n",
       "                        <td id=\"T_a19cc707_cccd_11ec_9c98_b4b5b6ea7a5arow10_col4\" class=\"data row10 col4\" >0.0934</td>\n",
       "                        <td id=\"T_a19cc707_cccd_11ec_9c98_b4b5b6ea7a5arow10_col5\" class=\"data row10 col5\" >0.0517</td>\n",
       "            </tr>\n",
       "            <tr>\n",
       "                        <th id=\"T_a19cc707_cccd_11ec_9c98_b4b5b6ea7a5alevel0_row11\" class=\"row_heading level0 row11\" >SD</th>\n",
       "                        <td id=\"T_a19cc707_cccd_11ec_9c98_b4b5b6ea7a5arow11_col0\" class=\"data row11 col0\" >8604.2728</td>\n",
       "                        <td id=\"T_a19cc707_cccd_11ec_9c98_b4b5b6ea7a5arow11_col1\" class=\"data row11 col1\" >56441143261.5360</td>\n",
       "                        <td id=\"T_a19cc707_cccd_11ec_9c98_b4b5b6ea7a5arow11_col2\" class=\"data row11 col2\" >72669.1460</td>\n",
       "                        <td id=\"T_a19cc707_cccd_11ec_9c98_b4b5b6ea7a5arow11_col3\" class=\"data row11 col3\" >0.0285</td>\n",
       "                        <td id=\"T_a19cc707_cccd_11ec_9c98_b4b5b6ea7a5arow11_col4\" class=\"data row11 col4\" >0.0057</td>\n",
       "                        <td id=\"T_a19cc707_cccd_11ec_9c98_b4b5b6ea7a5arow11_col5\" class=\"data row11 col5\" >0.0024</td>\n",
       "            </tr>\n",
       "    </tbody></table>"
      ],
      "text/plain": [
       "<pandas.io.formats.style.Styler at 0x28f5d4c8c10>"
      ]
     },
     "metadata": {},
     "output_type": "display_data"
    }
   ],
   "source": [
    "# create a model\n",
    "rf = create_model('rf')\n"
   ]
  },
  {
   "cell_type": "code",
   "execution_count": 198,
   "metadata": {},
   "outputs": [
    {
     "data": {
      "text/html": [
       "<style  type=\"text/css\" >\n",
       "</style><table id=\"T_a7260f9e_cccd_11ec_8de1_b4b5b6ea7a5a\" ><thead>    <tr>        <th class=\"blank level0\" ></th>        <th class=\"col_heading level0 col0\" >Model</th>        <th class=\"col_heading level0 col1\" >MAE</th>        <th class=\"col_heading level0 col2\" >MSE</th>        <th class=\"col_heading level0 col3\" >RMSE</th>        <th class=\"col_heading level0 col4\" >R2</th>        <th class=\"col_heading level0 col5\" >RMSLE</th>        <th class=\"col_heading level0 col6\" >MAPE</th>    </tr></thead><tbody>\n",
       "                <tr>\n",
       "                        <th id=\"T_a7260f9e_cccd_11ec_8de1_b4b5b6ea7a5alevel0_row0\" class=\"row_heading level0 row0\" >0</th>\n",
       "                        <td id=\"T_a7260f9e_cccd_11ec_8de1_b4b5b6ea7a5arow0_col0\" class=\"data row0 col0\" >Random Forest Regressor</td>\n",
       "                        <td id=\"T_a7260f9e_cccd_11ec_8de1_b4b5b6ea7a5arow0_col1\" class=\"data row0 col1\" >112260.9825</td>\n",
       "                        <td id=\"T_a7260f9e_cccd_11ec_8de1_b4b5b6ea7a5arow0_col2\" class=\"data row0 col2\" >125268474127.7898</td>\n",
       "                        <td id=\"T_a7260f9e_cccd_11ec_8de1_b4b5b6ea7a5arow0_col3\" class=\"data row0 col3\" >353932.8667</td>\n",
       "                        <td id=\"T_a7260f9e_cccd_11ec_8de1_b4b5b6ea7a5arow0_col4\" class=\"data row0 col4\" >0.9279</td>\n",
       "                        <td id=\"T_a7260f9e_cccd_11ec_8de1_b4b5b6ea7a5arow0_col5\" class=\"data row0 col5\" >0.0918</td>\n",
       "                        <td id=\"T_a7260f9e_cccd_11ec_8de1_b4b5b6ea7a5arow0_col6\" class=\"data row0 col6\" >0.0510</td>\n",
       "            </tr>\n",
       "    </tbody></table>"
      ],
      "text/plain": [
       "<pandas.io.formats.style.Styler at 0x28f50ec03a0>"
      ]
     },
     "metadata": {},
     "output_type": "display_data"
    },
    {
     "data": {
      "text/html": [
       "<div>\n",
       "<style scoped>\n",
       "    .dataframe tbody tr th:only-of-type {\n",
       "        vertical-align: middle;\n",
       "    }\n",
       "\n",
       "    .dataframe tbody tr th {\n",
       "        vertical-align: top;\n",
       "    }\n",
       "\n",
       "    .dataframe thead th {\n",
       "        text-align: right;\n",
       "    }\n",
       "</style>\n",
       "<table border=\"1\" class=\"dataframe\">\n",
       "  <thead>\n",
       "    <tr style=\"text-align: right;\">\n",
       "      <th></th>\n",
       "      <th>area</th>\n",
       "      <th>floorRange</th>\n",
       "      <th>noOfUnits</th>\n",
       "      <th>typeOfSale</th>\n",
       "      <th>propertyType</th>\n",
       "      <th>district</th>\n",
       "      <th>typeOfArea</th>\n",
       "      <th>marketSegment</th>\n",
       "      <th>Year_0</th>\n",
       "      <th>Year_1</th>\n",
       "      <th>Year_2</th>\n",
       "      <th>Year_3</th>\n",
       "      <th>Year_4</th>\n",
       "      <th>Year_5</th>\n",
       "      <th>price</th>\n",
       "      <th>Label</th>\n",
       "    </tr>\n",
       "  </thead>\n",
       "  <tbody>\n",
       "    <tr>\n",
       "      <th>0</th>\n",
       "      <td>105.0</td>\n",
       "      <td>4</td>\n",
       "      <td>1</td>\n",
       "      <td>1</td>\n",
       "      <td>1</td>\n",
       "      <td>3</td>\n",
       "      <td>1</td>\n",
       "      <td>2</td>\n",
       "      <td>1.0</td>\n",
       "      <td>0.0</td>\n",
       "      <td>0.0</td>\n",
       "      <td>0.0</td>\n",
       "      <td>0.0</td>\n",
       "      <td>0.0</td>\n",
       "      <td>1888000</td>\n",
       "      <td>1.869351e+06</td>\n",
       "    </tr>\n",
       "    <tr>\n",
       "      <th>1</th>\n",
       "      <td>104.0</td>\n",
       "      <td>2</td>\n",
       "      <td>1</td>\n",
       "      <td>1</td>\n",
       "      <td>0</td>\n",
       "      <td>5</td>\n",
       "      <td>1</td>\n",
       "      <td>2</td>\n",
       "      <td>0.0</td>\n",
       "      <td>0.0</td>\n",
       "      <td>0.0</td>\n",
       "      <td>0.0</td>\n",
       "      <td>1.0</td>\n",
       "      <td>0.0</td>\n",
       "      <td>2171000</td>\n",
       "      <td>2.103967e+06</td>\n",
       "    </tr>\n",
       "    <tr>\n",
       "      <th>2</th>\n",
       "      <td>42.0</td>\n",
       "      <td>1</td>\n",
       "      <td>1</td>\n",
       "      <td>1</td>\n",
       "      <td>0</td>\n",
       "      <td>5</td>\n",
       "      <td>1</td>\n",
       "      <td>1</td>\n",
       "      <td>0.0</td>\n",
       "      <td>0.0</td>\n",
       "      <td>1.0</td>\n",
       "      <td>0.0</td>\n",
       "      <td>0.0</td>\n",
       "      <td>0.0</td>\n",
       "      <td>699000</td>\n",
       "      <td>7.045905e+05</td>\n",
       "    </tr>\n",
       "    <tr>\n",
       "      <th>3</th>\n",
       "      <td>64.0</td>\n",
       "      <td>7</td>\n",
       "      <td>1</td>\n",
       "      <td>1</td>\n",
       "      <td>0</td>\n",
       "      <td>3</td>\n",
       "      <td>1</td>\n",
       "      <td>2</td>\n",
       "      <td>0.0</td>\n",
       "      <td>0.0</td>\n",
       "      <td>1.0</td>\n",
       "      <td>0.0</td>\n",
       "      <td>0.0</td>\n",
       "      <td>0.0</td>\n",
       "      <td>1320000</td>\n",
       "      <td>1.336833e+06</td>\n",
       "    </tr>\n",
       "    <tr>\n",
       "      <th>4</th>\n",
       "      <td>85.0</td>\n",
       "      <td>1</td>\n",
       "      <td>1</td>\n",
       "      <td>1</td>\n",
       "      <td>0</td>\n",
       "      <td>3</td>\n",
       "      <td>1</td>\n",
       "      <td>2</td>\n",
       "      <td>0.0</td>\n",
       "      <td>1.0</td>\n",
       "      <td>0.0</td>\n",
       "      <td>0.0</td>\n",
       "      <td>0.0</td>\n",
       "      <td>0.0</td>\n",
       "      <td>1571100</td>\n",
       "      <td>1.535831e+06</td>\n",
       "    </tr>\n",
       "    <tr>\n",
       "      <th>...</th>\n",
       "      <td>...</td>\n",
       "      <td>...</td>\n",
       "      <td>...</td>\n",
       "      <td>...</td>\n",
       "      <td>...</td>\n",
       "      <td>...</td>\n",
       "      <td>...</td>\n",
       "      <td>...</td>\n",
       "      <td>...</td>\n",
       "      <td>...</td>\n",
       "      <td>...</td>\n",
       "      <td>...</td>\n",
       "      <td>...</td>\n",
       "      <td>...</td>\n",
       "      <td>...</td>\n",
       "      <td>...</td>\n",
       "    </tr>\n",
       "    <tr>\n",
       "      <th>7415</th>\n",
       "      <td>48.0</td>\n",
       "      <td>3</td>\n",
       "      <td>1</td>\n",
       "      <td>1</td>\n",
       "      <td>0</td>\n",
       "      <td>5</td>\n",
       "      <td>1</td>\n",
       "      <td>2</td>\n",
       "      <td>0.0</td>\n",
       "      <td>0.0</td>\n",
       "      <td>0.0</td>\n",
       "      <td>0.0</td>\n",
       "      <td>1.0</td>\n",
       "      <td>0.0</td>\n",
       "      <td>980000</td>\n",
       "      <td>9.812124e+05</td>\n",
       "    </tr>\n",
       "    <tr>\n",
       "      <th>7416</th>\n",
       "      <td>66.0</td>\n",
       "      <td>7</td>\n",
       "      <td>1</td>\n",
       "      <td>1</td>\n",
       "      <td>1</td>\n",
       "      <td>5</td>\n",
       "      <td>1</td>\n",
       "      <td>1</td>\n",
       "      <td>1.0</td>\n",
       "      <td>0.0</td>\n",
       "      <td>0.0</td>\n",
       "      <td>0.0</td>\n",
       "      <td>0.0</td>\n",
       "      <td>0.0</td>\n",
       "      <td>944000</td>\n",
       "      <td>9.547628e+05</td>\n",
       "    </tr>\n",
       "    <tr>\n",
       "      <th>7417</th>\n",
       "      <td>109.0</td>\n",
       "      <td>7</td>\n",
       "      <td>1</td>\n",
       "      <td>3</td>\n",
       "      <td>0</td>\n",
       "      <td>1</td>\n",
       "      <td>1</td>\n",
       "      <td>0</td>\n",
       "      <td>0.0</td>\n",
       "      <td>0.0</td>\n",
       "      <td>0.0</td>\n",
       "      <td>0.0</td>\n",
       "      <td>0.0</td>\n",
       "      <td>1.0</td>\n",
       "      <td>2854088</td>\n",
       "      <td>2.975457e+06</td>\n",
       "    </tr>\n",
       "    <tr>\n",
       "      <th>7418</th>\n",
       "      <td>122.0</td>\n",
       "      <td>4</td>\n",
       "      <td>1</td>\n",
       "      <td>3</td>\n",
       "      <td>1</td>\n",
       "      <td>3</td>\n",
       "      <td>1</td>\n",
       "      <td>2</td>\n",
       "      <td>0.0</td>\n",
       "      <td>0.0</td>\n",
       "      <td>1.0</td>\n",
       "      <td>0.0</td>\n",
       "      <td>0.0</td>\n",
       "      <td>0.0</td>\n",
       "      <td>1990000</td>\n",
       "      <td>2.305406e+06</td>\n",
       "    </tr>\n",
       "    <tr>\n",
       "      <th>7419</th>\n",
       "      <td>53.0</td>\n",
       "      <td>2</td>\n",
       "      <td>1</td>\n",
       "      <td>1</td>\n",
       "      <td>0</td>\n",
       "      <td>3</td>\n",
       "      <td>1</td>\n",
       "      <td>2</td>\n",
       "      <td>0.0</td>\n",
       "      <td>0.0</td>\n",
       "      <td>1.0</td>\n",
       "      <td>0.0</td>\n",
       "      <td>0.0</td>\n",
       "      <td>0.0</td>\n",
       "      <td>1286000</td>\n",
       "      <td>1.321910e+06</td>\n",
       "    </tr>\n",
       "  </tbody>\n",
       "</table>\n",
       "<p>7420 rows × 16 columns</p>\n",
       "</div>"
      ],
      "text/plain": [
       "       area  floorRange  noOfUnits  typeOfSale  propertyType  district  \\\n",
       "0     105.0           4          1           1             1         3   \n",
       "1     104.0           2          1           1             0         5   \n",
       "2      42.0           1          1           1             0         5   \n",
       "3      64.0           7          1           1             0         3   \n",
       "4      85.0           1          1           1             0         3   \n",
       "...     ...         ...        ...         ...           ...       ...   \n",
       "7415   48.0           3          1           1             0         5   \n",
       "7416   66.0           7          1           1             1         5   \n",
       "7417  109.0           7          1           3             0         1   \n",
       "7418  122.0           4          1           3             1         3   \n",
       "7419   53.0           2          1           1             0         3   \n",
       "\n",
       "      typeOfArea  marketSegment  Year_0  Year_1  Year_2  Year_3  Year_4  \\\n",
       "0              1              2     1.0     0.0     0.0     0.0     0.0   \n",
       "1              1              2     0.0     0.0     0.0     0.0     1.0   \n",
       "2              1              1     0.0     0.0     1.0     0.0     0.0   \n",
       "3              1              2     0.0     0.0     1.0     0.0     0.0   \n",
       "4              1              2     0.0     1.0     0.0     0.0     0.0   \n",
       "...          ...            ...     ...     ...     ...     ...     ...   \n",
       "7415           1              2     0.0     0.0     0.0     0.0     1.0   \n",
       "7416           1              1     1.0     0.0     0.0     0.0     0.0   \n",
       "7417           1              0     0.0     0.0     0.0     0.0     0.0   \n",
       "7418           1              2     0.0     0.0     1.0     0.0     0.0   \n",
       "7419           1              2     0.0     0.0     1.0     0.0     0.0   \n",
       "\n",
       "      Year_5    price         Label  \n",
       "0        0.0  1888000  1.869351e+06  \n",
       "1        0.0  2171000  2.103967e+06  \n",
       "2        0.0   699000  7.045905e+05  \n",
       "3        0.0  1320000  1.336833e+06  \n",
       "4        0.0  1571100  1.535831e+06  \n",
       "...      ...      ...           ...  \n",
       "7415     0.0   980000  9.812124e+05  \n",
       "7416     0.0   944000  9.547628e+05  \n",
       "7417     1.0  2854088  2.975457e+06  \n",
       "7418     0.0  1990000  2.305406e+06  \n",
       "7419     0.0  1286000  1.321910e+06  \n",
       "\n",
       "[7420 rows x 16 columns]"
      ]
     },
     "execution_count": 198,
     "metadata": {},
     "output_type": "execute_result"
    }
   ],
   "source": [
    "# predict on hold-out\n",
    "predict_model(rf)"
   ]
  },
  {
   "cell_type": "markdown",
   "metadata": {},
   "source": [
    "### Gradient Boosting Regressor"
   ]
  },
  {
   "cell_type": "code",
   "execution_count": 199,
   "metadata": {},
   "outputs": [
    {
     "data": {
      "text/html": [
       "<style  type=\"text/css\" >\n",
       "#T_aad710d7_cccd_11ec_8712_b4b5b6ea7a5arow10_col0,#T_aad710d7_cccd_11ec_8712_b4b5b6ea7a5arow10_col1,#T_aad710d7_cccd_11ec_8712_b4b5b6ea7a5arow10_col2,#T_aad710d7_cccd_11ec_8712_b4b5b6ea7a5arow10_col3,#T_aad710d7_cccd_11ec_8712_b4b5b6ea7a5arow10_col4,#T_aad710d7_cccd_11ec_8712_b4b5b6ea7a5arow10_col5{\n",
       "            background:  yellow;\n",
       "        }</style><table id=\"T_aad710d7_cccd_11ec_8712_b4b5b6ea7a5a\" ><thead>    <tr>        <th class=\"blank level0\" ></th>        <th class=\"col_heading level0 col0\" >MAE</th>        <th class=\"col_heading level0 col1\" >MSE</th>        <th class=\"col_heading level0 col2\" >RMSE</th>        <th class=\"col_heading level0 col3\" >R2</th>        <th class=\"col_heading level0 col4\" >RMSLE</th>        <th class=\"col_heading level0 col5\" >MAPE</th>    </tr></thead><tbody>\n",
       "                <tr>\n",
       "                        <th id=\"T_aad710d7_cccd_11ec_8712_b4b5b6ea7a5alevel0_row0\" class=\"row_heading level0 row0\" >0</th>\n",
       "                        <td id=\"T_aad710d7_cccd_11ec_8712_b4b5b6ea7a5arow0_col0\" class=\"data row0 col0\" >201486.0510</td>\n",
       "                        <td id=\"T_aad710d7_cccd_11ec_8712_b4b5b6ea7a5arow0_col1\" class=\"data row0 col1\" >207705547534.0184</td>\n",
       "                        <td id=\"T_aad710d7_cccd_11ec_8712_b4b5b6ea7a5arow0_col2\" class=\"data row0 col2\" >455747.2408</td>\n",
       "                        <td id=\"T_aad710d7_cccd_11ec_8712_b4b5b6ea7a5arow0_col3\" class=\"data row0 col3\" >0.8745</td>\n",
       "                        <td id=\"T_aad710d7_cccd_11ec_8712_b4b5b6ea7a5arow0_col4\" class=\"data row0 col4\" >0.1415</td>\n",
       "                        <td id=\"T_aad710d7_cccd_11ec_8712_b4b5b6ea7a5arow0_col5\" class=\"data row0 col5\" >0.1024</td>\n",
       "            </tr>\n",
       "            <tr>\n",
       "                        <th id=\"T_aad710d7_cccd_11ec_8712_b4b5b6ea7a5alevel0_row1\" class=\"row_heading level0 row1\" >1</th>\n",
       "                        <td id=\"T_aad710d7_cccd_11ec_8712_b4b5b6ea7a5arow1_col0\" class=\"data row1 col0\" >200035.8824</td>\n",
       "                        <td id=\"T_aad710d7_cccd_11ec_8712_b4b5b6ea7a5arow1_col1\" class=\"data row1 col1\" >229569595938.9336</td>\n",
       "                        <td id=\"T_aad710d7_cccd_11ec_8712_b4b5b6ea7a5arow1_col2\" class=\"data row1 col2\" >479134.2150</td>\n",
       "                        <td id=\"T_aad710d7_cccd_11ec_8712_b4b5b6ea7a5arow1_col3\" class=\"data row1 col3\" >0.9355</td>\n",
       "                        <td id=\"T_aad710d7_cccd_11ec_8712_b4b5b6ea7a5arow1_col4\" class=\"data row1 col4\" >0.1384</td>\n",
       "                        <td id=\"T_aad710d7_cccd_11ec_8712_b4b5b6ea7a5arow1_col5\" class=\"data row1 col5\" >0.0996</td>\n",
       "            </tr>\n",
       "            <tr>\n",
       "                        <th id=\"T_aad710d7_cccd_11ec_8712_b4b5b6ea7a5alevel0_row2\" class=\"row_heading level0 row2\" >2</th>\n",
       "                        <td id=\"T_aad710d7_cccd_11ec_8712_b4b5b6ea7a5arow2_col0\" class=\"data row2 col0\" >190406.6503</td>\n",
       "                        <td id=\"T_aad710d7_cccd_11ec_8712_b4b5b6ea7a5arow2_col1\" class=\"data row2 col1\" >159685806822.0163</td>\n",
       "                        <td id=\"T_aad710d7_cccd_11ec_8712_b4b5b6ea7a5arow2_col2\" class=\"data row2 col2\" >399607.0655</td>\n",
       "                        <td id=\"T_aad710d7_cccd_11ec_8712_b4b5b6ea7a5arow2_col3\" class=\"data row2 col3\" >0.8884</td>\n",
       "                        <td id=\"T_aad710d7_cccd_11ec_8712_b4b5b6ea7a5arow2_col4\" class=\"data row2 col4\" >0.1403</td>\n",
       "                        <td id=\"T_aad710d7_cccd_11ec_8712_b4b5b6ea7a5arow2_col5\" class=\"data row2 col5\" >0.1021</td>\n",
       "            </tr>\n",
       "            <tr>\n",
       "                        <th id=\"T_aad710d7_cccd_11ec_8712_b4b5b6ea7a5alevel0_row3\" class=\"row_heading level0 row3\" >3</th>\n",
       "                        <td id=\"T_aad710d7_cccd_11ec_8712_b4b5b6ea7a5arow3_col0\" class=\"data row3 col0\" >210013.4752</td>\n",
       "                        <td id=\"T_aad710d7_cccd_11ec_8712_b4b5b6ea7a5arow3_col1\" class=\"data row3 col1\" >278674604469.6634</td>\n",
       "                        <td id=\"T_aad710d7_cccd_11ec_8712_b4b5b6ea7a5arow3_col2\" class=\"data row3 col2\" >527896.3956</td>\n",
       "                        <td id=\"T_aad710d7_cccd_11ec_8712_b4b5b6ea7a5arow3_col3\" class=\"data row3 col3\" >0.8534</td>\n",
       "                        <td id=\"T_aad710d7_cccd_11ec_8712_b4b5b6ea7a5arow3_col4\" class=\"data row3 col4\" >0.1422</td>\n",
       "                        <td id=\"T_aad710d7_cccd_11ec_8712_b4b5b6ea7a5arow3_col5\" class=\"data row3 col5\" >0.1025</td>\n",
       "            </tr>\n",
       "            <tr>\n",
       "                        <th id=\"T_aad710d7_cccd_11ec_8712_b4b5b6ea7a5alevel0_row4\" class=\"row_heading level0 row4\" >4</th>\n",
       "                        <td id=\"T_aad710d7_cccd_11ec_8712_b4b5b6ea7a5arow4_col0\" class=\"data row4 col0\" >206518.1669</td>\n",
       "                        <td id=\"T_aad710d7_cccd_11ec_8712_b4b5b6ea7a5arow4_col1\" class=\"data row4 col1\" >151778608535.9551</td>\n",
       "                        <td id=\"T_aad710d7_cccd_11ec_8712_b4b5b6ea7a5arow4_col2\" class=\"data row4 col2\" >389587.7418</td>\n",
       "                        <td id=\"T_aad710d7_cccd_11ec_8712_b4b5b6ea7a5arow4_col3\" class=\"data row4 col3\" >0.8885</td>\n",
       "                        <td id=\"T_aad710d7_cccd_11ec_8712_b4b5b6ea7a5arow4_col4\" class=\"data row4 col4\" >0.1456</td>\n",
       "                        <td id=\"T_aad710d7_cccd_11ec_8712_b4b5b6ea7a5arow4_col5\" class=\"data row4 col5\" >0.1078</td>\n",
       "            </tr>\n",
       "            <tr>\n",
       "                        <th id=\"T_aad710d7_cccd_11ec_8712_b4b5b6ea7a5alevel0_row5\" class=\"row_heading level0 row5\" >5</th>\n",
       "                        <td id=\"T_aad710d7_cccd_11ec_8712_b4b5b6ea7a5arow5_col0\" class=\"data row5 col0\" >196744.9226</td>\n",
       "                        <td id=\"T_aad710d7_cccd_11ec_8712_b4b5b6ea7a5arow5_col1\" class=\"data row5 col1\" >231125640330.6200</td>\n",
       "                        <td id=\"T_aad710d7_cccd_11ec_8712_b4b5b6ea7a5arow5_col2\" class=\"data row5 col2\" >480755.2811</td>\n",
       "                        <td id=\"T_aad710d7_cccd_11ec_8712_b4b5b6ea7a5arow5_col3\" class=\"data row5 col3\" >0.8768</td>\n",
       "                        <td id=\"T_aad710d7_cccd_11ec_8712_b4b5b6ea7a5arow5_col4\" class=\"data row5 col4\" >0.1370</td>\n",
       "                        <td id=\"T_aad710d7_cccd_11ec_8712_b4b5b6ea7a5arow5_col5\" class=\"data row5 col5\" >0.0991</td>\n",
       "            </tr>\n",
       "            <tr>\n",
       "                        <th id=\"T_aad710d7_cccd_11ec_8712_b4b5b6ea7a5alevel0_row6\" class=\"row_heading level0 row6\" >6</th>\n",
       "                        <td id=\"T_aad710d7_cccd_11ec_8712_b4b5b6ea7a5arow6_col0\" class=\"data row6 col0\" >187757.8427</td>\n",
       "                        <td id=\"T_aad710d7_cccd_11ec_8712_b4b5b6ea7a5arow6_col1\" class=\"data row6 col1\" >132013277765.3793</td>\n",
       "                        <td id=\"T_aad710d7_cccd_11ec_8712_b4b5b6ea7a5arow6_col2\" class=\"data row6 col2\" >363336.3150</td>\n",
       "                        <td id=\"T_aad710d7_cccd_11ec_8712_b4b5b6ea7a5arow6_col3\" class=\"data row6 col3\" >0.9152</td>\n",
       "                        <td id=\"T_aad710d7_cccd_11ec_8712_b4b5b6ea7a5arow6_col4\" class=\"data row6 col4\" >0.1369</td>\n",
       "                        <td id=\"T_aad710d7_cccd_11ec_8712_b4b5b6ea7a5arow6_col5\" class=\"data row6 col5\" >0.0995</td>\n",
       "            </tr>\n",
       "            <tr>\n",
       "                        <th id=\"T_aad710d7_cccd_11ec_8712_b4b5b6ea7a5alevel0_row7\" class=\"row_heading level0 row7\" >7</th>\n",
       "                        <td id=\"T_aad710d7_cccd_11ec_8712_b4b5b6ea7a5arow7_col0\" class=\"data row7 col0\" >212589.9782</td>\n",
       "                        <td id=\"T_aad710d7_cccd_11ec_8712_b4b5b6ea7a5arow7_col1\" class=\"data row7 col1\" >264331372264.4174</td>\n",
       "                        <td id=\"T_aad710d7_cccd_11ec_8712_b4b5b6ea7a5arow7_col2\" class=\"data row7 col2\" >514131.6682</td>\n",
       "                        <td id=\"T_aad710d7_cccd_11ec_8712_b4b5b6ea7a5arow7_col3\" class=\"data row7 col3\" >0.8828</td>\n",
       "                        <td id=\"T_aad710d7_cccd_11ec_8712_b4b5b6ea7a5arow7_col4\" class=\"data row7 col4\" >0.1458</td>\n",
       "                        <td id=\"T_aad710d7_cccd_11ec_8712_b4b5b6ea7a5arow7_col5\" class=\"data row7 col5\" >0.1043</td>\n",
       "            </tr>\n",
       "            <tr>\n",
       "                        <th id=\"T_aad710d7_cccd_11ec_8712_b4b5b6ea7a5alevel0_row8\" class=\"row_heading level0 row8\" >8</th>\n",
       "                        <td id=\"T_aad710d7_cccd_11ec_8712_b4b5b6ea7a5arow8_col0\" class=\"data row8 col0\" >206710.6211</td>\n",
       "                        <td id=\"T_aad710d7_cccd_11ec_8712_b4b5b6ea7a5arow8_col1\" class=\"data row8 col1\" >223190614821.5288</td>\n",
       "                        <td id=\"T_aad710d7_cccd_11ec_8712_b4b5b6ea7a5arow8_col2\" class=\"data row8 col2\" >472430.5397</td>\n",
       "                        <td id=\"T_aad710d7_cccd_11ec_8712_b4b5b6ea7a5arow8_col3\" class=\"data row8 col3\" >0.8621</td>\n",
       "                        <td id=\"T_aad710d7_cccd_11ec_8712_b4b5b6ea7a5arow8_col4\" class=\"data row8 col4\" >0.1429</td>\n",
       "                        <td id=\"T_aad710d7_cccd_11ec_8712_b4b5b6ea7a5arow8_col5\" class=\"data row8 col5\" >0.1045</td>\n",
       "            </tr>\n",
       "            <tr>\n",
       "                        <th id=\"T_aad710d7_cccd_11ec_8712_b4b5b6ea7a5alevel0_row9\" class=\"row_heading level0 row9\" >9</th>\n",
       "                        <td id=\"T_aad710d7_cccd_11ec_8712_b4b5b6ea7a5arow9_col0\" class=\"data row9 col0\" >215382.1614</td>\n",
       "                        <td id=\"T_aad710d7_cccd_11ec_8712_b4b5b6ea7a5arow9_col1\" class=\"data row9 col1\" >198077413417.2210</td>\n",
       "                        <td id=\"T_aad710d7_cccd_11ec_8712_b4b5b6ea7a5arow9_col2\" class=\"data row9 col2\" >445058.8876</td>\n",
       "                        <td id=\"T_aad710d7_cccd_11ec_8712_b4b5b6ea7a5arow9_col3\" class=\"data row9 col3\" >0.9348</td>\n",
       "                        <td id=\"T_aad710d7_cccd_11ec_8712_b4b5b6ea7a5arow9_col4\" class=\"data row9 col4\" >0.1493</td>\n",
       "                        <td id=\"T_aad710d7_cccd_11ec_8712_b4b5b6ea7a5arow9_col5\" class=\"data row9 col5\" >0.1087</td>\n",
       "            </tr>\n",
       "            <tr>\n",
       "                        <th id=\"T_aad710d7_cccd_11ec_8712_b4b5b6ea7a5alevel0_row10\" class=\"row_heading level0 row10\" >Mean</th>\n",
       "                        <td id=\"T_aad710d7_cccd_11ec_8712_b4b5b6ea7a5arow10_col0\" class=\"data row10 col0\" >202764.5752</td>\n",
       "                        <td id=\"T_aad710d7_cccd_11ec_8712_b4b5b6ea7a5arow10_col1\" class=\"data row10 col1\" >207615248189.9753</td>\n",
       "                        <td id=\"T_aad710d7_cccd_11ec_8712_b4b5b6ea7a5arow10_col2\" class=\"data row10 col2\" >452768.5350</td>\n",
       "                        <td id=\"T_aad710d7_cccd_11ec_8712_b4b5b6ea7a5arow10_col3\" class=\"data row10 col3\" >0.8912</td>\n",
       "                        <td id=\"T_aad710d7_cccd_11ec_8712_b4b5b6ea7a5arow10_col4\" class=\"data row10 col4\" >0.1420</td>\n",
       "                        <td id=\"T_aad710d7_cccd_11ec_8712_b4b5b6ea7a5arow10_col5\" class=\"data row10 col5\" >0.1030</td>\n",
       "            </tr>\n",
       "            <tr>\n",
       "                        <th id=\"T_aad710d7_cccd_11ec_8712_b4b5b6ea7a5alevel0_row11\" class=\"row_heading level0 row11\" >SD</th>\n",
       "                        <td id=\"T_aad710d7_cccd_11ec_8712_b4b5b6ea7a5arow11_col0\" class=\"data row11 col0\" >8724.5988</td>\n",
       "                        <td id=\"T_aad710d7_cccd_11ec_8712_b4b5b6ea7a5arow11_col1\" class=\"data row11 col1\" >45568709516.7401</td>\n",
       "                        <td id=\"T_aad710d7_cccd_11ec_8712_b4b5b6ea7a5arow11_col2\" class=\"data row11 col2\" >51145.8882</td>\n",
       "                        <td id=\"T_aad710d7_cccd_11ec_8712_b4b5b6ea7a5arow11_col3\" class=\"data row11 col3\" >0.0270</td>\n",
       "                        <td id=\"T_aad710d7_cccd_11ec_8712_b4b5b6ea7a5arow11_col4\" class=\"data row11 col4\" >0.0039</td>\n",
       "                        <td id=\"T_aad710d7_cccd_11ec_8712_b4b5b6ea7a5arow11_col5\" class=\"data row11 col5\" >0.0032</td>\n",
       "            </tr>\n",
       "    </tbody></table>"
      ],
      "text/plain": [
       "<pandas.io.formats.style.Styler at 0x28f50e7ee80>"
      ]
     },
     "metadata": {},
     "output_type": "display_data"
    }
   ],
   "source": [
    "# create a model\n",
    "gbr = create_model('gbr')\n"
   ]
  },
  {
   "cell_type": "code",
   "execution_count": 200,
   "metadata": {},
   "outputs": [
    {
     "data": {
      "text/html": [
       "<style  type=\"text/css\" >\n",
       "</style><table id=\"T_ac9f19bb_cccd_11ec_af2f_b4b5b6ea7a5a\" ><thead>    <tr>        <th class=\"blank level0\" ></th>        <th class=\"col_heading level0 col0\" >Model</th>        <th class=\"col_heading level0 col1\" >MAE</th>        <th class=\"col_heading level0 col2\" >MSE</th>        <th class=\"col_heading level0 col3\" >RMSE</th>        <th class=\"col_heading level0 col4\" >R2</th>        <th class=\"col_heading level0 col5\" >RMSLE</th>        <th class=\"col_heading level0 col6\" >MAPE</th>    </tr></thead><tbody>\n",
       "                <tr>\n",
       "                        <th id=\"T_ac9f19bb_cccd_11ec_af2f_b4b5b6ea7a5alevel0_row0\" class=\"row_heading level0 row0\" >0</th>\n",
       "                        <td id=\"T_ac9f19bb_cccd_11ec_af2f_b4b5b6ea7a5arow0_col0\" class=\"data row0 col0\" >Gradient Boosting Regressor</td>\n",
       "                        <td id=\"T_ac9f19bb_cccd_11ec_af2f_b4b5b6ea7a5arow0_col1\" class=\"data row0 col1\" >200795.9025</td>\n",
       "                        <td id=\"T_ac9f19bb_cccd_11ec_af2f_b4b5b6ea7a5arow0_col2\" class=\"data row0 col2\" >174881192821.8154</td>\n",
       "                        <td id=\"T_ac9f19bb_cccd_11ec_af2f_b4b5b6ea7a5arow0_col3\" class=\"data row0 col3\" >418187.9874</td>\n",
       "                        <td id=\"T_ac9f19bb_cccd_11ec_af2f_b4b5b6ea7a5arow0_col4\" class=\"data row0 col4\" >0.8993</td>\n",
       "                        <td id=\"T_ac9f19bb_cccd_11ec_af2f_b4b5b6ea7a5arow0_col5\" class=\"data row0 col5\" >0.1378</td>\n",
       "                        <td id=\"T_ac9f19bb_cccd_11ec_af2f_b4b5b6ea7a5arow0_col6\" class=\"data row0 col6\" >0.1008</td>\n",
       "            </tr>\n",
       "    </tbody></table>"
      ],
      "text/plain": [
       "<pandas.io.formats.style.Styler at 0x28f4add8c70>"
      ]
     },
     "metadata": {},
     "output_type": "display_data"
    },
    {
     "data": {
      "text/html": [
       "<div>\n",
       "<style scoped>\n",
       "    .dataframe tbody tr th:only-of-type {\n",
       "        vertical-align: middle;\n",
       "    }\n",
       "\n",
       "    .dataframe tbody tr th {\n",
       "        vertical-align: top;\n",
       "    }\n",
       "\n",
       "    .dataframe thead th {\n",
       "        text-align: right;\n",
       "    }\n",
       "</style>\n",
       "<table border=\"1\" class=\"dataframe\">\n",
       "  <thead>\n",
       "    <tr style=\"text-align: right;\">\n",
       "      <th></th>\n",
       "      <th>area</th>\n",
       "      <th>floorRange</th>\n",
       "      <th>noOfUnits</th>\n",
       "      <th>typeOfSale</th>\n",
       "      <th>propertyType</th>\n",
       "      <th>district</th>\n",
       "      <th>typeOfArea</th>\n",
       "      <th>marketSegment</th>\n",
       "      <th>Year_0</th>\n",
       "      <th>Year_1</th>\n",
       "      <th>Year_2</th>\n",
       "      <th>Year_3</th>\n",
       "      <th>Year_4</th>\n",
       "      <th>Year_5</th>\n",
       "      <th>price</th>\n",
       "      <th>Label</th>\n",
       "    </tr>\n",
       "  </thead>\n",
       "  <tbody>\n",
       "    <tr>\n",
       "      <th>0</th>\n",
       "      <td>105.0</td>\n",
       "      <td>4</td>\n",
       "      <td>1</td>\n",
       "      <td>1</td>\n",
       "      <td>1</td>\n",
       "      <td>3</td>\n",
       "      <td>1</td>\n",
       "      <td>2</td>\n",
       "      <td>1.0</td>\n",
       "      <td>0.0</td>\n",
       "      <td>0.0</td>\n",
       "      <td>0.0</td>\n",
       "      <td>0.0</td>\n",
       "      <td>0.0</td>\n",
       "      <td>1888000</td>\n",
       "      <td>1.878569e+06</td>\n",
       "    </tr>\n",
       "    <tr>\n",
       "      <th>1</th>\n",
       "      <td>104.0</td>\n",
       "      <td>2</td>\n",
       "      <td>1</td>\n",
       "      <td>1</td>\n",
       "      <td>0</td>\n",
       "      <td>5</td>\n",
       "      <td>1</td>\n",
       "      <td>2</td>\n",
       "      <td>0.0</td>\n",
       "      <td>0.0</td>\n",
       "      <td>0.0</td>\n",
       "      <td>0.0</td>\n",
       "      <td>1.0</td>\n",
       "      <td>0.0</td>\n",
       "      <td>2171000</td>\n",
       "      <td>2.001312e+06</td>\n",
       "    </tr>\n",
       "    <tr>\n",
       "      <th>2</th>\n",
       "      <td>42.0</td>\n",
       "      <td>1</td>\n",
       "      <td>1</td>\n",
       "      <td>1</td>\n",
       "      <td>0</td>\n",
       "      <td>5</td>\n",
       "      <td>1</td>\n",
       "      <td>1</td>\n",
       "      <td>0.0</td>\n",
       "      <td>0.0</td>\n",
       "      <td>1.0</td>\n",
       "      <td>0.0</td>\n",
       "      <td>0.0</td>\n",
       "      <td>0.0</td>\n",
       "      <td>699000</td>\n",
       "      <td>7.689429e+05</td>\n",
       "    </tr>\n",
       "    <tr>\n",
       "      <th>3</th>\n",
       "      <td>64.0</td>\n",
       "      <td>7</td>\n",
       "      <td>1</td>\n",
       "      <td>1</td>\n",
       "      <td>0</td>\n",
       "      <td>3</td>\n",
       "      <td>1</td>\n",
       "      <td>2</td>\n",
       "      <td>0.0</td>\n",
       "      <td>0.0</td>\n",
       "      <td>1.0</td>\n",
       "      <td>0.0</td>\n",
       "      <td>0.0</td>\n",
       "      <td>0.0</td>\n",
       "      <td>1320000</td>\n",
       "      <td>1.413352e+06</td>\n",
       "    </tr>\n",
       "    <tr>\n",
       "      <th>4</th>\n",
       "      <td>85.0</td>\n",
       "      <td>1</td>\n",
       "      <td>1</td>\n",
       "      <td>1</td>\n",
       "      <td>0</td>\n",
       "      <td>3</td>\n",
       "      <td>1</td>\n",
       "      <td>2</td>\n",
       "      <td>0.0</td>\n",
       "      <td>1.0</td>\n",
       "      <td>0.0</td>\n",
       "      <td>0.0</td>\n",
       "      <td>0.0</td>\n",
       "      <td>0.0</td>\n",
       "      <td>1571100</td>\n",
       "      <td>1.662165e+06</td>\n",
       "    </tr>\n",
       "    <tr>\n",
       "      <th>...</th>\n",
       "      <td>...</td>\n",
       "      <td>...</td>\n",
       "      <td>...</td>\n",
       "      <td>...</td>\n",
       "      <td>...</td>\n",
       "      <td>...</td>\n",
       "      <td>...</td>\n",
       "      <td>...</td>\n",
       "      <td>...</td>\n",
       "      <td>...</td>\n",
       "      <td>...</td>\n",
       "      <td>...</td>\n",
       "      <td>...</td>\n",
       "      <td>...</td>\n",
       "      <td>...</td>\n",
       "      <td>...</td>\n",
       "    </tr>\n",
       "    <tr>\n",
       "      <th>7415</th>\n",
       "      <td>48.0</td>\n",
       "      <td>3</td>\n",
       "      <td>1</td>\n",
       "      <td>1</td>\n",
       "      <td>0</td>\n",
       "      <td>5</td>\n",
       "      <td>1</td>\n",
       "      <td>2</td>\n",
       "      <td>0.0</td>\n",
       "      <td>0.0</td>\n",
       "      <td>0.0</td>\n",
       "      <td>0.0</td>\n",
       "      <td>1.0</td>\n",
       "      <td>0.0</td>\n",
       "      <td>980000</td>\n",
       "      <td>9.740498e+05</td>\n",
       "    </tr>\n",
       "    <tr>\n",
       "      <th>7416</th>\n",
       "      <td>66.0</td>\n",
       "      <td>7</td>\n",
       "      <td>1</td>\n",
       "      <td>1</td>\n",
       "      <td>1</td>\n",
       "      <td>5</td>\n",
       "      <td>1</td>\n",
       "      <td>1</td>\n",
       "      <td>1.0</td>\n",
       "      <td>0.0</td>\n",
       "      <td>0.0</td>\n",
       "      <td>0.0</td>\n",
       "      <td>0.0</td>\n",
       "      <td>0.0</td>\n",
       "      <td>944000</td>\n",
       "      <td>9.556090e+05</td>\n",
       "    </tr>\n",
       "    <tr>\n",
       "      <th>7417</th>\n",
       "      <td>109.0</td>\n",
       "      <td>7</td>\n",
       "      <td>1</td>\n",
       "      <td>3</td>\n",
       "      <td>0</td>\n",
       "      <td>1</td>\n",
       "      <td>1</td>\n",
       "      <td>0</td>\n",
       "      <td>0.0</td>\n",
       "      <td>0.0</td>\n",
       "      <td>0.0</td>\n",
       "      <td>0.0</td>\n",
       "      <td>0.0</td>\n",
       "      <td>1.0</td>\n",
       "      <td>2854088</td>\n",
       "      <td>2.501963e+06</td>\n",
       "    </tr>\n",
       "    <tr>\n",
       "      <th>7418</th>\n",
       "      <td>122.0</td>\n",
       "      <td>4</td>\n",
       "      <td>1</td>\n",
       "      <td>3</td>\n",
       "      <td>1</td>\n",
       "      <td>3</td>\n",
       "      <td>1</td>\n",
       "      <td>2</td>\n",
       "      <td>0.0</td>\n",
       "      <td>0.0</td>\n",
       "      <td>1.0</td>\n",
       "      <td>0.0</td>\n",
       "      <td>0.0</td>\n",
       "      <td>0.0</td>\n",
       "      <td>1990000</td>\n",
       "      <td>2.105800e+06</td>\n",
       "    </tr>\n",
       "    <tr>\n",
       "      <th>7419</th>\n",
       "      <td>53.0</td>\n",
       "      <td>2</td>\n",
       "      <td>1</td>\n",
       "      <td>1</td>\n",
       "      <td>0</td>\n",
       "      <td>3</td>\n",
       "      <td>1</td>\n",
       "      <td>2</td>\n",
       "      <td>0.0</td>\n",
       "      <td>0.0</td>\n",
       "      <td>1.0</td>\n",
       "      <td>0.0</td>\n",
       "      <td>0.0</td>\n",
       "      <td>0.0</td>\n",
       "      <td>1286000</td>\n",
       "      <td>1.223567e+06</td>\n",
       "    </tr>\n",
       "  </tbody>\n",
       "</table>\n",
       "<p>7420 rows × 16 columns</p>\n",
       "</div>"
      ],
      "text/plain": [
       "       area  floorRange  noOfUnits  typeOfSale  propertyType  district  \\\n",
       "0     105.0           4          1           1             1         3   \n",
       "1     104.0           2          1           1             0         5   \n",
       "2      42.0           1          1           1             0         5   \n",
       "3      64.0           7          1           1             0         3   \n",
       "4      85.0           1          1           1             0         3   \n",
       "...     ...         ...        ...         ...           ...       ...   \n",
       "7415   48.0           3          1           1             0         5   \n",
       "7416   66.0           7          1           1             1         5   \n",
       "7417  109.0           7          1           3             0         1   \n",
       "7418  122.0           4          1           3             1         3   \n",
       "7419   53.0           2          1           1             0         3   \n",
       "\n",
       "      typeOfArea  marketSegment  Year_0  Year_1  Year_2  Year_3  Year_4  \\\n",
       "0              1              2     1.0     0.0     0.0     0.0     0.0   \n",
       "1              1              2     0.0     0.0     0.0     0.0     1.0   \n",
       "2              1              1     0.0     0.0     1.0     0.0     0.0   \n",
       "3              1              2     0.0     0.0     1.0     0.0     0.0   \n",
       "4              1              2     0.0     1.0     0.0     0.0     0.0   \n",
       "...          ...            ...     ...     ...     ...     ...     ...   \n",
       "7415           1              2     0.0     0.0     0.0     0.0     1.0   \n",
       "7416           1              1     1.0     0.0     0.0     0.0     0.0   \n",
       "7417           1              0     0.0     0.0     0.0     0.0     0.0   \n",
       "7418           1              2     0.0     0.0     1.0     0.0     0.0   \n",
       "7419           1              2     0.0     0.0     1.0     0.0     0.0   \n",
       "\n",
       "      Year_5    price         Label  \n",
       "0        0.0  1888000  1.878569e+06  \n",
       "1        0.0  2171000  2.001312e+06  \n",
       "2        0.0   699000  7.689429e+05  \n",
       "3        0.0  1320000  1.413352e+06  \n",
       "4        0.0  1571100  1.662165e+06  \n",
       "...      ...      ...           ...  \n",
       "7415     0.0   980000  9.740498e+05  \n",
       "7416     0.0   944000  9.556090e+05  \n",
       "7417     1.0  2854088  2.501963e+06  \n",
       "7418     0.0  1990000  2.105800e+06  \n",
       "7419     0.0  1286000  1.223567e+06  \n",
       "\n",
       "[7420 rows x 16 columns]"
      ]
     },
     "execution_count": 200,
     "metadata": {},
     "output_type": "execute_result"
    }
   ],
   "source": [
    "# predict on hold-out\n",
    "predict_model(gbr)"
   ]
  },
  {
   "cell_type": "markdown",
   "metadata": {},
   "source": [
    "### Linear Regression"
   ]
  },
  {
   "cell_type": "code",
   "execution_count": 201,
   "metadata": {},
   "outputs": [
    {
     "data": {
      "text/html": [
       "<style  type=\"text/css\" >\n",
       "#T_aeaa0bc3_cccd_11ec_a30f_b4b5b6ea7a5arow10_col0,#T_aeaa0bc3_cccd_11ec_a30f_b4b5b6ea7a5arow10_col1,#T_aeaa0bc3_cccd_11ec_a30f_b4b5b6ea7a5arow10_col2,#T_aeaa0bc3_cccd_11ec_a30f_b4b5b6ea7a5arow10_col3,#T_aeaa0bc3_cccd_11ec_a30f_b4b5b6ea7a5arow10_col4,#T_aeaa0bc3_cccd_11ec_a30f_b4b5b6ea7a5arow10_col5{\n",
       "            background:  yellow;\n",
       "        }</style><table id=\"T_aeaa0bc3_cccd_11ec_a30f_b4b5b6ea7a5a\" ><thead>    <tr>        <th class=\"blank level0\" ></th>        <th class=\"col_heading level0 col0\" >MAE</th>        <th class=\"col_heading level0 col1\" >MSE</th>        <th class=\"col_heading level0 col2\" >RMSE</th>        <th class=\"col_heading level0 col3\" >R2</th>        <th class=\"col_heading level0 col4\" >RMSLE</th>        <th class=\"col_heading level0 col5\" >MAPE</th>    </tr></thead><tbody>\n",
       "                <tr>\n",
       "                        <th id=\"T_aeaa0bc3_cccd_11ec_a30f_b4b5b6ea7a5alevel0_row0\" class=\"row_heading level0 row0\" >0</th>\n",
       "                        <td id=\"T_aeaa0bc3_cccd_11ec_a30f_b4b5b6ea7a5arow0_col0\" class=\"data row0 col0\" >335851.5600</td>\n",
       "                        <td id=\"T_aeaa0bc3_cccd_11ec_a30f_b4b5b6ea7a5arow0_col1\" class=\"data row0 col1\" >343779360249.1288</td>\n",
       "                        <td id=\"T_aeaa0bc3_cccd_11ec_a30f_b4b5b6ea7a5arow0_col2\" class=\"data row0 col2\" >586327.0079</td>\n",
       "                        <td id=\"T_aeaa0bc3_cccd_11ec_a30f_b4b5b6ea7a5arow0_col3\" class=\"data row0 col3\" >0.7923</td>\n",
       "                        <td id=\"T_aeaa0bc3_cccd_11ec_a30f_b4b5b6ea7a5arow0_col4\" class=\"data row0 col4\" >0.2518</td>\n",
       "                        <td id=\"T_aeaa0bc3_cccd_11ec_a30f_b4b5b6ea7a5arow0_col5\" class=\"data row0 col5\" >0.1873</td>\n",
       "            </tr>\n",
       "            <tr>\n",
       "                        <th id=\"T_aeaa0bc3_cccd_11ec_a30f_b4b5b6ea7a5alevel0_row1\" class=\"row_heading level0 row1\" >1</th>\n",
       "                        <td id=\"T_aeaa0bc3_cccd_11ec_a30f_b4b5b6ea7a5arow1_col0\" class=\"data row1 col0\" >355727.7229</td>\n",
       "                        <td id=\"T_aeaa0bc3_cccd_11ec_a30f_b4b5b6ea7a5arow1_col1\" class=\"data row1 col1\" >545988845339.9857</td>\n",
       "                        <td id=\"T_aeaa0bc3_cccd_11ec_a30f_b4b5b6ea7a5arow1_col2\" class=\"data row1 col2\" >738910.5801</td>\n",
       "                        <td id=\"T_aeaa0bc3_cccd_11ec_a30f_b4b5b6ea7a5arow1_col3\" class=\"data row1 col3\" >0.8467</td>\n",
       "                        <td id=\"T_aeaa0bc3_cccd_11ec_a30f_b4b5b6ea7a5arow1_col4\" class=\"data row1 col4\" >0.2349</td>\n",
       "                        <td id=\"T_aeaa0bc3_cccd_11ec_a30f_b4b5b6ea7a5arow1_col5\" class=\"data row1 col5\" >0.1894</td>\n",
       "            </tr>\n",
       "            <tr>\n",
       "                        <th id=\"T_aeaa0bc3_cccd_11ec_a30f_b4b5b6ea7a5alevel0_row2\" class=\"row_heading level0 row2\" >2</th>\n",
       "                        <td id=\"T_aeaa0bc3_cccd_11ec_a30f_b4b5b6ea7a5arow2_col0\" class=\"data row2 col0\" >340050.2762</td>\n",
       "                        <td id=\"T_aeaa0bc3_cccd_11ec_a30f_b4b5b6ea7a5arow2_col1\" class=\"data row2 col1\" >416903376002.0582</td>\n",
       "                        <td id=\"T_aeaa0bc3_cccd_11ec_a30f_b4b5b6ea7a5arow2_col2\" class=\"data row2 col2\" >645680.5526</td>\n",
       "                        <td id=\"T_aeaa0bc3_cccd_11ec_a30f_b4b5b6ea7a5arow2_col3\" class=\"data row2 col3\" >0.7086</td>\n",
       "                        <td id=\"T_aeaa0bc3_cccd_11ec_a30f_b4b5b6ea7a5arow2_col4\" class=\"data row2 col4\" >0.2383</td>\n",
       "                        <td id=\"T_aeaa0bc3_cccd_11ec_a30f_b4b5b6ea7a5arow2_col5\" class=\"data row2 col5\" >0.1881</td>\n",
       "            </tr>\n",
       "            <tr>\n",
       "                        <th id=\"T_aeaa0bc3_cccd_11ec_a30f_b4b5b6ea7a5alevel0_row3\" class=\"row_heading level0 row3\" >3</th>\n",
       "                        <td id=\"T_aeaa0bc3_cccd_11ec_a30f_b4b5b6ea7a5arow3_col0\" class=\"data row3 col0\" >353196.6922</td>\n",
       "                        <td id=\"T_aeaa0bc3_cccd_11ec_a30f_b4b5b6ea7a5arow3_col1\" class=\"data row3 col1\" >500173735878.5414</td>\n",
       "                        <td id=\"T_aeaa0bc3_cccd_11ec_a30f_b4b5b6ea7a5arow3_col2\" class=\"data row3 col2\" >707229.6203</td>\n",
       "                        <td id=\"T_aeaa0bc3_cccd_11ec_a30f_b4b5b6ea7a5arow3_col3\" class=\"data row3 col3\" >0.7369</td>\n",
       "                        <td id=\"T_aeaa0bc3_cccd_11ec_a30f_b4b5b6ea7a5arow3_col4\" class=\"data row3 col4\" >0.2479</td>\n",
       "                        <td id=\"T_aeaa0bc3_cccd_11ec_a30f_b4b5b6ea7a5arow3_col5\" class=\"data row3 col5\" >0.1854</td>\n",
       "            </tr>\n",
       "            <tr>\n",
       "                        <th id=\"T_aeaa0bc3_cccd_11ec_a30f_b4b5b6ea7a5alevel0_row4\" class=\"row_heading level0 row4\" >4</th>\n",
       "                        <td id=\"T_aeaa0bc3_cccd_11ec_a30f_b4b5b6ea7a5arow4_col0\" class=\"data row4 col0\" >340168.0100</td>\n",
       "                        <td id=\"T_aeaa0bc3_cccd_11ec_a30f_b4b5b6ea7a5arow4_col1\" class=\"data row4 col1\" >337166562106.2708</td>\n",
       "                        <td id=\"T_aeaa0bc3_cccd_11ec_a30f_b4b5b6ea7a5arow4_col2\" class=\"data row4 col2\" >580660.4534</td>\n",
       "                        <td id=\"T_aeaa0bc3_cccd_11ec_a30f_b4b5b6ea7a5arow4_col3\" class=\"data row4 col3\" >0.7523</td>\n",
       "                        <td id=\"T_aeaa0bc3_cccd_11ec_a30f_b4b5b6ea7a5arow4_col4\" class=\"data row4 col4\" >0.2377</td>\n",
       "                        <td id=\"T_aeaa0bc3_cccd_11ec_a30f_b4b5b6ea7a5arow4_col5\" class=\"data row4 col5\" >0.1869</td>\n",
       "            </tr>\n",
       "            <tr>\n",
       "                        <th id=\"T_aeaa0bc3_cccd_11ec_a30f_b4b5b6ea7a5alevel0_row5\" class=\"row_heading level0 row5\" >5</th>\n",
       "                        <td id=\"T_aeaa0bc3_cccd_11ec_a30f_b4b5b6ea7a5arow5_col0\" class=\"data row5 col0\" >341930.6047</td>\n",
       "                        <td id=\"T_aeaa0bc3_cccd_11ec_a30f_b4b5b6ea7a5arow5_col1\" class=\"data row5 col1\" >470021018117.2383</td>\n",
       "                        <td id=\"T_aeaa0bc3_cccd_11ec_a30f_b4b5b6ea7a5arow5_col2\" class=\"data row5 col2\" >685580.7889</td>\n",
       "                        <td id=\"T_aeaa0bc3_cccd_11ec_a30f_b4b5b6ea7a5arow5_col3\" class=\"data row5 col3\" >0.7495</td>\n",
       "                        <td id=\"T_aeaa0bc3_cccd_11ec_a30f_b4b5b6ea7a5arow5_col4\" class=\"data row5 col4\" >0.2309</td>\n",
       "                        <td id=\"T_aeaa0bc3_cccd_11ec_a30f_b4b5b6ea7a5arow5_col5\" class=\"data row5 col5\" >0.1819</td>\n",
       "            </tr>\n",
       "            <tr>\n",
       "                        <th id=\"T_aeaa0bc3_cccd_11ec_a30f_b4b5b6ea7a5alevel0_row6\" class=\"row_heading level0 row6\" >6</th>\n",
       "                        <td id=\"T_aeaa0bc3_cccd_11ec_a30f_b4b5b6ea7a5arow6_col0\" class=\"data row6 col0\" >338239.5403</td>\n",
       "                        <td id=\"T_aeaa0bc3_cccd_11ec_a30f_b4b5b6ea7a5arow6_col1\" class=\"data row6 col1\" >417938003139.8844</td>\n",
       "                        <td id=\"T_aeaa0bc3_cccd_11ec_a30f_b4b5b6ea7a5arow6_col2\" class=\"data row6 col2\" >646481.2473</td>\n",
       "                        <td id=\"T_aeaa0bc3_cccd_11ec_a30f_b4b5b6ea7a5arow6_col3\" class=\"data row6 col3\" >0.7314</td>\n",
       "                        <td id=\"T_aeaa0bc3_cccd_11ec_a30f_b4b5b6ea7a5arow6_col4\" class=\"data row6 col4\" >0.2347</td>\n",
       "                        <td id=\"T_aeaa0bc3_cccd_11ec_a30f_b4b5b6ea7a5arow6_col5\" class=\"data row6 col5\" >0.1828</td>\n",
       "            </tr>\n",
       "            <tr>\n",
       "                        <th id=\"T_aeaa0bc3_cccd_11ec_a30f_b4b5b6ea7a5alevel0_row7\" class=\"row_heading level0 row7\" >7</th>\n",
       "                        <td id=\"T_aeaa0bc3_cccd_11ec_a30f_b4b5b6ea7a5arow7_col0\" class=\"data row7 col0\" >366330.9622</td>\n",
       "                        <td id=\"T_aeaa0bc3_cccd_11ec_a30f_b4b5b6ea7a5arow7_col1\" class=\"data row7 col1\" >672852093147.6389</td>\n",
       "                        <td id=\"T_aeaa0bc3_cccd_11ec_a30f_b4b5b6ea7a5arow7_col2\" class=\"data row7 col2\" >820275.6202</td>\n",
       "                        <td id=\"T_aeaa0bc3_cccd_11ec_a30f_b4b5b6ea7a5arow7_col3\" class=\"data row7 col3\" >0.7018</td>\n",
       "                        <td id=\"T_aeaa0bc3_cccd_11ec_a30f_b4b5b6ea7a5arow7_col4\" class=\"data row7 col4\" >0.2552</td>\n",
       "                        <td id=\"T_aeaa0bc3_cccd_11ec_a30f_b4b5b6ea7a5arow7_col5\" class=\"data row7 col5\" >0.1844</td>\n",
       "            </tr>\n",
       "            <tr>\n",
       "                        <th id=\"T_aeaa0bc3_cccd_11ec_a30f_b4b5b6ea7a5alevel0_row8\" class=\"row_heading level0 row8\" >8</th>\n",
       "                        <td id=\"T_aeaa0bc3_cccd_11ec_a30f_b4b5b6ea7a5arow8_col0\" class=\"data row8 col0\" >365403.6562</td>\n",
       "                        <td id=\"T_aeaa0bc3_cccd_11ec_a30f_b4b5b6ea7a5arow8_col1\" class=\"data row8 col1\" >528599371719.0937</td>\n",
       "                        <td id=\"T_aeaa0bc3_cccd_11ec_a30f_b4b5b6ea7a5arow8_col2\" class=\"data row8 col2\" >727048.3971</td>\n",
       "                        <td id=\"T_aeaa0bc3_cccd_11ec_a30f_b4b5b6ea7a5arow8_col3\" class=\"data row8 col3\" >0.6735</td>\n",
       "                        <td id=\"T_aeaa0bc3_cccd_11ec_a30f_b4b5b6ea7a5arow8_col4\" class=\"data row8 col4\" >0.2602</td>\n",
       "                        <td id=\"T_aeaa0bc3_cccd_11ec_a30f_b4b5b6ea7a5arow8_col5\" class=\"data row8 col5\" >0.1965</td>\n",
       "            </tr>\n",
       "            <tr>\n",
       "                        <th id=\"T_aeaa0bc3_cccd_11ec_a30f_b4b5b6ea7a5alevel0_row9\" class=\"row_heading level0 row9\" >9</th>\n",
       "                        <td id=\"T_aeaa0bc3_cccd_11ec_a30f_b4b5b6ea7a5arow9_col0\" class=\"data row9 col0\" >351069.9885</td>\n",
       "                        <td id=\"T_aeaa0bc3_cccd_11ec_a30f_b4b5b6ea7a5arow9_col1\" class=\"data row9 col1\" >377270918677.1970</td>\n",
       "                        <td id=\"T_aeaa0bc3_cccd_11ec_a30f_b4b5b6ea7a5arow9_col2\" class=\"data row9 col2\" >614223.8343</td>\n",
       "                        <td id=\"T_aeaa0bc3_cccd_11ec_a30f_b4b5b6ea7a5arow9_col3\" class=\"data row9 col3\" >0.8759</td>\n",
       "                        <td id=\"T_aeaa0bc3_cccd_11ec_a30f_b4b5b6ea7a5arow9_col4\" class=\"data row9 col4\" >0.2484</td>\n",
       "                        <td id=\"T_aeaa0bc3_cccd_11ec_a30f_b4b5b6ea7a5arow9_col5\" class=\"data row9 col5\" >0.1877</td>\n",
       "            </tr>\n",
       "            <tr>\n",
       "                        <th id=\"T_aeaa0bc3_cccd_11ec_a30f_b4b5b6ea7a5alevel0_row10\" class=\"row_heading level0 row10\" >Mean</th>\n",
       "                        <td id=\"T_aeaa0bc3_cccd_11ec_a30f_b4b5b6ea7a5arow10_col0\" class=\"data row10 col0\" >348796.9013</td>\n",
       "                        <td id=\"T_aeaa0bc3_cccd_11ec_a30f_b4b5b6ea7a5arow10_col1\" class=\"data row10 col1\" >461069328437.7037</td>\n",
       "                        <td id=\"T_aeaa0bc3_cccd_11ec_a30f_b4b5b6ea7a5arow10_col2\" class=\"data row10 col2\" >675241.8102</td>\n",
       "                        <td id=\"T_aeaa0bc3_cccd_11ec_a30f_b4b5b6ea7a5arow10_col3\" class=\"data row10 col3\" >0.7569</td>\n",
       "                        <td id=\"T_aeaa0bc3_cccd_11ec_a30f_b4b5b6ea7a5arow10_col4\" class=\"data row10 col4\" >0.2440</td>\n",
       "                        <td id=\"T_aeaa0bc3_cccd_11ec_a30f_b4b5b6ea7a5arow10_col5\" class=\"data row10 col5\" >0.1870</td>\n",
       "            </tr>\n",
       "            <tr>\n",
       "                        <th id=\"T_aeaa0bc3_cccd_11ec_a30f_b4b5b6ea7a5alevel0_row11\" class=\"row_heading level0 row11\" >SD</th>\n",
       "                        <td id=\"T_aeaa0bc3_cccd_11ec_a30f_b4b5b6ea7a5arow11_col0\" class=\"data row11 col0\" >10643.9464</td>\n",
       "                        <td id=\"T_aeaa0bc3_cccd_11ec_a30f_b4b5b6ea7a5arow11_col1\" class=\"data row11 col1\" >99083200468.7208</td>\n",
       "                        <td id=\"T_aeaa0bc3_cccd_11ec_a30f_b4b5b6ea7a5arow11_col2\" class=\"data row11 col2\" >71538.9835</td>\n",
       "                        <td id=\"T_aeaa0bc3_cccd_11ec_a30f_b4b5b6ea7a5arow11_col3\" class=\"data row11 col3\" >0.0608</td>\n",
       "                        <td id=\"T_aeaa0bc3_cccd_11ec_a30f_b4b5b6ea7a5arow11_col4\" class=\"data row11 col4\" >0.0095</td>\n",
       "                        <td id=\"T_aeaa0bc3_cccd_11ec_a30f_b4b5b6ea7a5arow11_col5\" class=\"data row11 col5\" >0.0039</td>\n",
       "            </tr>\n",
       "    </tbody></table>"
      ],
      "text/plain": [
       "<pandas.io.formats.style.Styler at 0x28f5d3f6490>"
      ]
     },
     "metadata": {},
     "output_type": "display_data"
    }
   ],
   "source": [
    "# create a model\n",
    "lr = create_model('lr')\n"
   ]
  },
  {
   "cell_type": "code",
   "execution_count": 202,
   "metadata": {},
   "outputs": [
    {
     "data": {
      "text/html": [
       "<style  type=\"text/css\" >\n",
       "</style><table id=\"T_b06a5159_cccd_11ec_8097_b4b5b6ea7a5a\" ><thead>    <tr>        <th class=\"blank level0\" ></th>        <th class=\"col_heading level0 col0\" >Model</th>        <th class=\"col_heading level0 col1\" >MAE</th>        <th class=\"col_heading level0 col2\" >MSE</th>        <th class=\"col_heading level0 col3\" >RMSE</th>        <th class=\"col_heading level0 col4\" >R2</th>        <th class=\"col_heading level0 col5\" >RMSLE</th>        <th class=\"col_heading level0 col6\" >MAPE</th>    </tr></thead><tbody>\n",
       "                <tr>\n",
       "                        <th id=\"T_b06a5159_cccd_11ec_8097_b4b5b6ea7a5alevel0_row0\" class=\"row_heading level0 row0\" >0</th>\n",
       "                        <td id=\"T_b06a5159_cccd_11ec_8097_b4b5b6ea7a5arow0_col0\" class=\"data row0 col0\" >Linear Regression</td>\n",
       "                        <td id=\"T_b06a5159_cccd_11ec_8097_b4b5b6ea7a5arow0_col1\" class=\"data row0 col1\" >344137.1541</td>\n",
       "                        <td id=\"T_b06a5159_cccd_11ec_8097_b4b5b6ea7a5arow0_col2\" class=\"data row0 col2\" >404307515957.9872</td>\n",
       "                        <td id=\"T_b06a5159_cccd_11ec_8097_b4b5b6ea7a5arow0_col3\" class=\"data row0 col3\" >635851.8035</td>\n",
       "                        <td id=\"T_b06a5159_cccd_11ec_8097_b4b5b6ea7a5arow0_col4\" class=\"data row0 col4\" >0.7673</td>\n",
       "                        <td id=\"T_b06a5159_cccd_11ec_8097_b4b5b6ea7a5arow0_col5\" class=\"data row0 col5\" >0.2396</td>\n",
       "                        <td id=\"T_b06a5159_cccd_11ec_8097_b4b5b6ea7a5arow0_col6\" class=\"data row0 col6\" >0.1848</td>\n",
       "            </tr>\n",
       "    </tbody></table>"
      ],
      "text/plain": [
       "<pandas.io.formats.style.Styler at 0x28f5e495280>"
      ]
     },
     "metadata": {},
     "output_type": "display_data"
    },
    {
     "data": {
      "text/html": [
       "<div>\n",
       "<style scoped>\n",
       "    .dataframe tbody tr th:only-of-type {\n",
       "        vertical-align: middle;\n",
       "    }\n",
       "\n",
       "    .dataframe tbody tr th {\n",
       "        vertical-align: top;\n",
       "    }\n",
       "\n",
       "    .dataframe thead th {\n",
       "        text-align: right;\n",
       "    }\n",
       "</style>\n",
       "<table border=\"1\" class=\"dataframe\">\n",
       "  <thead>\n",
       "    <tr style=\"text-align: right;\">\n",
       "      <th></th>\n",
       "      <th>area</th>\n",
       "      <th>floorRange</th>\n",
       "      <th>noOfUnits</th>\n",
       "      <th>typeOfSale</th>\n",
       "      <th>propertyType</th>\n",
       "      <th>district</th>\n",
       "      <th>typeOfArea</th>\n",
       "      <th>marketSegment</th>\n",
       "      <th>Year_0</th>\n",
       "      <th>Year_1</th>\n",
       "      <th>Year_2</th>\n",
       "      <th>Year_3</th>\n",
       "      <th>Year_4</th>\n",
       "      <th>Year_5</th>\n",
       "      <th>price</th>\n",
       "      <th>Label</th>\n",
       "    </tr>\n",
       "  </thead>\n",
       "  <tbody>\n",
       "    <tr>\n",
       "      <th>0</th>\n",
       "      <td>105.0</td>\n",
       "      <td>4</td>\n",
       "      <td>1</td>\n",
       "      <td>1</td>\n",
       "      <td>1</td>\n",
       "      <td>3</td>\n",
       "      <td>1</td>\n",
       "      <td>2</td>\n",
       "      <td>1.0</td>\n",
       "      <td>0.0</td>\n",
       "      <td>0.0</td>\n",
       "      <td>0.0</td>\n",
       "      <td>0.0</td>\n",
       "      <td>0.0</td>\n",
       "      <td>1888000</td>\n",
       "      <td>1.708071e+06</td>\n",
       "    </tr>\n",
       "    <tr>\n",
       "      <th>1</th>\n",
       "      <td>104.0</td>\n",
       "      <td>2</td>\n",
       "      <td>1</td>\n",
       "      <td>1</td>\n",
       "      <td>0</td>\n",
       "      <td>5</td>\n",
       "      <td>1</td>\n",
       "      <td>2</td>\n",
       "      <td>0.0</td>\n",
       "      <td>0.0</td>\n",
       "      <td>0.0</td>\n",
       "      <td>0.0</td>\n",
       "      <td>1.0</td>\n",
       "      <td>0.0</td>\n",
       "      <td>2171000</td>\n",
       "      <td>1.996152e+06</td>\n",
       "    </tr>\n",
       "    <tr>\n",
       "      <th>2</th>\n",
       "      <td>42.0</td>\n",
       "      <td>1</td>\n",
       "      <td>1</td>\n",
       "      <td>1</td>\n",
       "      <td>0</td>\n",
       "      <td>5</td>\n",
       "      <td>1</td>\n",
       "      <td>1</td>\n",
       "      <td>0.0</td>\n",
       "      <td>0.0</td>\n",
       "      <td>1.0</td>\n",
       "      <td>0.0</td>\n",
       "      <td>0.0</td>\n",
       "      <td>0.0</td>\n",
       "      <td>699000</td>\n",
       "      <td>8.798429e+05</td>\n",
       "    </tr>\n",
       "    <tr>\n",
       "      <th>3</th>\n",
       "      <td>64.0</td>\n",
       "      <td>7</td>\n",
       "      <td>1</td>\n",
       "      <td>1</td>\n",
       "      <td>0</td>\n",
       "      <td>3</td>\n",
       "      <td>1</td>\n",
       "      <td>2</td>\n",
       "      <td>0.0</td>\n",
       "      <td>0.0</td>\n",
       "      <td>1.0</td>\n",
       "      <td>0.0</td>\n",
       "      <td>0.0</td>\n",
       "      <td>0.0</td>\n",
       "      <td>1320000</td>\n",
       "      <td>1.545181e+06</td>\n",
       "    </tr>\n",
       "    <tr>\n",
       "      <th>4</th>\n",
       "      <td>85.0</td>\n",
       "      <td>1</td>\n",
       "      <td>1</td>\n",
       "      <td>1</td>\n",
       "      <td>0</td>\n",
       "      <td>3</td>\n",
       "      <td>1</td>\n",
       "      <td>2</td>\n",
       "      <td>0.0</td>\n",
       "      <td>1.0</td>\n",
       "      <td>0.0</td>\n",
       "      <td>0.0</td>\n",
       "      <td>0.0</td>\n",
       "      <td>0.0</td>\n",
       "      <td>1571100</td>\n",
       "      <td>1.518507e+06</td>\n",
       "    </tr>\n",
       "    <tr>\n",
       "      <th>...</th>\n",
       "      <td>...</td>\n",
       "      <td>...</td>\n",
       "      <td>...</td>\n",
       "      <td>...</td>\n",
       "      <td>...</td>\n",
       "      <td>...</td>\n",
       "      <td>...</td>\n",
       "      <td>...</td>\n",
       "      <td>...</td>\n",
       "      <td>...</td>\n",
       "      <td>...</td>\n",
       "      <td>...</td>\n",
       "      <td>...</td>\n",
       "      <td>...</td>\n",
       "      <td>...</td>\n",
       "      <td>...</td>\n",
       "    </tr>\n",
       "    <tr>\n",
       "      <th>7415</th>\n",
       "      <td>48.0</td>\n",
       "      <td>3</td>\n",
       "      <td>1</td>\n",
       "      <td>1</td>\n",
       "      <td>0</td>\n",
       "      <td>5</td>\n",
       "      <td>1</td>\n",
       "      <td>2</td>\n",
       "      <td>0.0</td>\n",
       "      <td>0.0</td>\n",
       "      <td>0.0</td>\n",
       "      <td>0.0</td>\n",
       "      <td>1.0</td>\n",
       "      <td>0.0</td>\n",
       "      <td>980000</td>\n",
       "      <td>1.092065e+06</td>\n",
       "    </tr>\n",
       "    <tr>\n",
       "      <th>7416</th>\n",
       "      <td>66.0</td>\n",
       "      <td>7</td>\n",
       "      <td>1</td>\n",
       "      <td>1</td>\n",
       "      <td>1</td>\n",
       "      <td>5</td>\n",
       "      <td>1</td>\n",
       "      <td>1</td>\n",
       "      <td>1.0</td>\n",
       "      <td>0.0</td>\n",
       "      <td>0.0</td>\n",
       "      <td>0.0</td>\n",
       "      <td>0.0</td>\n",
       "      <td>0.0</td>\n",
       "      <td>944000</td>\n",
       "      <td>1.185677e+06</td>\n",
       "    </tr>\n",
       "    <tr>\n",
       "      <th>7417</th>\n",
       "      <td>109.0</td>\n",
       "      <td>7</td>\n",
       "      <td>1</td>\n",
       "      <td>3</td>\n",
       "      <td>0</td>\n",
       "      <td>1</td>\n",
       "      <td>1</td>\n",
       "      <td>0</td>\n",
       "      <td>0.0</td>\n",
       "      <td>0.0</td>\n",
       "      <td>0.0</td>\n",
       "      <td>0.0</td>\n",
       "      <td>0.0</td>\n",
       "      <td>1.0</td>\n",
       "      <td>2854088</td>\n",
       "      <td>2.759288e+06</td>\n",
       "    </tr>\n",
       "    <tr>\n",
       "      <th>7418</th>\n",
       "      <td>122.0</td>\n",
       "      <td>4</td>\n",
       "      <td>1</td>\n",
       "      <td>3</td>\n",
       "      <td>1</td>\n",
       "      <td>3</td>\n",
       "      <td>1</td>\n",
       "      <td>2</td>\n",
       "      <td>0.0</td>\n",
       "      <td>0.0</td>\n",
       "      <td>1.0</td>\n",
       "      <td>0.0</td>\n",
       "      <td>0.0</td>\n",
       "      <td>0.0</td>\n",
       "      <td>1990000</td>\n",
       "      <td>1.985346e+06</td>\n",
       "    </tr>\n",
       "    <tr>\n",
       "      <th>7419</th>\n",
       "      <td>53.0</td>\n",
       "      <td>2</td>\n",
       "      <td>1</td>\n",
       "      <td>1</td>\n",
       "      <td>0</td>\n",
       "      <td>3</td>\n",
       "      <td>1</td>\n",
       "      <td>2</td>\n",
       "      <td>0.0</td>\n",
       "      <td>0.0</td>\n",
       "      <td>1.0</td>\n",
       "      <td>0.0</td>\n",
       "      <td>0.0</td>\n",
       "      <td>0.0</td>\n",
       "      <td>1286000</td>\n",
       "      <td>1.118181e+06</td>\n",
       "    </tr>\n",
       "  </tbody>\n",
       "</table>\n",
       "<p>7420 rows × 16 columns</p>\n",
       "</div>"
      ],
      "text/plain": [
       "       area  floorRange  noOfUnits  typeOfSale  propertyType  district  \\\n",
       "0     105.0           4          1           1             1         3   \n",
       "1     104.0           2          1           1             0         5   \n",
       "2      42.0           1          1           1             0         5   \n",
       "3      64.0           7          1           1             0         3   \n",
       "4      85.0           1          1           1             0         3   \n",
       "...     ...         ...        ...         ...           ...       ...   \n",
       "7415   48.0           3          1           1             0         5   \n",
       "7416   66.0           7          1           1             1         5   \n",
       "7417  109.0           7          1           3             0         1   \n",
       "7418  122.0           4          1           3             1         3   \n",
       "7419   53.0           2          1           1             0         3   \n",
       "\n",
       "      typeOfArea  marketSegment  Year_0  Year_1  Year_2  Year_3  Year_4  \\\n",
       "0              1              2     1.0     0.0     0.0     0.0     0.0   \n",
       "1              1              2     0.0     0.0     0.0     0.0     1.0   \n",
       "2              1              1     0.0     0.0     1.0     0.0     0.0   \n",
       "3              1              2     0.0     0.0     1.0     0.0     0.0   \n",
       "4              1              2     0.0     1.0     0.0     0.0     0.0   \n",
       "...          ...            ...     ...     ...     ...     ...     ...   \n",
       "7415           1              2     0.0     0.0     0.0     0.0     1.0   \n",
       "7416           1              1     1.0     0.0     0.0     0.0     0.0   \n",
       "7417           1              0     0.0     0.0     0.0     0.0     0.0   \n",
       "7418           1              2     0.0     0.0     1.0     0.0     0.0   \n",
       "7419           1              2     0.0     0.0     1.0     0.0     0.0   \n",
       "\n",
       "      Year_5    price         Label  \n",
       "0        0.0  1888000  1.708071e+06  \n",
       "1        0.0  2171000  1.996152e+06  \n",
       "2        0.0   699000  8.798429e+05  \n",
       "3        0.0  1320000  1.545181e+06  \n",
       "4        0.0  1571100  1.518507e+06  \n",
       "...      ...      ...           ...  \n",
       "7415     0.0   980000  1.092065e+06  \n",
       "7416     0.0   944000  1.185677e+06  \n",
       "7417     1.0  2854088  2.759288e+06  \n",
       "7418     0.0  1990000  1.985346e+06  \n",
       "7419     0.0  1286000  1.118181e+06  \n",
       "\n",
       "[7420 rows x 16 columns]"
      ]
     },
     "execution_count": 202,
     "metadata": {},
     "output_type": "execute_result"
    }
   ],
   "source": [
    "# predict on hold-out\n",
    "predict_model(lr)"
   ]
  }
 ],
 "metadata": {
  "kernelspec": {
   "display_name": "Python 3",
   "language": "python",
   "name": "python3"
  },
  "language_info": {
   "codemirror_mode": {
    "name": "ipython",
    "version": 3
   },
   "file_extension": ".py",
   "mimetype": "text/x-python",
   "name": "python",
   "nbconvert_exporter": "python",
   "pygments_lexer": "ipython3",
   "version": "3.8.5"
  }
 },
 "nbformat": 4,
 "nbformat_minor": 4
}
